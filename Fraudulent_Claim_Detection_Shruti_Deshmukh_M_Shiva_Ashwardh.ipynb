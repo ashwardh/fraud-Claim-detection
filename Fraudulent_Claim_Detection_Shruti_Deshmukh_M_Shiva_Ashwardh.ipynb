{
 "cells": [
  {
   "cell_type": "markdown",
   "metadata": {
    "id": "uJ6cv25EDPWV"
   },
   "source": [
    "## **Fraudulent Claim Detection**"
   ]
  },
  {
   "cell_type": "markdown",
   "metadata": {
    "id": "_rLrWLwZDPWW"
   },
   "source": [
    "## Problem Statement\n",
    "Global Insure, a leading insurance company, processes thousands of claims annually. However, a significant percentage of these claims turn out to be fraudulent, resulting in considerable financial losses. The company’s current process for identifying fraudulent claims involves manual inspections, which is time-consuming and inefficient. Fraudulent claims are often detected too late in the process, after the company has already paid out significant amounts. Global Insure wants to improve its fraud detection process using data-driven insights to classify claims as fraudulent or legitimate early in the approval process. This would minimise financial losses and optimise the overall claims handling process.\n",
    "\n",
    "## Business Objective\n",
    "Global Insure wants to build a model to classify insurance claims as either fraudulent or legitimate based on historical claim details and customer profiles. By using features like claim amounts, customer profiles and claim types, the company aims to predict which claims are likely to be fraudulent before they are approved.\n",
    "\n",
    "\n",
    "Based on this assignment, you have to answer the following questions:<br>\n",
    "\n",
    "● How can we analyse historical claim data to detect patterns that indicate fraudulent claims?<br>\n",
    "● Which features are most predictive of fraudulent behaviour?<br>\n",
    "● Can we predict the likelihood of fraud for an incoming claim, based on past data?<br>\n",
    "● What insights can be drawn from the model that can help in improving the fraud detection process?<br>"
   ]
  },
  {
   "cell_type": "markdown",
   "metadata": {
    "id": "dCp1H_XyDPWX"
   },
   "source": [
    "## Assignment Tasks\n",
    "You need to perform the following steps for successfully completing this assignment:\n",
    "1. Data Preparation\n",
    "2. Data Cleaning\n",
    "3. Train Validation Split 70-30\n",
    "4. EDA on Training Data\n",
    "5. EDA on Validation Data (optional)\n",
    "6. Feature Engineering\n",
    "7. Model Building\n",
    "8. Predicting and Model Evaluation"
   ]
  },
  {
   "cell_type": "markdown",
   "metadata": {
    "id": "PPnbScj6sHfw"
   },
   "source": [
    "## Data Dictionary\n",
    "The insurance claims data has 40 Columns and 1000 Rows. Following data dictionary provides the description for each column present in dataset:<br>\n",
    "\n",
    "<table>\n",
    "  <thead>\n",
    "    <tr>\n",
    "      <th>Column Name</th>\n",
    "      <th>Description</th>\n",
    "    </tr>\n",
    "  </thead>\n",
    "  <tbody>\n",
    "    <tr>\n",
    "      <td>months_as_customer</td>\n",
    "      <td>Represents the duration in months that a customer has been associated with the insurance company.</td>\n",
    "    </tr>\n",
    "    <tr>\n",
    "      <td>age</td>\n",
    "      <td>Represents the age of the insured person.</td>\n",
    "    </tr>\n",
    "    <tr>\n",
    "      <td>policy_number</td>\n",
    "      <td>Represents a unique identifier for each insurance policy.</td>\n",
    "    </tr>\n",
    "    <tr>\n",
    "      <td>policy_bind_date</td>\n",
    "      <td>Represents the date when the insurance policy was initiated.</td>\n",
    "    </tr>\n",
    "    <tr>\n",
    "      <td>policy_state</td>\n",
    "      <td>Represents the state where the insurance policy is applicable.</td>\n",
    "    </tr>\n",
    "    <tr>\n",
    "      <td>policy_csl</td>\n",
    "      <td>Represents the combined single limit for the insurance policy.</td>\n",
    "    </tr>\n",
    "    <tr>\n",
    "      <td>policy_deductable</td>\n",
    "      <td>Represents the amount that the insured person needs to pay before the insurance coverage kicks in.</td>\n",
    "    </tr>\n",
    "    <tr>\n",
    "      <td>policy_annual_premium</td>\n",
    "      <td>Represents the yearly cost of the insurance policy.</td>\n",
    "    </tr>\n",
    "    <tr>\n",
    "      <td>umbrella_limit</td>\n",
    "      <td>Represents an additional layer of liability coverage provided beyond the limits of the primary insurance policy.</td>\n",
    "    </tr>\n",
    "    <tr>\n",
    "      <td>insured_zip</td>\n",
    "      <td>Represents the zip code of the insured person.</td>\n",
    "    </tr>\n",
    "    <tr>\n",
    "      <td>insured_sex</td>\n",
    "      <td>Represents the gender of the insured person.</td>\n",
    "    </tr>\n",
    "    <tr>\n",
    "      <td>insured_education_level</td>\n",
    "      <td>Represents the highest educational qualification of the insured person.</td>\n",
    "    </tr>\n",
    "    <tr>\n",
    "      <td>insured_occupation</td>\n",
    "      <td>Represents the profession or job of the insured person.</td>\n",
    "    </tr>\n",
    "    <tr>\n",
    "      <td>insured_hobbies</td>\n",
    "      <td>Represents the hobbies or leisure activities of the insured person.</td>\n",
    "    </tr>\n",
    "    <tr>\n",
    "      <td>insured_relationship</td>\n",
    "      <td>Represents the relationship of the insured person to the policyholder.</td>\n",
    "    </tr>\n",
    "    <tr>\n",
    "      <td>capital-gains</td>\n",
    "      <td>Represents the profit earned from the sale of assets such as stocks, bonds, or real estate.</td>\n",
    "    </tr>\n",
    "    <tr>\n",
    "      <td>capital-loss</td>\n",
    "      <td>Represents the loss incurred from the sale of assets such as stocks, bonds, or real estate.</td>\n",
    "    </tr>\n",
    "    <tr>\n",
    "      <td>incident_date</td>\n",
    "      <td>Represents the date when the incident or accident occurred.</td>\n",
    "    </tr>\n",
    "    <tr>\n",
    "      <td>incident_type</td>\n",
    "      <td>Represents the category or type of incident that led to the claim.</td>\n",
    "    </tr>\n",
    "    <tr>\n",
    "      <td>collision_type</td>\n",
    "      <td>Represents the type of collision that occurred in an accident.</td>\n",
    "    </tr>\n",
    "    <tr>\n",
    "      <td>incident_severity</td>\n",
    "      <td>Represents the extent of damage or injury caused by the incident.</td>\n",
    "    </tr>\n",
    "    <tr>\n",
    "      <td>authorities_contacted</td>\n",
    "      <td>Represents the authorities or agencies that were contacted after the incident.</td>\n",
    "    </tr>\n",
    "    <tr>\n",
    "      <td>incident_state</td>\n",
    "      <td>Represents the state where the incident occurred.</td>\n",
    "    </tr>\n",
    "    <tr>\n",
    "      <td>incident_city</td>\n",
    "      <td>Represents the city where the incident occurred.</td>\n",
    "    </tr>\n",
    "    <tr>\n",
    "      <td>incident_location</td>\n",
    "      <td>Represents the specific location or address where the incident occurred.</td>\n",
    "    </tr>\n",
    "    <tr>\n",
    "      <td>incident_hour_of_the_day</td>\n",
    "      <td>Represents the hour of the day when the incident occurred.</td>\n",
    "    </tr>\n",
    "    <tr>\n",
    "      <td>number_of_vehicles_involved</td>\n",
    "      <td>Represents the total number of vehicles involved in the incident.</td>\n",
    "    </tr>\n",
    "    <tr>\n",
    "      <td>property_damage</td>\n",
    "      <td>Represents whether there was any damage to property in the incident.</td>\n",
    "    </tr>\n",
    "    <tr>\n",
    "      <td>bodily_injuries</td>\n",
    "      <td>Represents the number of bodily injuries resulting from the incident.</td>\n",
    "    </tr>\n",
    "    <tr>\n",
    "      <td>witnesses</td>\n",
    "      <td>Represents the number of witnesses present at the scene of the incident.</td>\n",
    "    </tr>\n",
    "    <tr>\n",
    "      <td>police_report_available</td>\n",
    "      <td>Represents whether a police report is available for the incident.</td>\n",
    "    </tr>\n",
    "    <tr>\n",
    "      <td>total_claim_amount</td>\n",
    "      <td>Represents the total amount claimed by the insured person for the incident.</td>\n",
    "    </tr>\n",
    "    <tr>\n",
    "      <td>injury_claim</td>\n",
    "      <td>Represents the amount claimed for injuries sustained in the incident.</td>\n",
    "    </tr>\n",
    "    <tr>\n",
    "      <td>property_claim</td>\n",
    "      <td>Represents the amount claimed for property damage in the incident.</td>\n",
    "    </tr>\n",
    "    <tr>\n",
    "      <td>vehicle_claim</td>\n",
    "      <td>Represents the amount claimed for vehicle damage in the incident.</td>\n",
    "    </tr>\n",
    "    <tr>\n",
    "      <td>auto_make</td>\n",
    "      <td>Represents the manufacturer of the insured vehicle.</td>\n",
    "    </tr>\n",
    "    <tr>\n",
    "      <td>auto_model</td>\n",
    "      <td>Represents the specific model of the insured vehicle.</td>\n",
    "    </tr>\n",
    "    <tr>\n",
    "      <td>auto_year</td>\n",
    "      <td>Represents the year of manufacture of the insured vehicle.</td>\n",
    "    </tr>\n",
    "    <tr>\n",
    "      <td>fraud_reported</td>\n",
    "      <td>Represents whether the claim was reported as fraudulent or not.</td>\n",
    "    </tr>\n",
    "    <tr>\n",
    "      <td>_c39</td>\n",
    "      <td>Represents an unknown or unspecified variable.</td>\n",
    "    </tr>\n",
    "  </tbody>\n",
    "</table>"
   ]
  },
  {
   "cell_type": "markdown",
   "metadata": {
    "id": "2Hfg3nHjDPWY"
   },
   "source": [
    "## **1. Data Preparation**\n",
    "In this step, read the dataset provided in CSV format and look at basic statistics of the data, including preview of data, dimension of data, column descriptions and data types."
   ]
  },
  {
   "cell_type": "markdown",
   "metadata": {
    "id": "2xZBs5L_DPWY"
   },
   "source": [
    "### **1.0 Import Libraries**"
   ]
  },
  {
   "cell_type": "code",
   "execution_count": 7,
   "metadata": {
    "id": "2xUZYP92DPWY"
   },
   "outputs": [],
   "source": [
    "# Supress unnecessary warnings\n",
    "import warnings\n",
    "warnings.filterwarnings(\"ignore\")"
   ]
  },
  {
   "cell_type": "code",
   "execution_count": 8,
   "metadata": {
    "id": "6glz5HkPDPWZ"
   },
   "outputs": [],
   "source": [
    "# Import necessary libraries\n",
    "import numpy as np\n",
    "import pandas as pd\n",
    "import seaborn as sns\n",
    "import matplotlib.pyplot as plt"
   ]
  },
  {
   "cell_type": "markdown",
   "metadata": {
    "id": "D8-RBUdWDPWZ"
   },
   "source": [
    "### **1.1 Load the Data**"
   ]
  },
  {
   "cell_type": "code",
   "execution_count": 10,
   "metadata": {
    "id": "kP0JaSjJDPWZ"
   },
   "outputs": [],
   "source": [
    "# Load the dataset\n",
    "dataset=pd.read_csv('insurance_claims.csv')"
   ]
  },
  {
   "cell_type": "code",
   "execution_count": 11,
   "metadata": {
    "id": "qaR4TkqTDPWZ"
   },
   "outputs": [
    {
     "data": {
      "text/html": [
       "<div>\n",
       "<style scoped>\n",
       "    .dataframe tbody tr th:only-of-type {\n",
       "        vertical-align: middle;\n",
       "    }\n",
       "\n",
       "    .dataframe tbody tr th {\n",
       "        vertical-align: top;\n",
       "    }\n",
       "\n",
       "    .dataframe thead th {\n",
       "        text-align: right;\n",
       "    }\n",
       "</style>\n",
       "<table border=\"1\" class=\"dataframe\">\n",
       "  <thead>\n",
       "    <tr style=\"text-align: right;\">\n",
       "      <th></th>\n",
       "      <th>months_as_customer</th>\n",
       "      <th>age</th>\n",
       "      <th>policy_number</th>\n",
       "      <th>policy_bind_date</th>\n",
       "      <th>policy_state</th>\n",
       "      <th>policy_csl</th>\n",
       "      <th>policy_deductable</th>\n",
       "      <th>policy_annual_premium</th>\n",
       "      <th>umbrella_limit</th>\n",
       "      <th>insured_zip</th>\n",
       "      <th>...</th>\n",
       "      <th>police_report_available</th>\n",
       "      <th>total_claim_amount</th>\n",
       "      <th>injury_claim</th>\n",
       "      <th>property_claim</th>\n",
       "      <th>vehicle_claim</th>\n",
       "      <th>auto_make</th>\n",
       "      <th>auto_model</th>\n",
       "      <th>auto_year</th>\n",
       "      <th>fraud_reported</th>\n",
       "      <th>_c39</th>\n",
       "    </tr>\n",
       "  </thead>\n",
       "  <tbody>\n",
       "    <tr>\n",
       "      <th>0</th>\n",
       "      <td>328</td>\n",
       "      <td>48</td>\n",
       "      <td>521585</td>\n",
       "      <td>2014-10-17</td>\n",
       "      <td>OH</td>\n",
       "      <td>250/500</td>\n",
       "      <td>1000</td>\n",
       "      <td>1406.91</td>\n",
       "      <td>0</td>\n",
       "      <td>466132</td>\n",
       "      <td>...</td>\n",
       "      <td>YES</td>\n",
       "      <td>71610</td>\n",
       "      <td>6510</td>\n",
       "      <td>13020</td>\n",
       "      <td>52080</td>\n",
       "      <td>Saab</td>\n",
       "      <td>92x</td>\n",
       "      <td>2004</td>\n",
       "      <td>Y</td>\n",
       "      <td>NaN</td>\n",
       "    </tr>\n",
       "    <tr>\n",
       "      <th>1</th>\n",
       "      <td>228</td>\n",
       "      <td>42</td>\n",
       "      <td>342868</td>\n",
       "      <td>2006-06-27</td>\n",
       "      <td>IN</td>\n",
       "      <td>250/500</td>\n",
       "      <td>2000</td>\n",
       "      <td>1197.22</td>\n",
       "      <td>5000000</td>\n",
       "      <td>468176</td>\n",
       "      <td>...</td>\n",
       "      <td>?</td>\n",
       "      <td>5070</td>\n",
       "      <td>780</td>\n",
       "      <td>780</td>\n",
       "      <td>3510</td>\n",
       "      <td>Mercedes</td>\n",
       "      <td>E400</td>\n",
       "      <td>2007</td>\n",
       "      <td>Y</td>\n",
       "      <td>NaN</td>\n",
       "    </tr>\n",
       "    <tr>\n",
       "      <th>2</th>\n",
       "      <td>134</td>\n",
       "      <td>29</td>\n",
       "      <td>687698</td>\n",
       "      <td>2000-09-06</td>\n",
       "      <td>OH</td>\n",
       "      <td>100/300</td>\n",
       "      <td>2000</td>\n",
       "      <td>1413.14</td>\n",
       "      <td>5000000</td>\n",
       "      <td>430632</td>\n",
       "      <td>...</td>\n",
       "      <td>NO</td>\n",
       "      <td>34650</td>\n",
       "      <td>7700</td>\n",
       "      <td>3850</td>\n",
       "      <td>23100</td>\n",
       "      <td>Dodge</td>\n",
       "      <td>RAM</td>\n",
       "      <td>2007</td>\n",
       "      <td>N</td>\n",
       "      <td>NaN</td>\n",
       "    </tr>\n",
       "    <tr>\n",
       "      <th>3</th>\n",
       "      <td>256</td>\n",
       "      <td>41</td>\n",
       "      <td>227811</td>\n",
       "      <td>1990-05-25</td>\n",
       "      <td>IL</td>\n",
       "      <td>250/500</td>\n",
       "      <td>2000</td>\n",
       "      <td>1415.74</td>\n",
       "      <td>6000000</td>\n",
       "      <td>608117</td>\n",
       "      <td>...</td>\n",
       "      <td>NO</td>\n",
       "      <td>63400</td>\n",
       "      <td>6340</td>\n",
       "      <td>6340</td>\n",
       "      <td>50720</td>\n",
       "      <td>Chevrolet</td>\n",
       "      <td>Tahoe</td>\n",
       "      <td>2014</td>\n",
       "      <td>Y</td>\n",
       "      <td>NaN</td>\n",
       "    </tr>\n",
       "    <tr>\n",
       "      <th>4</th>\n",
       "      <td>228</td>\n",
       "      <td>44</td>\n",
       "      <td>367455</td>\n",
       "      <td>2014-06-06</td>\n",
       "      <td>IL</td>\n",
       "      <td>500/1000</td>\n",
       "      <td>1000</td>\n",
       "      <td>1583.91</td>\n",
       "      <td>6000000</td>\n",
       "      <td>610706</td>\n",
       "      <td>...</td>\n",
       "      <td>NO</td>\n",
       "      <td>6500</td>\n",
       "      <td>1300</td>\n",
       "      <td>650</td>\n",
       "      <td>4550</td>\n",
       "      <td>Accura</td>\n",
       "      <td>RSX</td>\n",
       "      <td>2009</td>\n",
       "      <td>N</td>\n",
       "      <td>NaN</td>\n",
       "    </tr>\n",
       "  </tbody>\n",
       "</table>\n",
       "<p>5 rows × 40 columns</p>\n",
       "</div>"
      ],
      "text/plain": [
       "   months_as_customer  age  policy_number policy_bind_date policy_state  \\\n",
       "0                 328   48         521585       2014-10-17           OH   \n",
       "1                 228   42         342868       2006-06-27           IN   \n",
       "2                 134   29         687698       2000-09-06           OH   \n",
       "3                 256   41         227811       1990-05-25           IL   \n",
       "4                 228   44         367455       2014-06-06           IL   \n",
       "\n",
       "  policy_csl  policy_deductable  policy_annual_premium  umbrella_limit  \\\n",
       "0    250/500               1000                1406.91               0   \n",
       "1    250/500               2000                1197.22         5000000   \n",
       "2    100/300               2000                1413.14         5000000   \n",
       "3    250/500               2000                1415.74         6000000   \n",
       "4   500/1000               1000                1583.91         6000000   \n",
       "\n",
       "   insured_zip  ... police_report_available total_claim_amount injury_claim  \\\n",
       "0       466132  ...                     YES              71610         6510   \n",
       "1       468176  ...                       ?               5070          780   \n",
       "2       430632  ...                      NO              34650         7700   \n",
       "3       608117  ...                      NO              63400         6340   \n",
       "4       610706  ...                      NO               6500         1300   \n",
       "\n",
       "  property_claim vehicle_claim  auto_make  auto_model auto_year  \\\n",
       "0          13020         52080       Saab         92x      2004   \n",
       "1            780          3510   Mercedes        E400      2007   \n",
       "2           3850         23100      Dodge         RAM      2007   \n",
       "3           6340         50720  Chevrolet       Tahoe      2014   \n",
       "4            650          4550     Accura         RSX      2009   \n",
       "\n",
       "  fraud_reported _c39  \n",
       "0              Y  NaN  \n",
       "1              Y  NaN  \n",
       "2              N  NaN  \n",
       "3              Y  NaN  \n",
       "4              N  NaN  \n",
       "\n",
       "[5 rows x 40 columns]"
      ]
     },
     "execution_count": 11,
     "metadata": {},
     "output_type": "execute_result"
    }
   ],
   "source": [
    "# Check at the first few entries\n",
    "dataset.head()"
   ]
  },
  {
   "cell_type": "code",
   "execution_count": 12,
   "metadata": {
    "id": "TK9_lipzDPWa"
   },
   "outputs": [
    {
     "data": {
      "text/plain": [
       "(1000, 40)"
      ]
     },
     "execution_count": 12,
     "metadata": {},
     "output_type": "execute_result"
    }
   ],
   "source": [
    "# Inspect the shape of the dataset\n",
    "dataset.shape"
   ]
  },
  {
   "cell_type": "code",
   "execution_count": 13,
   "metadata": {
    "id": "Fd0PADNIuqov"
   },
   "outputs": [
    {
     "name": "stdout",
     "output_type": "stream",
     "text": [
      "<class 'pandas.core.frame.DataFrame'>\n",
      "RangeIndex: 1000 entries, 0 to 999\n",
      "Data columns (total 40 columns):\n",
      " #   Column                       Non-Null Count  Dtype  \n",
      "---  ------                       --------------  -----  \n",
      " 0   months_as_customer           1000 non-null   int64  \n",
      " 1   age                          1000 non-null   int64  \n",
      " 2   policy_number                1000 non-null   int64  \n",
      " 3   policy_bind_date             1000 non-null   object \n",
      " 4   policy_state                 1000 non-null   object \n",
      " 5   policy_csl                   1000 non-null   object \n",
      " 6   policy_deductable            1000 non-null   int64  \n",
      " 7   policy_annual_premium        1000 non-null   float64\n",
      " 8   umbrella_limit               1000 non-null   int64  \n",
      " 9   insured_zip                  1000 non-null   int64  \n",
      " 10  insured_sex                  1000 non-null   object \n",
      " 11  insured_education_level      1000 non-null   object \n",
      " 12  insured_occupation           1000 non-null   object \n",
      " 13  insured_hobbies              1000 non-null   object \n",
      " 14  insured_relationship         1000 non-null   object \n",
      " 15  capital-gains                1000 non-null   int64  \n",
      " 16  capital-loss                 1000 non-null   int64  \n",
      " 17  incident_date                1000 non-null   object \n",
      " 18  incident_type                1000 non-null   object \n",
      " 19  collision_type               1000 non-null   object \n",
      " 20  incident_severity            1000 non-null   object \n",
      " 21  authorities_contacted        909 non-null    object \n",
      " 22  incident_state               1000 non-null   object \n",
      " 23  incident_city                1000 non-null   object \n",
      " 24  incident_location            1000 non-null   object \n",
      " 25  incident_hour_of_the_day     1000 non-null   int64  \n",
      " 26  number_of_vehicles_involved  1000 non-null   int64  \n",
      " 27  property_damage              1000 non-null   object \n",
      " 28  bodily_injuries              1000 non-null   int64  \n",
      " 29  witnesses                    1000 non-null   int64  \n",
      " 30  police_report_available      1000 non-null   object \n",
      " 31  total_claim_amount           1000 non-null   int64  \n",
      " 32  injury_claim                 1000 non-null   int64  \n",
      " 33  property_claim               1000 non-null   int64  \n",
      " 34  vehicle_claim                1000 non-null   int64  \n",
      " 35  auto_make                    1000 non-null   object \n",
      " 36  auto_model                   1000 non-null   object \n",
      " 37  auto_year                    1000 non-null   int64  \n",
      " 38  fraud_reported               1000 non-null   object \n",
      " 39  _c39                         0 non-null      float64\n",
      "dtypes: float64(2), int64(17), object(21)\n",
      "memory usage: 312.6+ KB\n"
     ]
    }
   ],
   "source": [
    "# Inspect the features in the dataset\n",
    "dataset.info()"
   ]
  },
  {
   "cell_type": "markdown",
   "metadata": {
    "id": "YRijmf2EDPWa"
   },
   "source": [
    "## **2. Data Cleaning** <font color = red>[10 marks]</font>"
   ]
  },
  {
   "cell_type": "markdown",
   "metadata": {
    "id": "DxXOACINDPWa"
   },
   "source": [
    "### **2.1 Handle null values** <font color = red>[2 marks]</font>"
   ]
  },
  {
   "cell_type": "markdown",
   "metadata": {
    "id": "kJDjZSkmDPWa"
   },
   "source": [
    "#### **2.1.1** Examine the columns to determine if any value or column needs to be treated <font color=\"red\">[1 Mark]</font>"
   ]
  },
  {
   "cell_type": "code",
   "execution_count": 17,
   "metadata": {
    "id": "3B4OtvQlDPWa"
   },
   "outputs": [
    {
     "data": {
      "text/plain": [
       "months_as_customer                0\n",
       "age                               0\n",
       "policy_number                     0\n",
       "policy_bind_date                  0\n",
       "policy_state                      0\n",
       "policy_csl                        0\n",
       "policy_deductable                 0\n",
       "policy_annual_premium             0\n",
       "umbrella_limit                    0\n",
       "insured_zip                       0\n",
       "insured_sex                       0\n",
       "insured_education_level           0\n",
       "insured_occupation                0\n",
       "insured_hobbies                   0\n",
       "insured_relationship              0\n",
       "capital-gains                     0\n",
       "capital-loss                      0\n",
       "incident_date                     0\n",
       "incident_type                     0\n",
       "collision_type                    0\n",
       "incident_severity                 0\n",
       "authorities_contacted            91\n",
       "incident_state                    0\n",
       "incident_city                     0\n",
       "incident_location                 0\n",
       "incident_hour_of_the_day          0\n",
       "number_of_vehicles_involved       0\n",
       "property_damage                   0\n",
       "bodily_injuries                   0\n",
       "witnesses                         0\n",
       "police_report_available           0\n",
       "total_claim_amount                0\n",
       "injury_claim                      0\n",
       "property_claim                    0\n",
       "vehicle_claim                     0\n",
       "auto_make                         0\n",
       "auto_model                        0\n",
       "auto_year                         0\n",
       "fraud_reported                    0\n",
       "_c39                           1000\n",
       "dtype: int64"
      ]
     },
     "execution_count": 17,
     "metadata": {},
     "output_type": "execute_result"
    }
   ],
   "source": [
    "# Check the number of missing values in each column\n",
    "dataset.isnull().sum()"
   ]
  },
  {
   "cell_type": "markdown",
   "metadata": {
    "id": "AE6K2iqkDPWb"
   },
   "source": [
    "#### **2.1.2** Handle rows containing null values <font color=\"red\">[1 Mark]</font>"
   ]
  },
  {
   "cell_type": "code",
   "execution_count": 19,
   "metadata": {
    "id": "88PX2r5hDPWb"
   },
   "outputs": [
    {
     "data": {
      "text/plain": [
       "months_as_customer               0\n",
       "age                              0\n",
       "policy_number                    0\n",
       "policy_bind_date                 0\n",
       "policy_state                     0\n",
       "policy_csl                       0\n",
       "policy_deductable                0\n",
       "policy_annual_premium            0\n",
       "umbrella_limit                   0\n",
       "insured_zip                      0\n",
       "insured_sex                      0\n",
       "insured_education_level          0\n",
       "insured_occupation               0\n",
       "insured_hobbies                  0\n",
       "insured_relationship             0\n",
       "capital-gains                    0\n",
       "capital-loss                     0\n",
       "incident_date                    0\n",
       "incident_type                    0\n",
       "collision_type                   0\n",
       "incident_severity                0\n",
       "authorities_contacted            0\n",
       "incident_state                   0\n",
       "incident_city                    0\n",
       "incident_location                0\n",
       "incident_hour_of_the_day         0\n",
       "number_of_vehicles_involved      0\n",
       "property_damage                  0\n",
       "bodily_injuries                  0\n",
       "witnesses                        0\n",
       "police_report_available          0\n",
       "total_claim_amount               0\n",
       "injury_claim                     0\n",
       "property_claim                   0\n",
       "vehicle_claim                    0\n",
       "auto_make                        0\n",
       "auto_model                       0\n",
       "auto_year                        0\n",
       "fraud_reported                   0\n",
       "_c39                           909\n",
       "dtype: int64"
      ]
     },
     "execution_count": 19,
     "metadata": {},
     "output_type": "execute_result"
    }
   ],
   "source": [
    "# Handle the rows containing null values\n",
    "df_cleaned = dataset.dropna(subset = ['authorities_contacted'])\n",
    "\n",
    "# Check for any remaining missing values\n",
    "df_cleaned.isnull().sum()"
   ]
  },
  {
   "cell_type": "markdown",
   "metadata": {
    "id": "202JyqOjDPWb"
   },
   "source": [
    "### **2.2 Identify and handle redundant values and columns** <font color = red>[5 marks]</font>"
   ]
  },
  {
   "cell_type": "markdown",
   "metadata": {
    "id": "fSh2wYZoDPWb"
   },
   "source": [
    "#### **2.2.1** Examine the columns to determine if any value or column needs to be treated <font color=\"red\">[2 Mark]</font>"
   ]
  },
  {
   "cell_type": "code",
   "execution_count": null,
   "metadata": {},
   "outputs": [],
   "source": []
  },
  {
   "cell_type": "code",
   "execution_count": 22,
   "metadata": {
    "id": "1x0Cn8BiDPWb"
   },
   "outputs": [
    {
     "data": {
      "text/plain": [
       "{'months_as_customer': months_as_customer\n",
       " 285    7\n",
       " 128    7\n",
       " 254    7\n",
       " 230    7\n",
       " 259    6\n",
       "       ..\n",
       " 60     1\n",
       " 447    1\n",
       " 414    1\n",
       " 352    1\n",
       " 17     1\n",
       " Name: count, Length: 384, dtype: int64,\n",
       " 'age': age\n",
       " 43    45\n",
       " 41    43\n",
       " 39    43\n",
       " 38    40\n",
       " 37    39\n",
       " 30    38\n",
       " 32    36\n",
       " 34    36\n",
       " 31    35\n",
       " 33    35\n",
       " 40    34\n",
       " 29    32\n",
       " 46    31\n",
       " 42    30\n",
       " 36    29\n",
       " 44    29\n",
       " 28    28\n",
       " 35    26\n",
       " 26    25\n",
       " 45    24\n",
       " 48    23\n",
       " 47    22\n",
       " 27    21\n",
       " 57    14\n",
       " 50    13\n",
       " 53    13\n",
       " 55    12\n",
       " 25    12\n",
       " 54    10\n",
       " 61    10\n",
       " 49     9\n",
       " 60     9\n",
       " 56     8\n",
       " 51     8\n",
       " 24     8\n",
       " 58     8\n",
       " 23     7\n",
       " 21     6\n",
       " 52     4\n",
       " 62     4\n",
       " 59     4\n",
       " 64     2\n",
       " 19     1\n",
       " 20     1\n",
       " 22     1\n",
       " 63     1\n",
       " Name: count, dtype: int64,\n",
       " 'policy_number': policy_number\n",
       " 521585    1\n",
       " 797634    1\n",
       " 261905    1\n",
       " 674485    1\n",
       " 223404    1\n",
       "          ..\n",
       " 613226    1\n",
       " 804410    1\n",
       " 553565    1\n",
       " 399524    1\n",
       " 556080    1\n",
       " Name: count, Length: 909, dtype: int64,\n",
       " 'policy_bind_date': policy_bind_date\n",
       " 2006-01-01    3\n",
       " 1992-04-28    3\n",
       " 1992-08-05    3\n",
       " 1992-01-05    2\n",
       " 2002-12-21    2\n",
       "              ..\n",
       " 2013-07-07    1\n",
       " 2003-07-05    1\n",
       " 1995-02-18    1\n",
       " 2014-12-13    1\n",
       " 1996-11-11    1\n",
       " Name: count, Length: 865, dtype: int64,\n",
       " 'policy_state': policy_state\n",
       " OH    319\n",
       " IL    310\n",
       " IN    280\n",
       " Name: count, dtype: int64,\n",
       " 'policy_csl': policy_csl\n",
       " 100/300     326\n",
       " 250/500     316\n",
       " 500/1000    267\n",
       " Name: count, dtype: int64,\n",
       " 'policy_deductable': policy_deductable\n",
       " 1000    317\n",
       " 500     315\n",
       " 2000    277\n",
       " Name: count, dtype: int64,\n",
       " 'policy_annual_premium': policy_annual_premium\n",
       " 1362.87    2\n",
       " 1215.36    2\n",
       " 1524.45    2\n",
       " 1374.22    2\n",
       " 1558.29    2\n",
       "           ..\n",
       " 929.70     1\n",
       " 1829.63    1\n",
       " 904.70     1\n",
       " 1243.84    1\n",
       " 766.19     1\n",
       " Name: count, Length: 903, dtype: int64,\n",
       " 'umbrella_limit': umbrella_limit\n",
       "  0           726\n",
       "  6000000      50\n",
       "  5000000      43\n",
       "  4000000      37\n",
       "  7000000      24\n",
       "  3000000      11\n",
       "  8000000       8\n",
       "  9000000       4\n",
       "  2000000       3\n",
       "  10000000      2\n",
       " -1000000       1\n",
       " Name: count, dtype: int64,\n",
       " 'insured_zip': insured_zip\n",
       " 477695    2\n",
       " 469429    2\n",
       " 456602    2\n",
       " 431202    2\n",
       " 446895    2\n",
       "          ..\n",
       " 460722    1\n",
       " 618632    1\n",
       " 452204    1\n",
       " 454530    1\n",
       " 612260    1\n",
       " Name: count, Length: 904, dtype: int64,\n",
       " 'insured_sex': insured_sex\n",
       " FEMALE    494\n",
       " MALE      415\n",
       " Name: count, dtype: int64,\n",
       " 'insured_education_level': insured_education_level\n",
       " High School    146\n",
       " JD             145\n",
       " MD             132\n",
       " Masters        130\n",
       " Associate      129\n",
       " PhD            115\n",
       " College        112\n",
       " Name: count, dtype: int64,\n",
       " 'insured_occupation': insured_occupation\n",
       " machine-op-inspct    87\n",
       " prof-specialty       77\n",
       " tech-support         71\n",
       " craft-repair         70\n",
       " sales                70\n",
       " exec-managerial      68\n",
       " transport-moving     67\n",
       " priv-house-serv      66\n",
       " other-service        61\n",
       " armed-forces         59\n",
       " protective-serv      58\n",
       " adm-clerical         54\n",
       " handlers-cleaners    53\n",
       " farming-fishing      48\n",
       " Name: count, dtype: int64,\n",
       " 'insured_hobbies': insured_hobbies\n",
       " reading           58\n",
       " exercise          54\n",
       " bungie-jumping    52\n",
       " camping           50\n",
       " movies            50\n",
       " hiking            50\n",
       " yachting          49\n",
       " paintball         49\n",
       " golf              47\n",
       " skydiving         47\n",
       " kayaking          46\n",
       " base-jumping      43\n",
       " board-games       43\n",
       " chess             43\n",
       " video-games       43\n",
       " polo              42\n",
       " dancing           40\n",
       " sleeping          38\n",
       " cross-fit         34\n",
       " basketball        31\n",
       " Name: count, dtype: int64,\n",
       " 'insured_relationship': insured_relationship\n",
       " own-child         165\n",
       " other-relative    164\n",
       " husband           156\n",
       " not-in-family     156\n",
       " wife              139\n",
       " unmarried         129\n",
       " Name: count, dtype: int64,\n",
       " 'capital-gains': capital-gains\n",
       " 0        466\n",
       " 46300      5\n",
       " 51500      4\n",
       " 56700      3\n",
       " 51100      3\n",
       "         ... \n",
       " 48800      1\n",
       " 54800      1\n",
       " 64000      1\n",
       " 56900      1\n",
       " 70900      1\n",
       " Name: count, Length: 312, dtype: int64,\n",
       " 'capital-loss': capital-loss\n",
       "  0        432\n",
       " -50300      5\n",
       " -45300      4\n",
       " -31400      4\n",
       " -51000      4\n",
       "          ... \n",
       " -45500      1\n",
       " -71000      1\n",
       " -67300      1\n",
       " -19700      1\n",
       " -32200      1\n",
       " Name: count, Length: 341, dtype: int64,\n",
       " 'incident_date': incident_date\n",
       " 2015-02-02    25\n",
       " 2015-01-07    24\n",
       " 2015-02-17    23\n",
       " 2015-01-10    23\n",
       " 2015-02-04    23\n",
       " 2015-01-24    21\n",
       " 2015-01-08    21\n",
       " 2015-01-30    20\n",
       " 2015-01-19    20\n",
       " 2015-02-06    19\n",
       " 2015-01-14    19\n",
       " 2015-02-12    19\n",
       " 2015-01-13    18\n",
       " 2015-01-12    18\n",
       " 2015-02-14    18\n",
       " 2015-01-31    18\n",
       " 2015-02-23    18\n",
       " 2015-02-08    17\n",
       " 2015-02-22    17\n",
       " 2015-01-21    17\n",
       " 2015-02-01    17\n",
       " 2015-01-09    17\n",
       " 2015-02-21    16\n",
       " 2015-01-03    16\n",
       " 2015-02-15    16\n",
       " 2015-01-20    16\n",
       " 2015-02-25    16\n",
       " 2015-01-01    16\n",
       " 2015-01-06    16\n",
       " 2015-02-28    16\n",
       " 2015-01-18    15\n",
       " 2015-01-16    15\n",
       " 2015-02-13    15\n",
       " 2015-02-24    15\n",
       " 2015-02-18    14\n",
       " 2015-02-26    14\n",
       " 2015-02-05    14\n",
       " 2015-02-16    14\n",
       " 2015-01-23    13\n",
       " 2015-01-28    13\n",
       " 2015-02-20    13\n",
       " 2015-01-15    13\n",
       " 2015-01-22    13\n",
       " 2015-01-17    13\n",
       " 2015-01-27    12\n",
       " 2015-03-01    12\n",
       " 2015-02-27    12\n",
       " 2015-02-03    11\n",
       " 2015-01-04    11\n",
       " 2015-02-09    11\n",
       " 2015-01-29    10\n",
       " 2015-01-26    10\n",
       " 2015-01-25    10\n",
       " 2015-02-11     9\n",
       " 2015-01-11     9\n",
       " 2015-01-02     9\n",
       " 2015-02-07     9\n",
       " 2015-02-19     8\n",
       " 2015-02-10     7\n",
       " 2015-01-05     5\n",
       " Name: count, dtype: int64,\n",
       " 'incident_type': incident_type\n",
       " Multi-vehicle Collision     419\n",
       " Single Vehicle Collision    403\n",
       " Vehicle Theft                53\n",
       " Parked Car                   34\n",
       " Name: count, dtype: int64,\n",
       " 'collision_type': collision_type\n",
       " Rear Collision     292\n",
       " Side Collision     276\n",
       " Front Collision    254\n",
       " ?                   87\n",
       " Name: count, dtype: int64,\n",
       " 'incident_severity': incident_severity\n",
       " Minor Damage      304\n",
       " Total Loss        280\n",
       " Major Damage      276\n",
       " Trivial Damage     49\n",
       " Name: count, dtype: int64,\n",
       " 'authorities_contacted': authorities_contacted\n",
       " Police       292\n",
       " Fire         223\n",
       " Other        198\n",
       " Ambulance    196\n",
       " Name: count, dtype: int64,\n",
       " 'incident_state': incident_state\n",
       " NY    246\n",
       " SC    225\n",
       " WV    196\n",
       " NC     97\n",
       " VA     96\n",
       " PA     29\n",
       " OH     20\n",
       " Name: count, dtype: int64,\n",
       " 'incident_city': incident_city\n",
       " Springfield    145\n",
       " Columbus       141\n",
       " Northbend      133\n",
       " Arlington      129\n",
       " Hillsdale      128\n",
       " Riverwood      121\n",
       " Northbrook     112\n",
       " Name: count, dtype: int64,\n",
       " 'incident_location': incident_location\n",
       " 9935 4th Drive         1\n",
       " 8639 5th Hwy           1\n",
       " 4835 Britain Ridge     1\n",
       " 8548 Cherokee Ridge    1\n",
       " 2352 MLK Drive         1\n",
       "                       ..\n",
       " 6945 Texas Hwy         1\n",
       " 5639 1st Ridge         1\n",
       " 3834 Pine St           1\n",
       " 1358 Maple St          1\n",
       " 1416 Cherokee Ridge    1\n",
       " Name: count, Length: 909, dtype: int64,\n",
       " 'incident_hour_of_the_day': incident_hour_of_the_day\n",
       " 17    51\n",
       " 23    51\n",
       " 0     49\n",
       " 16    47\n",
       " 13    42\n",
       " 21    42\n",
       " 14    42\n",
       " 12    40\n",
       " 18    40\n",
       " 10    40\n",
       " 3     40\n",
       " 19    39\n",
       " 4     38\n",
       " 22    38\n",
       " 15    38\n",
       " 9     34\n",
       " 6     33\n",
       " 7     33\n",
       " 20    32\n",
       " 11    30\n",
       " 2     30\n",
       " 1     27\n",
       " 8     27\n",
       " 5     26\n",
       " Name: count, dtype: int64,\n",
       " 'number_of_vehicles_involved': number_of_vehicles_involved\n",
       " 1    490\n",
       " 3    358\n",
       " 4     31\n",
       " 2     30\n",
       " Name: count, dtype: int64,\n",
       " 'property_damage': property_damage\n",
       " ?      329\n",
       " NO     304\n",
       " YES    276\n",
       " Name: count, dtype: int64,\n",
       " 'bodily_injuries': bodily_injuries\n",
       " 2    309\n",
       " 0    307\n",
       " 1    293\n",
       " Name: count, dtype: int64,\n",
       " 'witnesses': witnesses\n",
       " 2    234\n",
       " 0    230\n",
       " 1    228\n",
       " 3    217\n",
       " Name: count, dtype: int64,\n",
       " 'police_report_available': police_report_available\n",
       " ?      316\n",
       " NO     307\n",
       " YES    286\n",
       " Name: count, dtype: int64,\n",
       " 'total_claim_amount': total_claim_amount\n",
       " 59400    5\n",
       " 58500    4\n",
       " 60600    4\n",
       " 75400    4\n",
       " 70290    4\n",
       "         ..\n",
       " 44880    1\n",
       " 82830    1\n",
       " 84480    1\n",
       " 53020    1\n",
       " 5060     1\n",
       " Name: count, Length: 719, dtype: int64,\n",
       " 'injury_claim': injury_claim\n",
       " 0        24\n",
       " 5540      5\n",
       " 6340      5\n",
       " 13520     5\n",
       " 5000      4\n",
       "          ..\n",
       " 13660     1\n",
       " 6370      1\n",
       " 4650      1\n",
       " 6660      1\n",
       " 460       1\n",
       " Name: count, Length: 616, dtype: int64,\n",
       " 'property_claim': property_claim\n",
       " 0        18\n",
       " 11080     5\n",
       " 10000     5\n",
       " 7000      4\n",
       " 11100     4\n",
       "          ..\n",
       " 3590      1\n",
       " 6480      1\n",
       " 4580      1\n",
       " 4920      1\n",
       " 920       1\n",
       " Name: count, Length: 603, dtype: int64,\n",
       " 'vehicle_claim': vehicle_claim\n",
       " 52080    5\n",
       " 33600    5\n",
       " 44800    5\n",
       " 41760    4\n",
       " 46800    4\n",
       "         ..\n",
       " 43360    1\n",
       " 25130    1\n",
       " 38940    1\n",
       " 47430    1\n",
       " 3680     1\n",
       " Name: count, Length: 691, dtype: int64,\n",
       " 'auto_make': auto_make\n",
       " Suburu        74\n",
       " Saab          72\n",
       " Dodge         72\n",
       " Nissan        69\n",
       " Ford          67\n",
       " BMW           67\n",
       " Chevrolet     66\n",
       " Audi          63\n",
       " Accura        63\n",
       " Toyota        62\n",
       " Jeep          62\n",
       " Volkswagen    62\n",
       " Mercedes      60\n",
       " Honda         50\n",
       " Name: count, dtype: int64,\n",
       " 'auto_model': auto_model\n",
       " RAM               40\n",
       " Wrangler          38\n",
       " Jetta             33\n",
       " A3                33\n",
       " MDX               33\n",
       " Neon              32\n",
       " A5                30\n",
       " Legacy            30\n",
       " Passat            29\n",
       " Pathfinder        27\n",
       " Forrestor         26\n",
       " F150              25\n",
       " 95                25\n",
       " Camry             25\n",
       " Malibu            25\n",
       " 92x               24\n",
       " E400              24\n",
       " Grand Cherokee    24\n",
       " Escape            23\n",
       " Maxima            23\n",
       " 93                23\n",
       " Tahoe             22\n",
       " X5                20\n",
       " Highlander        20\n",
       " CRV               19\n",
       " Ultima            19\n",
       " Fusion            19\n",
       " Silverado         19\n",
       " TL                19\n",
       " Civic             18\n",
       " Impreza           18\n",
       " ML350             18\n",
       " C300              18\n",
       " 3 Series          18\n",
       " Corolla           17\n",
       " X6                16\n",
       " Accord            13\n",
       " M5                13\n",
       " RSX               11\n",
       " Name: count, dtype: int64,\n",
       " 'auto_year': auto_year\n",
       " 1995    52\n",
       " 2005    51\n",
       " 2006    51\n",
       " 1999    50\n",
       " 2007    48\n",
       " 2010    47\n",
       " 2009    47\n",
       " 2011    47\n",
       " 2003    46\n",
       " 2013    43\n",
       " 2012    43\n",
       " 2015    42\n",
       " 2008    42\n",
       " 1997    42\n",
       " 2002    41\n",
       " 2014    40\n",
       " 2000    38\n",
       " 2004    36\n",
       " 1996    35\n",
       " 1998    35\n",
       " 2001    33\n",
       " Name: count, dtype: int64,\n",
       " 'fraud_reported': fraud_reported\n",
       " N    668\n",
       " Y    241\n",
       " Name: count, dtype: int64,\n",
       " '_c39': _c39\n",
       " NaN    909\n",
       " Name: count, dtype: int64}"
      ]
     },
     "execution_count": 22,
     "metadata": {},
     "output_type": "execute_result"
    }
   ],
   "source": [
    "# Write code to display all the columns with their unique values and counts and check for redundant values\n",
    "unique_summary = {}\n",
    "\n",
    "for column in df_cleaned.columns:\n",
    "    unique_vals = df_cleaned[column].value_counts(dropna=False)\n",
    "    unique_summary[column] = unique_vals\n",
    "\n",
    "unique_summary"
   ]
  },
  {
   "cell_type": "markdown",
   "metadata": {
    "id": "RRIhr3ZwDPWb"
   },
   "source": [
    "#### **2.2.2** Identify and drop any columns that are completely empty <font color=\"red\">[1 Mark]</font>"
   ]
  },
  {
   "cell_type": "code",
   "execution_count": 24,
   "metadata": {
    "id": "9vLZf8ExDPWb"
   },
   "outputs": [],
   "source": [
    "# Identify and drop any completely empty columns\n",
    "df_cleaned.drop(columns=['_c39'], inplace = True)\n"
   ]
  },
  {
   "cell_type": "code",
   "execution_count": 25,
   "metadata": {},
   "outputs": [
    {
     "data": {
      "text/plain": [
       "months_as_customer             0\n",
       "age                            0\n",
       "policy_number                  0\n",
       "policy_bind_date               0\n",
       "policy_state                   0\n",
       "policy_csl                     0\n",
       "policy_deductable              0\n",
       "policy_annual_premium          0\n",
       "umbrella_limit                 0\n",
       "insured_zip                    0\n",
       "insured_sex                    0\n",
       "insured_education_level        0\n",
       "insured_occupation             0\n",
       "insured_hobbies                0\n",
       "insured_relationship           0\n",
       "capital-gains                  0\n",
       "capital-loss                   0\n",
       "incident_date                  0\n",
       "incident_type                  0\n",
       "collision_type                 0\n",
       "incident_severity              0\n",
       "authorities_contacted          0\n",
       "incident_state                 0\n",
       "incident_city                  0\n",
       "incident_location              0\n",
       "incident_hour_of_the_day       0\n",
       "number_of_vehicles_involved    0\n",
       "property_damage                0\n",
       "bodily_injuries                0\n",
       "witnesses                      0\n",
       "police_report_available        0\n",
       "total_claim_amount             0\n",
       "injury_claim                   0\n",
       "property_claim                 0\n",
       "vehicle_claim                  0\n",
       "auto_make                      0\n",
       "auto_model                     0\n",
       "auto_year                      0\n",
       "fraud_reported                 0\n",
       "dtype: int64"
      ]
     },
     "execution_count": 25,
     "metadata": {},
     "output_type": "execute_result"
    }
   ],
   "source": [
    "# Checking for null values\n",
    "df_cleaned.isnull().sum()"
   ]
  },
  {
   "cell_type": "markdown",
   "metadata": {
    "id": "1Cx8douODPWd"
   },
   "source": [
    "#### **2.2.3** Identify and drop rows where features have illogical or invalid values, such as negative values for features that should only have positive values <font color=\"red\">[1 Mark]</font>"
   ]
  },
  {
   "cell_type": "code",
   "execution_count": 27,
   "metadata": {
    "id": "U5oARc23DPWd"
   },
   "outputs": [
    {
     "data": {
      "text/plain": [
       "478"
      ]
     },
     "execution_count": 27,
     "metadata": {},
     "output_type": "execute_result"
    }
   ],
   "source": [
    "# Identify and drop rows where features have illogical or invalid values, such as negative values for features that should only have positive values\n",
    "# Identify numeric columns that should not contain negative values\n",
    "positive_only_columns = [\n",
    "    'months_as_customer', 'age', 'policy_deductable', 'policy_annual_premium',\n",
    "    'umbrella_limit', 'capital-gains', 'capital-loss', 'total_claim_amount',\n",
    "    'injury_claim', 'property_claim', 'vehicle_claim'\n",
    "]\n",
    "\n",
    "# Find rows with negative values in any of the specified columns\n",
    "invalid_rows = df_cleaned[\n",
    "    (df_cleaned[positive_only_columns] < 0).any(axis=1)\n",
    "]\n",
    "\n",
    "# Drop these invalid rows\n",
    "df_valid = df_cleaned.drop(index=invalid_rows.index)\n",
    "\n",
    "# Number of dropped rows\n",
    "invalid_rows.shape[0]"
   ]
  },
  {
   "cell_type": "markdown",
   "metadata": {
    "id": "XTGMKeeNDPWd"
   },
   "source": [
    "#### **2.2.4** Identify and remove columns where a large proportion of the values are unique or near-unique, as these columns are likely to be identifiers or have very limited predictive power <font color=\"red\">[1 Mark]</font>"
   ]
  },
  {
   "cell_type": "code",
   "execution_count": 29,
   "metadata": {
    "id": "U4LXO65UDPWd"
   },
   "outputs": [
    {
     "name": "stdout",
     "output_type": "stream",
     "text": [
      "(431, 34)\n",
      "['months_as_customer', 'age', 'policy_state', 'policy_csl', 'policy_deductable', 'policy_annual_premium', 'umbrella_limit', 'insured_sex', 'insured_education_level', 'insured_occupation', 'insured_hobbies', 'insured_relationship', 'capital-gains', 'capital-loss', 'incident_type', 'collision_type', 'incident_severity', 'authorities_contacted', 'incident_state', 'incident_city', 'incident_hour_of_the_day', 'number_of_vehicles_involved', 'property_damage', 'bodily_injuries', 'witnesses', 'police_report_available', 'total_claim_amount', 'injury_claim', 'property_claim', 'vehicle_claim', 'auto_make', 'auto_model', 'auto_year', 'fraud_reported']\n"
     ]
    }
   ],
   "source": [
    "# Identify and remove columns that are likely to be identifiers or have very limited predictive power\n",
    "\n",
    "# Columns likely to be identifiers or with limited predictive power\n",
    "likely_identifiers = [\n",
    "    'policy_number',       # Unique identifier\n",
    "    'policy_bind_date',    # Date field, high cardinality\n",
    "    'incident_date',       # Date field, high cardinality\n",
    "    'incident_location',   # Nearly unique\n",
    "    'insured_zip'          # High cardinality\n",
    "]\n",
    "\n",
    "# Drop these columns\n",
    "df_final = df_valid.drop(columns=likely_identifiers)\n",
    "\n",
    "# Return the shape and remaining columns\n",
    "print(df_final.shape)\n",
    "print(df_final.columns.tolist())"
   ]
  },
  {
   "cell_type": "code",
   "execution_count": 30,
   "metadata": {
    "id": "KzHx2BzPDPWd"
   },
   "outputs": [
    {
     "data": {
      "text/html": [
       "<div>\n",
       "<style scoped>\n",
       "    .dataframe tbody tr th:only-of-type {\n",
       "        vertical-align: middle;\n",
       "    }\n",
       "\n",
       "    .dataframe tbody tr th {\n",
       "        vertical-align: top;\n",
       "    }\n",
       "\n",
       "    .dataframe thead th {\n",
       "        text-align: right;\n",
       "    }\n",
       "</style>\n",
       "<table border=\"1\" class=\"dataframe\">\n",
       "  <thead>\n",
       "    <tr style=\"text-align: right;\">\n",
       "      <th></th>\n",
       "      <th>months_as_customer</th>\n",
       "      <th>age</th>\n",
       "      <th>policy_state</th>\n",
       "      <th>policy_csl</th>\n",
       "      <th>policy_deductable</th>\n",
       "      <th>policy_annual_premium</th>\n",
       "      <th>umbrella_limit</th>\n",
       "      <th>insured_sex</th>\n",
       "      <th>insured_education_level</th>\n",
       "      <th>insured_occupation</th>\n",
       "      <th>...</th>\n",
       "      <th>witnesses</th>\n",
       "      <th>police_report_available</th>\n",
       "      <th>total_claim_amount</th>\n",
       "      <th>injury_claim</th>\n",
       "      <th>property_claim</th>\n",
       "      <th>vehicle_claim</th>\n",
       "      <th>auto_make</th>\n",
       "      <th>auto_model</th>\n",
       "      <th>auto_year</th>\n",
       "      <th>fraud_reported</th>\n",
       "    </tr>\n",
       "  </thead>\n",
       "  <tbody>\n",
       "    <tr>\n",
       "      <th>0</th>\n",
       "      <td>328</td>\n",
       "      <td>48</td>\n",
       "      <td>OH</td>\n",
       "      <td>250/500</td>\n",
       "      <td>1000</td>\n",
       "      <td>1406.91</td>\n",
       "      <td>0</td>\n",
       "      <td>MALE</td>\n",
       "      <td>MD</td>\n",
       "      <td>craft-repair</td>\n",
       "      <td>...</td>\n",
       "      <td>2</td>\n",
       "      <td>YES</td>\n",
       "      <td>71610</td>\n",
       "      <td>6510</td>\n",
       "      <td>13020</td>\n",
       "      <td>52080</td>\n",
       "      <td>Saab</td>\n",
       "      <td>92x</td>\n",
       "      <td>2004</td>\n",
       "      <td>Y</td>\n",
       "    </tr>\n",
       "    <tr>\n",
       "      <th>1</th>\n",
       "      <td>228</td>\n",
       "      <td>42</td>\n",
       "      <td>IN</td>\n",
       "      <td>250/500</td>\n",
       "      <td>2000</td>\n",
       "      <td>1197.22</td>\n",
       "      <td>5000000</td>\n",
       "      <td>MALE</td>\n",
       "      <td>MD</td>\n",
       "      <td>machine-op-inspct</td>\n",
       "      <td>...</td>\n",
       "      <td>0</td>\n",
       "      <td>?</td>\n",
       "      <td>5070</td>\n",
       "      <td>780</td>\n",
       "      <td>780</td>\n",
       "      <td>3510</td>\n",
       "      <td>Mercedes</td>\n",
       "      <td>E400</td>\n",
       "      <td>2007</td>\n",
       "      <td>Y</td>\n",
       "    </tr>\n",
       "    <tr>\n",
       "      <th>2</th>\n",
       "      <td>134</td>\n",
       "      <td>29</td>\n",
       "      <td>OH</td>\n",
       "      <td>100/300</td>\n",
       "      <td>2000</td>\n",
       "      <td>1413.14</td>\n",
       "      <td>5000000</td>\n",
       "      <td>FEMALE</td>\n",
       "      <td>PhD</td>\n",
       "      <td>sales</td>\n",
       "      <td>...</td>\n",
       "      <td>3</td>\n",
       "      <td>NO</td>\n",
       "      <td>34650</td>\n",
       "      <td>7700</td>\n",
       "      <td>3850</td>\n",
       "      <td>23100</td>\n",
       "      <td>Dodge</td>\n",
       "      <td>RAM</td>\n",
       "      <td>2007</td>\n",
       "      <td>N</td>\n",
       "    </tr>\n",
       "    <tr>\n",
       "      <th>5</th>\n",
       "      <td>256</td>\n",
       "      <td>39</td>\n",
       "      <td>OH</td>\n",
       "      <td>250/500</td>\n",
       "      <td>1000</td>\n",
       "      <td>1351.10</td>\n",
       "      <td>0</td>\n",
       "      <td>FEMALE</td>\n",
       "      <td>PhD</td>\n",
       "      <td>tech-support</td>\n",
       "      <td>...</td>\n",
       "      <td>2</td>\n",
       "      <td>NO</td>\n",
       "      <td>64100</td>\n",
       "      <td>6410</td>\n",
       "      <td>6410</td>\n",
       "      <td>51280</td>\n",
       "      <td>Saab</td>\n",
       "      <td>95</td>\n",
       "      <td>2003</td>\n",
       "      <td>Y</td>\n",
       "    </tr>\n",
       "    <tr>\n",
       "      <th>7</th>\n",
       "      <td>165</td>\n",
       "      <td>37</td>\n",
       "      <td>IL</td>\n",
       "      <td>100/300</td>\n",
       "      <td>1000</td>\n",
       "      <td>1137.03</td>\n",
       "      <td>0</td>\n",
       "      <td>MALE</td>\n",
       "      <td>Associate</td>\n",
       "      <td>tech-support</td>\n",
       "      <td>...</td>\n",
       "      <td>2</td>\n",
       "      <td>YES</td>\n",
       "      <td>51590</td>\n",
       "      <td>9380</td>\n",
       "      <td>9380</td>\n",
       "      <td>32830</td>\n",
       "      <td>Audi</td>\n",
       "      <td>A5</td>\n",
       "      <td>2015</td>\n",
       "      <td>N</td>\n",
       "    </tr>\n",
       "    <tr>\n",
       "      <th>...</th>\n",
       "      <td>...</td>\n",
       "      <td>...</td>\n",
       "      <td>...</td>\n",
       "      <td>...</td>\n",
       "      <td>...</td>\n",
       "      <td>...</td>\n",
       "      <td>...</td>\n",
       "      <td>...</td>\n",
       "      <td>...</td>\n",
       "      <td>...</td>\n",
       "      <td>...</td>\n",
       "      <td>...</td>\n",
       "      <td>...</td>\n",
       "      <td>...</td>\n",
       "      <td>...</td>\n",
       "      <td>...</td>\n",
       "      <td>...</td>\n",
       "      <td>...</td>\n",
       "      <td>...</td>\n",
       "      <td>...</td>\n",
       "      <td>...</td>\n",
       "    </tr>\n",
       "    <tr>\n",
       "      <th>995</th>\n",
       "      <td>3</td>\n",
       "      <td>38</td>\n",
       "      <td>OH</td>\n",
       "      <td>500/1000</td>\n",
       "      <td>1000</td>\n",
       "      <td>1310.80</td>\n",
       "      <td>0</td>\n",
       "      <td>FEMALE</td>\n",
       "      <td>Masters</td>\n",
       "      <td>craft-repair</td>\n",
       "      <td>...</td>\n",
       "      <td>1</td>\n",
       "      <td>?</td>\n",
       "      <td>87200</td>\n",
       "      <td>17440</td>\n",
       "      <td>8720</td>\n",
       "      <td>61040</td>\n",
       "      <td>Honda</td>\n",
       "      <td>Accord</td>\n",
       "      <td>2006</td>\n",
       "      <td>N</td>\n",
       "    </tr>\n",
       "    <tr>\n",
       "      <th>996</th>\n",
       "      <td>285</td>\n",
       "      <td>41</td>\n",
       "      <td>IL</td>\n",
       "      <td>100/300</td>\n",
       "      <td>1000</td>\n",
       "      <td>1436.79</td>\n",
       "      <td>0</td>\n",
       "      <td>FEMALE</td>\n",
       "      <td>PhD</td>\n",
       "      <td>prof-specialty</td>\n",
       "      <td>...</td>\n",
       "      <td>3</td>\n",
       "      <td>?</td>\n",
       "      <td>108480</td>\n",
       "      <td>18080</td>\n",
       "      <td>18080</td>\n",
       "      <td>72320</td>\n",
       "      <td>Volkswagen</td>\n",
       "      <td>Passat</td>\n",
       "      <td>2015</td>\n",
       "      <td>N</td>\n",
       "    </tr>\n",
       "    <tr>\n",
       "      <th>997</th>\n",
       "      <td>130</td>\n",
       "      <td>34</td>\n",
       "      <td>OH</td>\n",
       "      <td>250/500</td>\n",
       "      <td>500</td>\n",
       "      <td>1383.49</td>\n",
       "      <td>3000000</td>\n",
       "      <td>FEMALE</td>\n",
       "      <td>Masters</td>\n",
       "      <td>armed-forces</td>\n",
       "      <td>...</td>\n",
       "      <td>3</td>\n",
       "      <td>YES</td>\n",
       "      <td>67500</td>\n",
       "      <td>7500</td>\n",
       "      <td>7500</td>\n",
       "      <td>52500</td>\n",
       "      <td>Suburu</td>\n",
       "      <td>Impreza</td>\n",
       "      <td>1996</td>\n",
       "      <td>N</td>\n",
       "    </tr>\n",
       "    <tr>\n",
       "      <th>998</th>\n",
       "      <td>458</td>\n",
       "      <td>62</td>\n",
       "      <td>IL</td>\n",
       "      <td>500/1000</td>\n",
       "      <td>2000</td>\n",
       "      <td>1356.92</td>\n",
       "      <td>5000000</td>\n",
       "      <td>MALE</td>\n",
       "      <td>Associate</td>\n",
       "      <td>handlers-cleaners</td>\n",
       "      <td>...</td>\n",
       "      <td>1</td>\n",
       "      <td>YES</td>\n",
       "      <td>46980</td>\n",
       "      <td>5220</td>\n",
       "      <td>5220</td>\n",
       "      <td>36540</td>\n",
       "      <td>Audi</td>\n",
       "      <td>A5</td>\n",
       "      <td>1998</td>\n",
       "      <td>N</td>\n",
       "    </tr>\n",
       "    <tr>\n",
       "      <th>999</th>\n",
       "      <td>456</td>\n",
       "      <td>60</td>\n",
       "      <td>OH</td>\n",
       "      <td>250/500</td>\n",
       "      <td>1000</td>\n",
       "      <td>766.19</td>\n",
       "      <td>0</td>\n",
       "      <td>FEMALE</td>\n",
       "      <td>Associate</td>\n",
       "      <td>sales</td>\n",
       "      <td>...</td>\n",
       "      <td>3</td>\n",
       "      <td>?</td>\n",
       "      <td>5060</td>\n",
       "      <td>460</td>\n",
       "      <td>920</td>\n",
       "      <td>3680</td>\n",
       "      <td>Mercedes</td>\n",
       "      <td>E400</td>\n",
       "      <td>2007</td>\n",
       "      <td>N</td>\n",
       "    </tr>\n",
       "  </tbody>\n",
       "</table>\n",
       "<p>431 rows × 34 columns</p>\n",
       "</div>"
      ],
      "text/plain": [
       "     months_as_customer  age policy_state policy_csl  policy_deductable  \\\n",
       "0                   328   48           OH    250/500               1000   \n",
       "1                   228   42           IN    250/500               2000   \n",
       "2                   134   29           OH    100/300               2000   \n",
       "5                   256   39           OH    250/500               1000   \n",
       "7                   165   37           IL    100/300               1000   \n",
       "..                  ...  ...          ...        ...                ...   \n",
       "995                   3   38           OH   500/1000               1000   \n",
       "996                 285   41           IL    100/300               1000   \n",
       "997                 130   34           OH    250/500                500   \n",
       "998                 458   62           IL   500/1000               2000   \n",
       "999                 456   60           OH    250/500               1000   \n",
       "\n",
       "     policy_annual_premium  umbrella_limit insured_sex  \\\n",
       "0                  1406.91               0        MALE   \n",
       "1                  1197.22         5000000        MALE   \n",
       "2                  1413.14         5000000      FEMALE   \n",
       "5                  1351.10               0      FEMALE   \n",
       "7                  1137.03               0        MALE   \n",
       "..                     ...             ...         ...   \n",
       "995                1310.80               0      FEMALE   \n",
       "996                1436.79               0      FEMALE   \n",
       "997                1383.49         3000000      FEMALE   \n",
       "998                1356.92         5000000        MALE   \n",
       "999                 766.19               0      FEMALE   \n",
       "\n",
       "    insured_education_level insured_occupation  ... witnesses  \\\n",
       "0                        MD       craft-repair  ...         2   \n",
       "1                        MD  machine-op-inspct  ...         0   \n",
       "2                       PhD              sales  ...         3   \n",
       "5                       PhD       tech-support  ...         2   \n",
       "7                 Associate       tech-support  ...         2   \n",
       "..                      ...                ...  ...       ...   \n",
       "995                 Masters       craft-repair  ...         1   \n",
       "996                     PhD     prof-specialty  ...         3   \n",
       "997                 Masters       armed-forces  ...         3   \n",
       "998               Associate  handlers-cleaners  ...         1   \n",
       "999               Associate              sales  ...         3   \n",
       "\n",
       "    police_report_available  total_claim_amount  injury_claim property_claim  \\\n",
       "0                       YES               71610          6510          13020   \n",
       "1                         ?                5070           780            780   \n",
       "2                        NO               34650          7700           3850   \n",
       "5                        NO               64100          6410           6410   \n",
       "7                       YES               51590          9380           9380   \n",
       "..                      ...                 ...           ...            ...   \n",
       "995                       ?               87200         17440           8720   \n",
       "996                       ?              108480         18080          18080   \n",
       "997                     YES               67500          7500           7500   \n",
       "998                     YES               46980          5220           5220   \n",
       "999                       ?                5060           460            920   \n",
       "\n",
       "    vehicle_claim   auto_make auto_model auto_year fraud_reported  \n",
       "0           52080        Saab        92x      2004              Y  \n",
       "1            3510    Mercedes       E400      2007              Y  \n",
       "2           23100       Dodge        RAM      2007              N  \n",
       "5           51280        Saab         95      2003              Y  \n",
       "7           32830        Audi         A5      2015              N  \n",
       "..            ...         ...        ...       ...            ...  \n",
       "995         61040       Honda     Accord      2006              N  \n",
       "996         72320  Volkswagen     Passat      2015              N  \n",
       "997         52500      Suburu    Impreza      1996              N  \n",
       "998         36540        Audi         A5      1998              N  \n",
       "999          3680    Mercedes       E400      2007              N  \n",
       "\n",
       "[431 rows x 34 columns]"
      ]
     },
     "execution_count": 30,
     "metadata": {},
     "output_type": "execute_result"
    }
   ],
   "source": [
    "# Check the dataset\n",
    "df_final"
   ]
  },
  {
   "cell_type": "markdown",
   "metadata": {
    "id": "nAvSdxKBDPWe"
   },
   "source": [
    "### **2.3 Fix Data Types** <font color = red>[3 marks]</font>\n",
    "Carefully examine the dataset and identify columns that contain date or time information but are not stored as the appropriate data type. Convert these columns to the correct datetime data type to enable proper analysis and manipulation of temporal information."
   ]
  },
  {
   "cell_type": "code",
   "execution_count": 32,
   "metadata": {
    "id": "WIycvsINDPWe"
   },
   "outputs": [
    {
     "data": {
      "text/plain": [
       "months_as_customer                int64\n",
       "age                               int64\n",
       "policy_state                   category\n",
       "policy_csl                     category\n",
       "policy_deductable                 int64\n",
       "policy_annual_premium           float64\n",
       "umbrella_limit                    int64\n",
       "insured_sex                    category\n",
       "insured_education_level        category\n",
       "insured_occupation             category\n",
       "insured_hobbies                category\n",
       "insured_relationship           category\n",
       "capital-gains                     int64\n",
       "capital-loss                      int64\n",
       "incident_type                  category\n",
       "collision_type                 category\n",
       "incident_severity              category\n",
       "authorities_contacted          category\n",
       "incident_state                 category\n",
       "incident_city                  category\n",
       "incident_hour_of_the_day          int64\n",
       "number_of_vehicles_involved       int64\n",
       "property_damage                category\n",
       "bodily_injuries                   int64\n",
       "witnesses                         int64\n",
       "police_report_available        category\n",
       "total_claim_amount                int64\n",
       "injury_claim                      int64\n",
       "property_claim                    int64\n",
       "vehicle_claim                     int64\n",
       "auto_make                      category\n",
       "auto_model                     category\n",
       "auto_year                         int64\n",
       "fraud_reported                    int64\n",
       "dtype: object"
      ]
     },
     "execution_count": 32,
     "metadata": {},
     "output_type": "execute_result"
    }
   ],
   "source": [
    "# Fix the data types of the columns with incorrect data types\n",
    "data_types_before = df_final.dtypes\n",
    "\n",
    "# Replace '?' with NaN for easier handling\n",
    "df_final.replace('?', pd.NA, inplace=True)\n",
    "\n",
    "# Convert applicable object columns to 'category' type\n",
    "for col in df_final.select_dtypes(include='object').columns:\n",
    "    if col != 'fraud_reported':  # Keep target variable as object for now\n",
    "        df_final[col] = df_final[col].astype('category')\n",
    "\n",
    "# Convert 'fraud_reported' to binary integer (Y = 1, N = 0)\n",
    "df_final['fraud_reported'] = df_final['fraud_reported'].map({'Y': 1, 'N': 0})\n",
    "\n",
    "# Check data types after conversion\n",
    "data_types_after = df_final.dtypes\n",
    "\n",
    "data_types_after"
   ]
  },
  {
   "cell_type": "code",
   "execution_count": 33,
   "metadata": {
    "id": "kl0jWZNEDPWe"
   },
   "outputs": [
    {
     "data": {
      "text/plain": [
       "months_as_customer                int64\n",
       "age                               int64\n",
       "policy_state                   category\n",
       "policy_csl                     category\n",
       "policy_deductable                 int64\n",
       "policy_annual_premium           float64\n",
       "umbrella_limit                    int64\n",
       "insured_sex                    category\n",
       "insured_education_level        category\n",
       "insured_occupation             category\n",
       "insured_hobbies                category\n",
       "insured_relationship           category\n",
       "capital-gains                     int64\n",
       "capital-loss                      int64\n",
       "incident_type                  category\n",
       "collision_type                 category\n",
       "incident_severity              category\n",
       "authorities_contacted          category\n",
       "incident_state                 category\n",
       "incident_city                  category\n",
       "incident_hour_of_the_day          int64\n",
       "number_of_vehicles_involved       int64\n",
       "property_damage                category\n",
       "bodily_injuries                   int64\n",
       "witnesses                         int64\n",
       "police_report_available        category\n",
       "total_claim_amount                int64\n",
       "injury_claim                      int64\n",
       "property_claim                    int64\n",
       "vehicle_claim                     int64\n",
       "auto_make                      category\n",
       "auto_model                     category\n",
       "auto_year                         int64\n",
       "fraud_reported                    int64\n",
       "dtype: object"
      ]
     },
     "execution_count": 33,
     "metadata": {},
     "output_type": "execute_result"
    }
   ],
   "source": [
    "# Check the features of the data again\n",
    "data_types_after"
   ]
  },
  {
   "cell_type": "markdown",
   "metadata": {
    "id": "nXS8rflQDPWe"
   },
   "source": [
    "## **3. Train-Validation Split** <font color = red>[5 marks]</font>"
   ]
  },
  {
   "cell_type": "markdown",
   "metadata": {
    "id": "9qOELXFYDPWe"
   },
   "source": [
    "### **3.1 Import required libraries**  "
   ]
  },
  {
   "cell_type": "code",
   "execution_count": 36,
   "metadata": {
    "id": "-vJKP7g0DPWe"
   },
   "outputs": [],
   "source": [
    "# Import train-test-split\n",
    "from sklearn.model_selection import train_test_split"
   ]
  },
  {
   "cell_type": "markdown",
   "metadata": {
    "id": "-MdKqcZ-DPWe"
   },
   "source": [
    "### **3.2 Define feature and target variables** <font color = red>[2 Marks]</font>"
   ]
  },
  {
   "cell_type": "code",
   "execution_count": 38,
   "metadata": {
    "id": "qacdKTt1DPWj"
   },
   "outputs": [
    {
     "data": {
      "text/plain": [
       "((431, 33), (431,))"
      ]
     },
     "execution_count": 38,
     "metadata": {},
     "output_type": "execute_result"
    }
   ],
   "source": [
    "# Put all the feature variables in X\n",
    "X = df_final.drop(columns=['fraud_reported'])\n",
    "# Put the target variable in y\n",
    "y = df_final['fraud_reported']\n",
    "\n",
    "X.shape, y.shape"
   ]
  },
  {
   "cell_type": "markdown",
   "metadata": {
    "id": "t2JaDNlsDPWj"
   },
   "source": [
    "### **3.3 Split the data** <font color=\"red\">[3 Marks]</font>"
   ]
  },
  {
   "cell_type": "code",
   "execution_count": 40,
   "metadata": {
    "id": "7_mMlbt7DPWj"
   },
   "outputs": [
    {
     "data": {
      "text/plain": [
       "(RangeIndex(start=0, stop=5, step=1),\n",
       " RangeIndex(start=0, stop=5, step=1),\n",
       " RangeIndex(start=0, stop=5, step=1),\n",
       " RangeIndex(start=0, stop=5, step=1))"
      ]
     },
     "execution_count": 40,
     "metadata": {},
     "output_type": "execute_result"
    }
   ],
   "source": [
    "# Split the dataset into 70% train and 30% validation and use stratification on the target variable\n",
    "X_train, X_val, y_train, y_val = train_test_split(\n",
    "    X, y, test_size=0.3, random_state=42, stratify=y\n",
    ")\n",
    "\n",
    "# Return the shapes of the resulting splits\n",
    "X_train.shape, X_val.shape, y_train.shape, y_val.shape\n",
    "\n",
    "# Reset index for all train and test sets\n",
    "X_train = X_train.reset_index(drop=True)\n",
    "X_val = X_val.reset_index(drop=True)\n",
    "y_train = y_train.reset_index(drop=True)\n",
    "y_val = y_val.reset_index(drop=True)\n",
    "\n",
    "# Confirm reset by showing first few indices\n",
    "X_train.index[:5], X_val.index[:5], y_train.index[:5], y_val.index[:5]"
   ]
  },
  {
   "cell_type": "markdown",
   "metadata": {
    "id": "4E_xpebIDPWk"
   },
   "source": [
    "## **4. EDA on training data** <font color = red>[20 marks]</font>"
   ]
  },
  {
   "cell_type": "markdown",
   "metadata": {
    "id": "xDNn7iBADPWk"
   },
   "source": [
    "### **4.1 Perform univariate analysis** <font color = red>[5 marks]</font>"
   ]
  },
  {
   "cell_type": "markdown",
   "metadata": {
    "id": "aVLeqhcADPWk"
   },
   "source": [
    "#### **4.1.1** Identify and select numerical columns from training data for univariate analysis <font color = \"red\">[1 Mark]</font>"
   ]
  },
  {
   "cell_type": "code",
   "execution_count": 44,
   "metadata": {
    "id": "bR9ulzRsDPWk"
   },
   "outputs": [
    {
     "data": {
      "text/plain": [
       "['months_as_customer',\n",
       " 'age',\n",
       " 'policy_deductable',\n",
       " 'policy_annual_premium',\n",
       " 'umbrella_limit',\n",
       " 'capital-gains',\n",
       " 'capital-loss',\n",
       " 'incident_hour_of_the_day',\n",
       " 'number_of_vehicles_involved',\n",
       " 'bodily_injuries',\n",
       " 'witnesses',\n",
       " 'total_claim_amount',\n",
       " 'injury_claim',\n",
       " 'property_claim',\n",
       " 'vehicle_claim',\n",
       " 'auto_year']"
      ]
     },
     "execution_count": 44,
     "metadata": {},
     "output_type": "execute_result"
    }
   ],
   "source": [
    "# Select numerical columns\n",
    "numerical_columns = X_train.select_dtypes(include=['int64', 'float64']).columns.tolist()\n",
    "\n",
    "numerical_columns"
   ]
  },
  {
   "cell_type": "markdown",
   "metadata": {
    "id": "wP4icMhPDPWk"
   },
   "source": [
    "#### **4.1.2** Visualise the distribution of selected numerical features using appropriate plots to understand their characteristics <font color = \"red\">[4 Marks]</font>"
   ]
  },
  {
   "cell_type": "code",
   "execution_count": 46,
   "metadata": {
    "id": "ny7woMrmDPWk"
   },
   "outputs": [
    {
     "data": {
      "image/png": "[encoded data removed]",
      "text/plain": [
       "<Figure size 2000x1600 with 16 Axes>"
      ]
     },
     "metadata": {},
     "output_type": "display_data"
    }
   ],
   "source": [
    "# Plot all the numerical columns to understand their distribution\n",
    "import matplotlib.pyplot as plt\n",
    "\n",
    "# Set up a grid of subplots\n",
    "n_cols = 4\n",
    "n_rows = -(-len(numerical_columns) // n_cols)  # Ceiling division\n",
    "plt.figure(figsize=(20, 4 * n_rows))\n",
    "\n",
    "# Plot histograms for each numerical column\n",
    "for idx, col in enumerate(numerical_columns, 1):\n",
    "    plt.subplot(n_rows, n_cols, idx)\n",
    "    X_train[col].hist(bins=20, edgecolor='black')\n",
    "    plt.title(col)\n",
    "    plt.tight_layout()\n",
    "\n",
    "plt.show()\n"
   ]
  },
  {
   "cell_type": "markdown",
   "metadata": {
    "id": "o4UAw5pDDPWl"
   },
   "source": [
    "### **4.2 Perform correlation analysis** <font color=\"red\">[3 Marks]</font>"
   ]
  },
  {
   "cell_type": "markdown",
   "metadata": {
    "id": "ySJiTDdxDPWl"
   },
   "source": [
    " Investigate the relationships between numerical features to identify potential multicollinearity or dependencies. Visualise the correlation structure using an appropriate method to gain insights into feature relationships."
   ]
  },
  {
   "cell_type": "code",
   "execution_count": 49,
   "metadata": {
    "id": "_xadGQK7DPWl"
   },
   "outputs": [
    {
     "data": {
      "image/png": "[encoded data removed]",
      "text/plain": [
       "<Figure size 1200x800 with 2 Axes>"
      ]
     },
     "metadata": {},
     "output_type": "display_data"
    }
   ],
   "source": [
    "# Create correlation matrix for numerical columns\n",
    "\n",
    "# Plot Heatmap of the correlation matrix\n",
    "correlation_matrix = X_train[numerical_columns].corr()\n",
    "\n",
    "# Plot heatmap\n",
    "plt.figure(figsize=(12, 8))\n",
    "plt.imshow(correlation_matrix, cmap='coolwarm', interpolation='nearest')\n",
    "plt.colorbar(label=\"Correlation Coefficient\")\n",
    "plt.xticks(range(len(numerical_columns)), numerical_columns, rotation=90)\n",
    "plt.yticks(range(len(numerical_columns)), numerical_columns)\n",
    "plt.title(\"Correlation Matrix of Numerical Features\")\n",
    "plt.show()"
   ]
  },
  {
   "cell_type": "markdown",
   "metadata": {
    "id": "ZHQ3du-9DPWl"
   },
   "source": [
    "### **4.3 Check class balance** <font color=\"red\">[2 Marks]</font>"
   ]
  },
  {
   "cell_type": "markdown",
   "metadata": {
    "id": "eTkJHl0xDPWm"
   },
   "source": [
    "Examine the distribution of the target variable to identify potential class imbalances using visualisation for better understanding."
   ]
  },
  {
   "cell_type": "code",
   "execution_count": 52,
   "metadata": {
    "id": "V1QrXZdhDPWm"
   },
   "outputs": [
    {
     "data": {
      "image/png": "[encoded data removed]",
      "text/plain": [
       "<Figure size 600x400 with 1 Axes>"
      ]
     },
     "metadata": {},
     "output_type": "display_data"
    },
    {
     "data": {
      "text/plain": [
       "fraud_reported\n",
       "0    0.747508\n",
       "1    0.252492\n",
       "Name: proportion, dtype: float64"
      ]
     },
     "execution_count": 52,
     "metadata": {},
     "output_type": "execute_result"
    }
   ],
   "source": [
    "# Plot a bar chart to check class balance\n",
    "plt.figure(figsize=(6, 4))\n",
    "y_train.value_counts().plot(kind='bar', color=['skyblue', 'salmon'], edgecolor='black')\n",
    "plt.title(\"Class Balance in Training Set (Fraud Reported)\")\n",
    "plt.xlabel(\"Fraud Reported (0 = No, 1 = Yes)\")\n",
    "plt.ylabel(\"Count\")\n",
    "plt.xticks(rotation=0)\n",
    "plt.show()\n",
    "\n",
    "y_train.value_counts(normalize=True)"
   ]
  },
  {
   "cell_type": "markdown",
   "metadata": {
    "id": "xFhVKzRHDPWn"
   },
   "source": [
    "### **4.4 Perform bivariate analysis** <font color=\"red\">[10 Marks]</font>"
   ]
  },
  {
   "cell_type": "markdown",
   "metadata": {
    "id": "h0WjamQXDPWn"
   },
   "source": [
    "#### **4.4.1** Target likelihood analysis for categorical variables. <font color=\"red\">[5 Marks]</font>\n",
    "Investigate the relationships between categorical features and the target variable by analysing the target event likelihood (for the `'Y'` event) for each level of every relevant categorical feature. Through this analysis, identify categorical features that do not contribute much in explaining the variation in the target variable."
   ]
  },
  {
   "cell_type": "code",
   "execution_count": 55,
   "metadata": {
    "id": "K1OQJrO5guyw"
   },
   "outputs": [
    {
     "data": {
      "text/html": [
       "<div>\n",
       "<style scoped>\n",
       "    .dataframe tbody tr th:only-of-type {\n",
       "        vertical-align: middle;\n",
       "    }\n",
       "\n",
       "    .dataframe tbody tr th {\n",
       "        vertical-align: top;\n",
       "    }\n",
       "\n",
       "    .dataframe thead th {\n",
       "        text-align: right;\n",
       "    }\n",
       "</style>\n",
       "<table border=\"1\" class=\"dataframe\">\n",
       "  <thead>\n",
       "    <tr style=\"text-align: right;\">\n",
       "      <th></th>\n",
       "      <th>policy_state</th>\n",
       "      <th>policy_state_fraud_likelihood</th>\n",
       "    </tr>\n",
       "  </thead>\n",
       "  <tbody>\n",
       "    <tr>\n",
       "      <th>2</th>\n",
       "      <td>OH</td>\n",
       "      <td>0.285714</td>\n",
       "    </tr>\n",
       "    <tr>\n",
       "      <th>1</th>\n",
       "      <td>IN</td>\n",
       "      <td>0.268041</td>\n",
       "    </tr>\n",
       "    <tr>\n",
       "      <th>0</th>\n",
       "      <td>IL</td>\n",
       "      <td>0.202020</td>\n",
       "    </tr>\n",
       "  </tbody>\n",
       "</table>\n",
       "</div>"
      ],
      "text/plain": [
       "  policy_state  policy_state_fraud_likelihood\n",
       "2           OH                       0.285714\n",
       "1           IN                       0.268041\n",
       "0           IL                       0.202020"
      ]
     },
     "execution_count": 55,
     "metadata": {},
     "output_type": "execute_result"
    }
   ],
   "source": [
    "# Write a function to calculate and analyse the target variable likelihood for categorical features\n",
    "def target_likelihood_analysis(df, categorical_columns, target):\n",
    "    likelihood_dict = {}\n",
    "    \n",
    "    for col in categorical_columns:\n",
    "        likelihood_table = (\n",
    "            df.groupby(col)[target]\n",
    "            .mean()\n",
    "            .reset_index()\n",
    "            .rename(columns={target: f\"{col}_fraud_likelihood\"})\n",
    "            .sort_values(by=f\"{col}_fraud_likelihood\", ascending=False)\n",
    "        )\n",
    "        likelihood_dict[col] = likelihood_table\n",
    "    \n",
    "    return likelihood_dict\n",
    "\n",
    "# Get categorical columns\n",
    "categorical_columns = X_train.select_dtypes(include='category').columns.tolist()\n",
    "\n",
    "# Run target likelihood analysis on training set\n",
    "likelihood_results = target_likelihood_analysis(\n",
    "    pd.concat([X_train, y_train], axis=1), \n",
    "    categorical_columns, \n",
    "    'fraud_reported'\n",
    ")\n",
    "\n",
    "# Show one example result\n",
    "likelihood_results['policy_state']"
   ]
  },
  {
   "cell_type": "markdown",
   "metadata": {
    "id": "z6oeg9naDPWo"
   },
   "source": [
    "#### **4.4.2** Explore the relationships between numerical features and the target variable to understand their impact on the target outcome using appropriate visualisation techniques to identify trends and potential interactions. <font color=\"red\">[5 Marks]</font>"
   ]
  },
  {
   "cell_type": "code",
   "execution_count": 57,
   "metadata": {
    "id": "bVXoNozGDPWo"
   },
   "outputs": [
    {
     "data": {
      "image/png": "[encoded data removed]",
      "text/plain": [
       "<Figure size 2000x1600 with 16 Axes>"
      ]
     },
     "metadata": {},
     "output_type": "display_data"
    }
   ],
   "source": [
    "# Visualise the relationship between numerical features and the target variable to understand their impact on the target outcome\n",
    "# Combine training features and target for visualization\n",
    "train_data = pd.concat([X_train[numerical_columns], y_train], axis=1)\n",
    "\n",
    "# Set up grid for subplots\n",
    "n_cols = 4\n",
    "n_rows = -(-len(numerical_columns) // n_cols)  # Ceiling division\n",
    "plt.figure(figsize=(20, 4 * n_rows))\n",
    "\n",
    "# Plot boxplots for each numerical feature against fraud_reported\n",
    "for idx, col in enumerate(numerical_columns, 1):\n",
    "    plt.subplot(n_rows, n_cols, idx)\n",
    "    sns.boxplot(x=\"fraud_reported\", y=col, data=train_data, palette=\"Set2\")\n",
    "    plt.title(f\"{col} vs Fraud Reported\")\n",
    "    plt.tight_layout()\n",
    "\n",
    "plt.show()"
   ]
  },
  {
   "cell_type": "markdown",
   "metadata": {
    "id": "OVV4m9OiDPWo",
    "jp-MarkdownHeadingCollapsed": true
   },
   "source": [
    "## **5. EDA on validation data** <font color = red>[OPTIONAL]</font>"
   ]
  },
  {
   "cell_type": "markdown",
   "metadata": {
    "id": "hvF11y45DPWo"
   },
   "source": [
    "### **5.1 Perform univariate analysis**"
   ]
  },
  {
   "cell_type": "markdown",
   "metadata": {
    "id": "krLtfiOBDPWo"
   },
   "source": [
    "#### **5.1.1** Identify and select numerical columns from training data for univariate analysis."
   ]
  },
  {
   "cell_type": "code",
   "execution_count": 61,
   "metadata": {
    "id": "RURn5Dp1DPWo"
   },
   "outputs": [],
   "source": [
    "# Select numerical columns\n"
   ]
  },
  {
   "cell_type": "markdown",
   "metadata": {
    "id": "a41PWZrNDPWp"
   },
   "source": [
    "#### **5.1.2** Visualise the distribution of selected numerical features using appropriate plots to understand their characteristics."
   ]
  },
  {
   "cell_type": "code",
   "execution_count": 63,
   "metadata": {
    "id": "DUoPrry8DPWp"
   },
   "outputs": [],
   "source": [
    "# Plot all the numerical columns to understand their distribution\n"
   ]
  },
  {
   "cell_type": "markdown",
   "metadata": {
    "id": "OhvTVXiwDPWp"
   },
   "source": [
    "### **5.2 Perform correlation analysis**"
   ]
  },
  {
   "cell_type": "markdown",
   "metadata": {
    "id": "F5tDAjsNDPWp"
   },
   "source": [
    " Investigate the relationships between numerical features to identify potential multicollinearity or dependencies. Visualise the correlation structure using an appropriate method to gain insights into feature relationships."
   ]
  },
  {
   "cell_type": "code",
   "execution_count": 66,
   "metadata": {
    "id": "C-b6CSy1DPWp"
   },
   "outputs": [],
   "source": [
    "# Create correlation matrix for numerical columns\n",
    "\n",
    "# Plot Heatmap of the correlation matrix\n"
   ]
  },
  {
   "cell_type": "markdown",
   "metadata": {
    "id": "N2ww_JH7DPWp"
   },
   "source": [
    "### **5.3 Check class balance**"
   ]
  },
  {
   "cell_type": "markdown",
   "metadata": {
    "id": "ddcn-VSADPWp"
   },
   "source": [
    "Examine the distribution of the target variable to identify potential class imbalances. Visualise the distribution for better understanding."
   ]
  },
  {
   "cell_type": "code",
   "execution_count": 69,
   "metadata": {
    "id": "5Yvfw9F2DPWq"
   },
   "outputs": [],
   "source": [
    "# Plot a bar chart to check class balance\n"
   ]
  },
  {
   "cell_type": "markdown",
   "metadata": {
    "id": "_pDlcXHxDPWq"
   },
   "source": [
    "### **5.4 Perform bivariate analysis**"
   ]
  },
  {
   "cell_type": "markdown",
   "metadata": {
    "id": "F0UT1kLHDPWq"
   },
   "source": [
    "#### **5.4.1** Target likelihood analysis for categorical variables.\n",
    "Investigate the relationships between categorical features and the target variable by analysing the target event likelihood (for the `'Y'` event) for each level of every relevant categorical feature. Through this analysis, identify categorical features that do not contribute much in explaining the variation in the target variable."
   ]
  },
  {
   "cell_type": "code",
   "execution_count": 72,
   "metadata": {
    "id": "XMe7hHDcDPWr"
   },
   "outputs": [],
   "source": [
    "# Write a function to calculate and analyse the target variable likelihood for categorical features\n"
   ]
  },
  {
   "cell_type": "markdown",
   "metadata": {
    "id": "gCNILHjCDPWr"
   },
   "source": [
    "#### **5.4.2** Explore the relationships between numerical features and the target variable to understand their impact on the target outcome. Utilise appropriate visualisation techniques to identify trends and potential interactions."
   ]
  },
  {
   "cell_type": "code",
   "execution_count": 74,
   "metadata": {
    "id": "NhQl8TJ9DPWr"
   },
   "outputs": [],
   "source": [
    "# Visualise the relationship between numerical features and the target variable to understand their impact on the target outcome\n"
   ]
  },
  {
   "cell_type": "markdown",
   "metadata": {
    "id": "TVb5a63HDPWr"
   },
   "source": [
    "## **6. Feature Engineering** <font color = red>[25 marks]</font>"
   ]
  },
  {
   "cell_type": "markdown",
   "metadata": {
    "id": "F1-lpq1iDPWs"
   },
   "source": [
    "### **6.1 Perform resampling** <font color=\"red\">[3 Marks]</font>"
   ]
  },
  {
   "cell_type": "markdown",
   "metadata": {
    "id": "vV6fEzAADPWs"
   },
   "source": [
    "Handle class imbalance in the training data by applying resampling technique.\n",
    "\n",
    "Use the **RandomOverSampler** technique to balance the data and handle class imbalance. This method increases the number of samples in the minority class by randomly duplicating them, creating synthetic data points with similar characteristics. This helps prevent the model from being biased toward the majority class and improves its ability to predict the minority class more accurately.\n",
    "\n",
    "**Note:** You can try other resampling techniques to handle class imbalance"
   ]
  },
  {
   "cell_type": "code",
   "execution_count": 78,
   "metadata": {
    "id": "ijz0X5bGDPWs"
   },
   "outputs": [
    {
     "data": {
      "text/plain": [
       "fraud_reported\n",
       "0    0.5\n",
       "1    0.5\n",
       "Name: proportion, dtype: float64"
      ]
     },
     "execution_count": 78,
     "metadata": {},
     "output_type": "execute_result"
    }
   ],
   "source": [
    "# Import RandomOverSampler from imblearn library\n",
    "from imblearn.over_sampling import RandomOverSampler\n",
    "\n",
    "# Perform resampling on training data\n",
    "ros = RandomOverSampler(random_state=42)\n",
    "\n",
    "# Perform resampling on training data\n",
    "X_train_resampled, y_train_resampled = ros.fit_resample(X_train, y_train)\n",
    "\n",
    "# Check class balance after resampling\n",
    "y_train_resampled.value_counts(normalize=True)"
   ]
  },
  {
   "cell_type": "markdown",
   "metadata": {
    "id": "IQ7nY4SLDPWs"
   },
   "source": [
    "### **6.2 Feature Creation** <font color=\"red\">[4 marks]</font>"
   ]
  },
  {
   "cell_type": "markdown",
   "metadata": {
    "id": "PdDUn_sVDPWs"
   },
   "source": [
    "Create new features from existing ones to enhance the model's ability to capture patterns in the data. This may involve deriving features from date/time columns, combining features, or creating interaction terms."
   ]
  },
  {
   "cell_type": "code",
   "execution_count": 81,
   "metadata": {
    "id": "beiDdjl7DPWs"
   },
   "outputs": [
    {
     "data": {
      "text/plain": [
       "((301, 41), (130, 41))"
      ]
     },
     "execution_count": 81,
     "metadata": {},
     "output_type": "execute_result"
    }
   ],
   "source": [
    "# Create new features based on your understanding for both training and validation data\n",
    "def create_new_features(df):\n",
    "    df_new = df.copy()\n",
    "    \n",
    "    # Claim proportions\n",
    "    df_new['injury_claim_ratio'] = df_new['injury_claim'] / (df_new['total_claim_amount'] + 1)\n",
    "    df_new['property_claim_ratio'] = df_new['property_claim'] / (df_new['total_claim_amount'] + 1)\n",
    "    df_new['vehicle_claim_ratio'] = df_new['vehicle_claim'] / (df_new['total_claim_amount'] + 1)\n",
    "    \n",
    "    # Aggregate claim ratios\n",
    "    df_new['claim_amount_per_vehicle'] = df_new['total_claim_amount'] / (df_new['number_of_vehicles_involved'] + 1)\n",
    "    df_new['claim_amount_per_witness'] = df_new['total_claim_amount'] / (df_new['witnesses'] + 1)\n",
    "    \n",
    "    # Interaction features\n",
    "    df_new['age_policy_ratio'] = df_new['age'] / (df_new['months_as_customer'] + 1)\n",
    "    df_new['premium_to_claim_ratio'] = df_new['policy_annual_premium'] / (df_new['total_claim_amount'] + 1)\n",
    "    \n",
    "    # Binary indicator: High umbrella limit\n",
    "    df_new['high_umbrella'] = (df_new['umbrella_limit'] > df_new['umbrella_limit'].median()).astype(int)\n",
    "    \n",
    "    return df_new\n",
    "\n",
    "\n",
    "# Apply feature engineering\n",
    "X_train_fe = create_new_features(X_train)\n",
    "X_val_fe = create_new_features(X_val)\n",
    "\n",
    "X_train_fe.shape, X_val_fe.shape"
   ]
  },
  {
   "cell_type": "markdown",
   "metadata": {
    "id": "NbQ6FhLUDPWt"
   },
   "source": [
    "### **6.3 Handle redundant columns** <font color=\"red\">[3 marks]</font>"
   ]
  },
  {
   "cell_type": "markdown",
   "metadata": {
    "id": "zs_uzd9VDPWt"
   },
   "source": [
    "Analyse the data to identify features that may be redundant or contribute minimal information toward predicting the target variable and drop them.\n",
    "\n",
    "- You can consider features that exhibit high correlation with other variables, which you may have observed during the EDA phase.\n",
    "- Features that don't strongly influence the prediction, which you may have observed during the EDA phase.\n",
    "- Categorical columns with low value counts for some levels can be remapped to reduce number of unique levels, and features with very high counts for just one level may be removed, as they resemble unique identifier columns and do not provide substantial predictive value.\n",
    "- Additionally, eliminate any columns from which the necessary features have already been extracted in the preceding step."
   ]
  },
  {
   "cell_type": "code",
   "execution_count": 84,
   "metadata": {
    "id": "9Fy0Rw1BDPWt"
   },
   "outputs": [
    {
     "data": {
      "text/plain": [
       "((301, 36), (130, 36))"
      ]
     },
     "execution_count": 84,
     "metadata": {},
     "output_type": "execute_result"
    }
   ],
   "source": [
    "# Drop redundant columns from training and validation data\n",
    "def drop_redundant_features(df):\n",
    "    df_new = df.copy()\n",
    "    \n",
    "    # Redundant claim columns (highly correlated with total_claim_amount)\n",
    "    redundant_cols = ['injury_claim', 'property_claim', 'vehicle_claim']\n",
    "    \n",
    "    # Drop capital-loss (mostly NaN after cleaning)\n",
    "    if 'capital-loss' in df_new.columns:\n",
    "        redundant_cols.append('capital-loss')\n",
    "    \n",
    "    # Drop months_as_customer (high correlation with age)\n",
    "    if 'months_as_customer' in df_new.columns:\n",
    "        redundant_cols.append('months_as_customer')\n",
    "    \n",
    "    df_new = df_new.drop(columns=redundant_cols, errors='ignore')\n",
    "    \n",
    "    return df_new\n",
    "\n",
    "\n",
    "# Apply redundant feature removal\n",
    "X_train_final = drop_redundant_features(X_train_fe)\n",
    "X_val_final = drop_redundant_features(X_val_fe)\n",
    "\n",
    "X_train_final.shape, X_val_final.shape"
   ]
  },
  {
   "cell_type": "code",
   "execution_count": 85,
   "metadata": {
    "id": "RVYVBV27DPWt"
   },
   "outputs": [
    {
     "data": {
      "text/html": [
       "<div>\n",
       "<style scoped>\n",
       "    .dataframe tbody tr th:only-of-type {\n",
       "        vertical-align: middle;\n",
       "    }\n",
       "\n",
       "    .dataframe tbody tr th {\n",
       "        vertical-align: top;\n",
       "    }\n",
       "\n",
       "    .dataframe thead th {\n",
       "        text-align: right;\n",
       "    }\n",
       "</style>\n",
       "<table border=\"1\" class=\"dataframe\">\n",
       "  <thead>\n",
       "    <tr style=\"text-align: right;\">\n",
       "      <th></th>\n",
       "      <th>age</th>\n",
       "      <th>policy_state</th>\n",
       "      <th>policy_csl</th>\n",
       "      <th>policy_deductable</th>\n",
       "      <th>policy_annual_premium</th>\n",
       "      <th>umbrella_limit</th>\n",
       "      <th>insured_sex</th>\n",
       "      <th>insured_education_level</th>\n",
       "      <th>insured_occupation</th>\n",
       "      <th>insured_hobbies</th>\n",
       "      <th>...</th>\n",
       "      <th>auto_year</th>\n",
       "      <th>injury_claim_ratio</th>\n",
       "      <th>property_claim_ratio</th>\n",
       "      <th>vehicle_claim_ratio</th>\n",
       "      <th>claim_amount_per_vehicle</th>\n",
       "      <th>claim_amount_per_witness</th>\n",
       "      <th>age_policy_ratio</th>\n",
       "      <th>premium_to_claim_ratio</th>\n",
       "      <th>high_umbrella</th>\n",
       "      <th>fraud_reported</th>\n",
       "    </tr>\n",
       "  </thead>\n",
       "  <tbody>\n",
       "    <tr>\n",
       "      <th>0</th>\n",
       "      <td>37</td>\n",
       "      <td>IN</td>\n",
       "      <td>500/1000</td>\n",
       "      <td>1000</td>\n",
       "      <td>1412.06</td>\n",
       "      <td>5000000</td>\n",
       "      <td>FEMALE</td>\n",
       "      <td>Masters</td>\n",
       "      <td>protective-serv</td>\n",
       "      <td>reading</td>\n",
       "      <td>...</td>\n",
       "      <td>2000</td>\n",
       "      <td>0.099998</td>\n",
       "      <td>0.099998</td>\n",
       "      <td>0.799986</td>\n",
       "      <td>28850.0</td>\n",
       "      <td>14425.0</td>\n",
       "      <td>0.196809</td>\n",
       "      <td>0.024472</td>\n",
       "      <td>1</td>\n",
       "      <td>0</td>\n",
       "    </tr>\n",
       "    <tr>\n",
       "      <th>1</th>\n",
       "      <td>45</td>\n",
       "      <td>OH</td>\n",
       "      <td>100/300</td>\n",
       "      <td>1000</td>\n",
       "      <td>1311.30</td>\n",
       "      <td>0</td>\n",
       "      <td>FEMALE</td>\n",
       "      <td>Associate</td>\n",
       "      <td>machine-op-inspct</td>\n",
       "      <td>chess</td>\n",
       "      <td>...</td>\n",
       "      <td>2001</td>\n",
       "      <td>0.111109</td>\n",
       "      <td>0.111109</td>\n",
       "      <td>0.777763</td>\n",
       "      <td>13162.5</td>\n",
       "      <td>52650.0</td>\n",
       "      <td>0.154639</td>\n",
       "      <td>0.024906</td>\n",
       "      <td>0</td>\n",
       "      <td>1</td>\n",
       "    </tr>\n",
       "    <tr>\n",
       "      <th>2</th>\n",
       "      <td>57</td>\n",
       "      <td>OH</td>\n",
       "      <td>500/1000</td>\n",
       "      <td>2000</td>\n",
       "      <td>1422.95</td>\n",
       "      <td>0</td>\n",
       "      <td>MALE</td>\n",
       "      <td>JD</td>\n",
       "      <td>transport-moving</td>\n",
       "      <td>bungie-jumping</td>\n",
       "      <td>...</td>\n",
       "      <td>2003</td>\n",
       "      <td>0.166664</td>\n",
       "      <td>0.166664</td>\n",
       "      <td>0.666657</td>\n",
       "      <td>16560.0</td>\n",
       "      <td>16560.0</td>\n",
       "      <td>0.131034</td>\n",
       "      <td>0.021481</td>\n",
       "      <td>0</td>\n",
       "      <td>0</td>\n",
       "    </tr>\n",
       "    <tr>\n",
       "      <th>3</th>\n",
       "      <td>48</td>\n",
       "      <td>OH</td>\n",
       "      <td>100/300</td>\n",
       "      <td>500</td>\n",
       "      <td>1698.51</td>\n",
       "      <td>0</td>\n",
       "      <td>MALE</td>\n",
       "      <td>JD</td>\n",
       "      <td>other-service</td>\n",
       "      <td>dancing</td>\n",
       "      <td>...</td>\n",
       "      <td>2001</td>\n",
       "      <td>0.166663</td>\n",
       "      <td>0.166663</td>\n",
       "      <td>0.666654</td>\n",
       "      <td>12960.0</td>\n",
       "      <td>25920.0</td>\n",
       "      <td>0.141176</td>\n",
       "      <td>0.032764</td>\n",
       "      <td>0</td>\n",
       "      <td>0</td>\n",
       "    </tr>\n",
       "    <tr>\n",
       "      <th>4</th>\n",
       "      <td>41</td>\n",
       "      <td>IN</td>\n",
       "      <td>100/300</td>\n",
       "      <td>1000</td>\n",
       "      <td>1435.09</td>\n",
       "      <td>0</td>\n",
       "      <td>FEMALE</td>\n",
       "      <td>College</td>\n",
       "      <td>machine-op-inspct</td>\n",
       "      <td>bungie-jumping</td>\n",
       "      <td>...</td>\n",
       "      <td>1995</td>\n",
       "      <td>0.111109</td>\n",
       "      <td>0.111109</td>\n",
       "      <td>0.777764</td>\n",
       "      <td>28305.0</td>\n",
       "      <td>56610.0</td>\n",
       "      <td>0.161417</td>\n",
       "      <td>0.025350</td>\n",
       "      <td>0</td>\n",
       "      <td>0</td>\n",
       "    </tr>\n",
       "  </tbody>\n",
       "</table>\n",
       "<p>5 rows × 37 columns</p>\n",
       "</div>"
      ],
      "text/plain": [
       "   age policy_state policy_csl  policy_deductable  policy_annual_premium  \\\n",
       "0   37           IN   500/1000               1000                1412.06   \n",
       "1   45           OH    100/300               1000                1311.30   \n",
       "2   57           OH   500/1000               2000                1422.95   \n",
       "3   48           OH    100/300                500                1698.51   \n",
       "4   41           IN    100/300               1000                1435.09   \n",
       "\n",
       "   umbrella_limit insured_sex insured_education_level insured_occupation  \\\n",
       "0         5000000      FEMALE                 Masters    protective-serv   \n",
       "1               0      FEMALE               Associate  machine-op-inspct   \n",
       "2               0        MALE                      JD   transport-moving   \n",
       "3               0        MALE                      JD      other-service   \n",
       "4               0      FEMALE                 College  machine-op-inspct   \n",
       "\n",
       "  insured_hobbies  ... auto_year  injury_claim_ratio property_claim_ratio  \\\n",
       "0         reading  ...      2000            0.099998             0.099998   \n",
       "1           chess  ...      2001            0.111109             0.111109   \n",
       "2  bungie-jumping  ...      2003            0.166664             0.166664   \n",
       "3         dancing  ...      2001            0.166663             0.166663   \n",
       "4  bungie-jumping  ...      1995            0.111109             0.111109   \n",
       "\n",
       "  vehicle_claim_ratio claim_amount_per_vehicle claim_amount_per_witness  \\\n",
       "0            0.799986                  28850.0                  14425.0   \n",
       "1            0.777763                  13162.5                  52650.0   \n",
       "2            0.666657                  16560.0                  16560.0   \n",
       "3            0.666654                  12960.0                  25920.0   \n",
       "4            0.777764                  28305.0                  56610.0   \n",
       "\n",
       "  age_policy_ratio premium_to_claim_ratio  high_umbrella  fraud_reported  \n",
       "0         0.196809               0.024472              1               0  \n",
       "1         0.154639               0.024906              0               1  \n",
       "2         0.131034               0.021481              0               0  \n",
       "3         0.141176               0.032764              0               0  \n",
       "4         0.161417               0.025350              0               0  \n",
       "\n",
       "[5 rows x 37 columns]"
      ]
     },
     "execution_count": 85,
     "metadata": {},
     "output_type": "execute_result"
    }
   ],
   "source": [
    "# Check the data\n",
    "train_preview = pd.concat([X_train_final, y_train], axis=1)\n",
    "train_preview.head()"
   ]
  },
  {
   "cell_type": "markdown",
   "metadata": {
    "id": "SxA7dZ0UDPWt"
   },
   "source": [
    "### **6.4 Combine values in Categorical Columns** <font color=\"red\">[6 Marks]</font>\n",
    "During the EDA process, categorical columns with multiple unique values may be identified. To enhance model performance, it is essential to refine these categorical features by grouping values that have low frequency or provide limited predictive information.\n",
    "\n",
    "Combine categories that occur infrequently or exhibit similar behavior to reduce sparsity and improve model generalisation."
   ]
  },
  {
   "cell_type": "code",
   "execution_count": 87,
   "metadata": {
    "id": "-OF7Y35dDPWt"
   },
   "outputs": [
    {
     "data": {
      "text/plain": [
       "insured_occupation\n",
       "Other                0.139535\n",
       "sales                0.102990\n",
       "craft-repair         0.096346\n",
       "machine-op-inspct    0.096346\n",
       "prof-specialty       0.083056\n",
       "transport-moving     0.079734\n",
       "armed-forces         0.076412\n",
       "other-service        0.076412\n",
       "priv-house-serv      0.076412\n",
       "tech-support         0.063123\n",
       "protective-serv      0.056478\n",
       "exec-managerial      0.053156\n",
       "Name: proportion, dtype: float64"
      ]
     },
     "execution_count": 87,
     "metadata": {},
     "output_type": "execute_result"
    }
   ],
   "source": [
    "# Combine categories that have low frequency or provide limited predictive information\n",
    "def combine_low_frequency_categories(df, threshold=0.05):\n",
    "    df_new = df.copy()\n",
    "    \n",
    "    for col in df_new.select_dtypes(include='category').columns:\n",
    "        freq = df_new[col].value_counts(normalize=True)\n",
    "        low_freq_cats = freq[freq < threshold].index\n",
    "        \n",
    "        # Replace low frequency categories with 'Other'\n",
    "        df_new[col] = df_new[col].apply(lambda x: 'Other' if x in low_freq_cats else x)\n",
    "        df_new[col] = df_new[col].astype('category')\n",
    "    \n",
    "    return df_new\n",
    "\n",
    "# Apply to training and validation sets\n",
    "X_train_combined = combine_low_frequency_categories(X_train_final, threshold=0.05)\n",
    "X_val_combined = combine_low_frequency_categories(X_val_final, threshold=0.05)\n",
    "\n",
    "# Check category distributions after combining for one example column\n",
    "X_train_combined['insured_occupation'].value_counts(normalize=True)"
   ]
  },
  {
   "cell_type": "markdown",
   "metadata": {
    "id": "C2vnyJqYDPWt"
   },
   "source": [
    "### **6.5 Dummy variable creation** <font color=\"red\">[6 Marks]</font>\n",
    "Transform categorical variables into numerical representations using dummy variables. Ensure consistent encoding between training and validation data."
   ]
  },
  {
   "cell_type": "markdown",
   "metadata": {
    "id": "pQHnbRB_DPWt"
   },
   "source": [
    "#### **6.5.1** Identify categorical columns for dummy variable creation <font color=\"red\">[1 Mark]</font>"
   ]
  },
  {
   "cell_type": "code",
   "execution_count": 90,
   "metadata": {
    "id": "YCR73H4VDPWt"
   },
   "outputs": [],
   "source": [
    "# Identify the categorical columns for creating dummy variables\n",
    "categorical_columns = X_train_combined.select_dtypes(include='category').columns.tolist()"
   ]
  },
  {
   "cell_type": "code",
   "execution_count": 91,
   "metadata": {},
   "outputs": [
    {
     "data": {
      "text/plain": [
       "['policy_state',\n",
       " 'policy_csl',\n",
       " 'insured_sex',\n",
       " 'insured_education_level',\n",
       " 'insured_occupation',\n",
       " 'insured_hobbies',\n",
       " 'insured_relationship',\n",
       " 'incident_type',\n",
       " 'collision_type',\n",
       " 'incident_severity',\n",
       " 'authorities_contacted',\n",
       " 'incident_state',\n",
       " 'incident_city',\n",
       " 'property_damage',\n",
       " 'police_report_available',\n",
       " 'auto_make',\n",
       " 'auto_model']"
      ]
     },
     "execution_count": 91,
     "metadata": {},
     "output_type": "execute_result"
    }
   ],
   "source": [
    "categorical_columns"
   ]
  },
  {
   "cell_type": "markdown",
   "metadata": {
    "id": "ZcCgF0lsDPWu"
   },
   "source": [
    "#### **6.5.2** Create dummy variables for categorical columns in training data <font color=\"red\">[2 Marks]</font>"
   ]
  },
  {
   "cell_type": "code",
   "execution_count": 93,
   "metadata": {
    "id": "JA8seldpDPWu"
   },
   "outputs": [
    {
     "data": {
      "text/plain": [
       "((301, 88),\n",
       "    age  policy_deductable  policy_annual_premium  umbrella_limit  \\\n",
       " 0   37               1000                1412.06         5000000   \n",
       " 1   45               1000                1311.30               0   \n",
       " 2   57               2000                1422.95               0   \n",
       " 3   48                500                1698.51               0   \n",
       " 4   41               1000                1435.09               0   \n",
       " \n",
       "    capital-gains  incident_hour_of_the_day  number_of_vehicles_involved  \\\n",
       " 0          60100                        21                            1   \n",
       " 1          38500                        23                            3   \n",
       " 2              0                        15                            3   \n",
       " 3              0                        18                            3   \n",
       " 4          36600                        17                            1   \n",
       " \n",
       "    bodily_injuries  witnesses  total_claim_amount  \n",
       " 0                0          3               57700  \n",
       " 1                0          0               52650  \n",
       " 2                1          3               66240  \n",
       " 3                2          1               51840  \n",
       " 4                2          0               56610  )"
      ]
     },
     "execution_count": 93,
     "metadata": {},
     "output_type": "execute_result"
    }
   ],
   "source": [
    "# Create dummy variables using the 'get_dummies' for categorical columns in training data\n",
    "X_train_dummies = pd.get_dummies(X_train_combined, columns=categorical_columns, drop_first=True)\n",
    "\n",
    "# Show shape and first few columns after encoding\n",
    "X_train_dummies.shape, X_train_dummies.iloc[:5, :10]"
   ]
  },
  {
   "cell_type": "markdown",
   "metadata": {
    "id": "cbLlOiYcDPWu"
   },
   "source": [
    "#### **6.5.3** Create dummy variables for categorical columns in validation data <font color=\"red\">[2 Marks]</font>"
   ]
  },
  {
   "cell_type": "code",
   "execution_count": 95,
   "metadata": {
    "id": "zvQ4n9yaDPWu"
   },
   "outputs": [
    {
     "data": {
      "text/plain": [
       "((130, 88),\n",
       "    age  policy_deductable  policy_annual_premium  umbrella_limit  \\\n",
       " 0   26                500                1354.83               0   \n",
       " 1   43               1000                1294.04               0   \n",
       " 2   28               2000                1595.07               0   \n",
       " 3   33               1000                1034.27               0   \n",
       " 4   34                500                1282.93               0   \n",
       " \n",
       "    capital-gains  incident_hour_of_the_day  number_of_vehicles_involved  \\\n",
       " 0          66300                        14                            2   \n",
       " 1              0                        17                            1   \n",
       " 2          75800                        19                            1   \n",
       " 3              0                        18                            1   \n",
       " 4              0                         0                            4   \n",
       " \n",
       "    bodily_injuries  witnesses  total_claim_amount  \n",
       " 0                2          2               40600  \n",
       " 1                2          3               79320  \n",
       " 2                0          2               70920  \n",
       " 3                1          0               63900  \n",
       " 4                0          0               66880  )"
      ]
     },
     "execution_count": 95,
     "metadata": {},
     "output_type": "execute_result"
    }
   ],
   "source": [
    "# Create dummy variables using the 'get_dummies' for categorical columns in validation data\n",
    "# Create dummy variables for categorical columns in validation data\n",
    "X_val_dummies = pd.get_dummies(X_val_combined, columns=categorical_columns, drop_first=True)\n",
    "\n",
    "# Align validation data with training data (ensure same columns)\n",
    "X_val_dummies = X_val_dummies.reindex(columns=X_train_dummies.columns, fill_value=0)\n",
    "\n",
    "# Show shape and first few columns after encoding\n",
    "X_val_dummies.shape, X_val_dummies.iloc[:5, :10]"
   ]
  },
  {
   "cell_type": "markdown",
   "metadata": {
    "id": "tg5crIDKDPWu"
   },
   "source": [
    "#### **6.5.4** Create dummy variable for dependent feature in training and validation data <font color = \"red\">[1 Mark]</font>"
   ]
  },
  {
   "cell_type": "markdown",
   "metadata": {
    "id": "LyreaJQXDPWu"
   },
   "source": [
    "# Create dummy variable for dependent feature in training data\n",
    "The dependent feature (fraud_reported) is already converted into a binary numeric variable (0 = No Fraud, 1 = Fraud) earlier in preprocessing, so it does not need dummy encoding.\n",
    "\n",
    "# Create dummy variable for dependent feature in validation data\n",
    "The dependent feature fraud_reported in the validation set (y_val) is also already encoded as a binary numeric variable (0 = No Fraud, 1 = Fraud).\n",
    "Since it is binary, there’s no need to create dummy variables. Models can directly use it as the target."
   ]
  },
  {
   "cell_type": "markdown",
   "metadata": {
    "id": "USXyE8QSDPWu"
   },
   "source": [
    "### **6.6 Feature scaling** <font color = red>[3 marks]</font>\n",
    "Scale numerical features to a common range to prevent features with larger values from dominating the model.  Choose a scaling method appropriate for the data and the chosen model. Apply the same scaling to both training and validation data."
   ]
  },
  {
   "cell_type": "code",
   "execution_count": 99,
   "metadata": {
    "id": "VfE4LXqXDPWu"
   },
   "outputs": [
    {
     "data": {
      "text/html": [
       "<div>\n",
       "<style scoped>\n",
       "    .dataframe tbody tr th:only-of-type {\n",
       "        vertical-align: middle;\n",
       "    }\n",
       "\n",
       "    .dataframe tbody tr th {\n",
       "        vertical-align: top;\n",
       "    }\n",
       "\n",
       "    .dataframe thead th {\n",
       "        text-align: right;\n",
       "    }\n",
       "</style>\n",
       "<table border=\"1\" class=\"dataframe\">\n",
       "  <thead>\n",
       "    <tr style=\"text-align: right;\">\n",
       "      <th></th>\n",
       "      <th>age</th>\n",
       "      <th>policy_deductable</th>\n",
       "      <th>policy_annual_premium</th>\n",
       "      <th>umbrella_limit</th>\n",
       "      <th>capital-gains</th>\n",
       "      <th>incident_hour_of_the_day</th>\n",
       "      <th>number_of_vehicles_involved</th>\n",
       "      <th>bodily_injuries</th>\n",
       "      <th>witnesses</th>\n",
       "      <th>total_claim_amount</th>\n",
       "      <th>...</th>\n",
       "      <th>auto_make_Dodge</th>\n",
       "      <th>auto_make_Ford</th>\n",
       "      <th>auto_make_Honda</th>\n",
       "      <th>auto_make_Jeep</th>\n",
       "      <th>auto_make_Mercedes</th>\n",
       "      <th>auto_make_Nissan</th>\n",
       "      <th>auto_make_Other</th>\n",
       "      <th>auto_make_Saab</th>\n",
       "      <th>auto_make_Suburu</th>\n",
       "      <th>auto_make_Toyota</th>\n",
       "    </tr>\n",
       "  </thead>\n",
       "  <tbody>\n",
       "    <tr>\n",
       "      <th>0</th>\n",
       "      <td>-1.341600</td>\n",
       "      <td>-0.991747</td>\n",
       "      <td>0.392441</td>\n",
       "      <td>-0.526861</td>\n",
       "      <td>1.529347</td>\n",
       "      <td>0.318394</td>\n",
       "      <td>0.056523</td>\n",
       "      <td>1.248782</td>\n",
       "      <td>0.535746</td>\n",
       "      <td>-0.727935</td>\n",
       "      <td>...</td>\n",
       "      <td>False</td>\n",
       "      <td>0</td>\n",
       "      <td>0</td>\n",
       "      <td>False</td>\n",
       "      <td>False</td>\n",
       "      <td>False</td>\n",
       "      <td>False</td>\n",
       "      <td>False</td>\n",
       "      <td>False</td>\n",
       "      <td>False</td>\n",
       "    </tr>\n",
       "    <tr>\n",
       "      <th>1</th>\n",
       "      <td>0.497887</td>\n",
       "      <td>-0.167118</td>\n",
       "      <td>0.140279</td>\n",
       "      <td>-0.526861</td>\n",
       "      <td>-0.825273</td>\n",
       "      <td>0.741824</td>\n",
       "      <td>-0.888664</td>\n",
       "      <td>1.248782</td>\n",
       "      <td>1.441699</td>\n",
       "      <td>1.022841</td>\n",
       "      <td>...</td>\n",
       "      <td>False</td>\n",
       "      <td>0</td>\n",
       "      <td>0</td>\n",
       "      <td>False</td>\n",
       "      <td>False</td>\n",
       "      <td>True</td>\n",
       "      <td>False</td>\n",
       "      <td>False</td>\n",
       "      <td>False</td>\n",
       "      <td>False</td>\n",
       "    </tr>\n",
       "    <tr>\n",
       "      <th>2</th>\n",
       "      <td>-1.125189</td>\n",
       "      <td>1.482142</td>\n",
       "      <td>1.388977</td>\n",
       "      <td>-0.526861</td>\n",
       "      <td>1.866736</td>\n",
       "      <td>1.024111</td>\n",
       "      <td>-0.888664</td>\n",
       "      <td>-1.176272</td>\n",
       "      <td>0.535746</td>\n",
       "      <td>0.643024</td>\n",
       "      <td>...</td>\n",
       "      <td>False</td>\n",
       "      <td>0</td>\n",
       "      <td>0</td>\n",
       "      <td>True</td>\n",
       "      <td>False</td>\n",
       "      <td>False</td>\n",
       "      <td>False</td>\n",
       "      <td>False</td>\n",
       "      <td>False</td>\n",
       "      <td>False</td>\n",
       "    </tr>\n",
       "    <tr>\n",
       "      <th>3</th>\n",
       "      <td>-0.584164</td>\n",
       "      <td>-0.167118</td>\n",
       "      <td>-0.937268</td>\n",
       "      <td>-0.526861</td>\n",
       "      <td>-0.825273</td>\n",
       "      <td>0.882968</td>\n",
       "      <td>-0.888664</td>\n",
       "      <td>0.036255</td>\n",
       "      <td>-1.276159</td>\n",
       "      <td>0.325606</td>\n",
       "      <td>...</td>\n",
       "      <td>False</td>\n",
       "      <td>0</td>\n",
       "      <td>0</td>\n",
       "      <td>False</td>\n",
       "      <td>False</td>\n",
       "      <td>False</td>\n",
       "      <td>False</td>\n",
       "      <td>False</td>\n",
       "      <td>False</td>\n",
       "      <td>False</td>\n",
       "    </tr>\n",
       "    <tr>\n",
       "      <th>4</th>\n",
       "      <td>-0.475959</td>\n",
       "      <td>-0.991747</td>\n",
       "      <td>0.094194</td>\n",
       "      <td>-0.526861</td>\n",
       "      <td>-0.825273</td>\n",
       "      <td>-1.657616</td>\n",
       "      <td>1.946896</td>\n",
       "      <td>-1.176272</td>\n",
       "      <td>-1.276159</td>\n",
       "      <td>0.460350</td>\n",
       "      <td>...</td>\n",
       "      <td>False</td>\n",
       "      <td>0</td>\n",
       "      <td>0</td>\n",
       "      <td>False</td>\n",
       "      <td>False</td>\n",
       "      <td>False</td>\n",
       "      <td>False</td>\n",
       "      <td>False</td>\n",
       "      <td>False</td>\n",
       "      <td>False</td>\n",
       "    </tr>\n",
       "  </tbody>\n",
       "</table>\n",
       "<p>5 rows × 88 columns</p>\n",
       "</div>"
      ],
      "text/plain": [
       "        age  policy_deductable  policy_annual_premium  umbrella_limit  \\\n",
       "0 -1.341600          -0.991747               0.392441       -0.526861   \n",
       "1  0.497887          -0.167118               0.140279       -0.526861   \n",
       "2 -1.125189           1.482142               1.388977       -0.526861   \n",
       "3 -0.584164          -0.167118              -0.937268       -0.526861   \n",
       "4 -0.475959          -0.991747               0.094194       -0.526861   \n",
       "\n",
       "   capital-gains  incident_hour_of_the_day  number_of_vehicles_involved  \\\n",
       "0       1.529347                  0.318394                     0.056523   \n",
       "1      -0.825273                  0.741824                    -0.888664   \n",
       "2       1.866736                  1.024111                    -0.888664   \n",
       "3      -0.825273                  0.882968                    -0.888664   \n",
       "4      -0.825273                 -1.657616                     1.946896   \n",
       "\n",
       "   bodily_injuries  witnesses  total_claim_amount  ...  auto_make_Dodge  \\\n",
       "0         1.248782   0.535746           -0.727935  ...            False   \n",
       "1         1.248782   1.441699            1.022841  ...            False   \n",
       "2        -1.176272   0.535746            0.643024  ...            False   \n",
       "3         0.036255  -1.276159            0.325606  ...            False   \n",
       "4        -1.176272  -1.276159            0.460350  ...            False   \n",
       "\n",
       "   auto_make_Ford  auto_make_Honda  auto_make_Jeep  auto_make_Mercedes  \\\n",
       "0               0                0           False               False   \n",
       "1               0                0           False               False   \n",
       "2               0                0            True               False   \n",
       "3               0                0           False               False   \n",
       "4               0                0           False               False   \n",
       "\n",
       "   auto_make_Nissan  auto_make_Other  auto_make_Saab  auto_make_Suburu  \\\n",
       "0             False            False           False             False   \n",
       "1              True            False           False             False   \n",
       "2             False            False           False             False   \n",
       "3             False            False           False             False   \n",
       "4             False            False           False             False   \n",
       "\n",
       "   auto_make_Toyota  \n",
       "0             False  \n",
       "1             False  \n",
       "2             False  \n",
       "3             False  \n",
       "4             False  \n",
       "\n",
       "[5 rows x 88 columns]"
      ]
     },
     "execution_count": 99,
     "metadata": {},
     "output_type": "execute_result"
    }
   ],
   "source": [
    "# Import the necessary scaling tool from scikit-learn\n",
    "from sklearn.preprocessing import StandardScaler, MinMaxScaler, RobustScaler\n",
    "# Scale the numeric features present in the training data\n",
    "numeric_columns = X_train_dummies.select_dtypes(include=['int64', 'float64']).columns.tolist()\n",
    "\n",
    "# Initialize scaler\n",
    "scaler = StandardScaler()\n",
    "\n",
    "# Fit on training data and transform\n",
    "X_train_dummies[numeric_columns] = scaler.fit_transform(X_train_dummies[numeric_columns])\n",
    "\n",
    "# Show first few rows of scaled training data\n",
    "X_train_dummies.head()\n",
    "# Scale the numeric features present in the validation data\n",
    "X_val_dummies[numeric_columns] = scaler.transform(X_val_dummies[numeric_columns])\n",
    "\n",
    "# Show first few rows of scaled validation data\n",
    "X_val_dummies.head()"
   ]
  },
  {
   "cell_type": "markdown",
   "metadata": {
    "id": "pqIhEkpxDPWu"
   },
   "source": [
    "## **7. Model Building** <font color = red>[50 marks]</font>"
   ]
  },
  {
   "cell_type": "markdown",
   "metadata": {
    "id": "i2OLtpZWUmgS"
   },
   "source": [
    "In this task, you will be building two machine learning models: Logistic Regression and Random Forest. Each model will go through a structured process to ensure optimal performance. The key steps for each model are outlined below:\n",
    "\n",
    "**Logistic Regression Model**\n",
    "- Feature Selection using RFECV – Identify the most relevant features using Recursive Feature Elimination with Cross-Validation.\n",
    "- Model Building and Multicollinearity Assessment – Build the logistic regression model and analyse statistical aspects such as p-values and VIFs to detect multicollinearity.\n",
    "- Model Training and Evaluation on Training Data – Fit the model on the training data and assess initial performance.\n",
    "- Finding the Optimal Cutoff – Determine the best probability threshold by analysing the sensitivity-specificity tradeoff and precision-recall tradeoff.\n",
    "- FInal Prediction and Evaluation on Training Data using the Optimal Cutoff – Generate final predictions using the selected cutoff and evaluate model performance.\n",
    "\n",
    "**Random Forest Model**\n",
    "- Get Feature Importances - Obtain the importance scores for each feature and select the important features to train the model.\n",
    "- Model Evaluation on Training Data – Assess performance metrics on the training data.\n",
    "- Check Model Overfitting using Cross-Validation – Evaluate generalisation by performing cross-validation.\n",
    "- Hyperparameter Tuning using Grid Search – Optimise model performance by fine-tuning hyperparameters.\n",
    "- Final Model and Evaluation on Training Data – Train the final model using the best parameters and assess its performance."
   ]
  },
  {
   "cell_type": "markdown",
   "metadata": {
    "id": "DwQl23_eDPWx"
   },
   "source": [
    "### **7.1 Feature selection** <font color = red>[4 marks]</font>\n",
    "Identify and select the most relevant features for building a logistic regression model using Recursive Feature Elimination with Cross-Validation (RFECV)."
   ]
  },
  {
   "cell_type": "markdown",
   "metadata": {
    "id": "x7oRIQMhDPWy"
   },
   "source": [
    "#### **7.1.1** Import necessary libraries <font color=\"red\">[1 Mark]</font>"
   ]
  },
  {
   "cell_type": "code",
   "execution_count": 104,
   "metadata": {
    "id": "RzQF3EyIDPWy"
   },
   "outputs": [],
   "source": [
    "# Import necessary libraries\n",
    "from sklearn.linear_model import LogisticRegression\n",
    "from sklearn.feature_selection import RFECV\n",
    "from sklearn.model_selection import StratifiedKFold"
   ]
  },
  {
   "cell_type": "markdown",
   "metadata": {
    "id": "j1sHmcZKDPWy"
   },
   "source": [
    "#### **7.1.2** Perform feature selection <font color=\"red\">[2 Mark]</font>"
   ]
  },
  {
   "cell_type": "code",
   "execution_count": 106,
   "metadata": {
    "id": "NKRnzy8sDPWy"
   },
   "outputs": [
    {
     "data": {
      "text/plain": [
       "(47,\n",
       " ['incident_hour_of_the_day',\n",
       "  'number_of_vehicles_involved',\n",
       "  'total_claim_amount',\n",
       "  'vehicle_claim_ratio',\n",
       "  'premium_to_claim_ratio',\n",
       "  'policy_state_IN',\n",
       "  'policy_state_OH',\n",
       "  'policy_csl_250/500',\n",
       "  'insured_sex_MALE',\n",
       "  'insured_education_level_College',\n",
       "  'insured_education_level_JD',\n",
       "  'insured_education_level_MD',\n",
       "  'insured_education_level_Masters',\n",
       "  'insured_education_level_PhD',\n",
       "  'insured_occupation_armed-forces',\n",
       "  'insured_occupation_exec-managerial',\n",
       "  'insured_occupation_machine-op-inspct',\n",
       "  'insured_occupation_protective-serv',\n",
       "  'insured_occupation_sales',\n",
       "  'insured_occupation_tech-support',\n",
       "  'insured_occupation_transport-moving',\n",
       "  'insured_hobbies_base-jumping',\n",
       "  'insured_hobbies_board-games',\n",
       "  'insured_hobbies_bungie-jumping',\n",
       "  'insured_hobbies_movies',\n",
       "  'insured_hobbies_yachting',\n",
       "  'insured_relationship_own-child',\n",
       "  'incident_severity_Minor Damage',\n",
       "  'incident_severity_Total Loss',\n",
       "  'authorities_contacted_Fire',\n",
       "  'incident_state_Other',\n",
       "  'incident_state_VA',\n",
       "  'incident_state_WV',\n",
       "  'incident_city_Hillsdale',\n",
       "  'incident_city_Northbrook',\n",
       "  'incident_city_Riverwood',\n",
       "  'incident_city_Springfield',\n",
       "  'police_report_available_YES',\n",
       "  'auto_make_BMW',\n",
       "  'auto_make_Dodge',\n",
       "  'auto_make_Ford',\n",
       "  'auto_make_Jeep',\n",
       "  'auto_make_Mercedes',\n",
       "  'auto_make_Nissan',\n",
       "  'auto_make_Other',\n",
       "  'auto_make_Suburu',\n",
       "  'auto_make_Toyota'])"
      ]
     },
     "execution_count": 106,
     "metadata": {},
     "output_type": "execute_result"
    }
   ],
   "source": [
    "# Apply RFECV to identify the most relevant features\n",
    "# Initialize logistic regression model\n",
    "log_reg = LogisticRegression(max_iter=1000, solver='liblinear', class_weight='balanced')\n",
    "\n",
    "# Define cross-validation strategy\n",
    "cv_strategy = StratifiedKFold(n_splits=5, shuffle=True, random_state=42)\n",
    "\n",
    "# Apply RFECV\n",
    "rfecv = RFECV(estimator=log_reg, step=1, cv=cv_strategy, scoring='accuracy', n_jobs=-1)\n",
    "rfecv.fit(X_train_dummies, y_train)\n",
    "\n",
    "# Selected features\n",
    "selected_features = X_train_dummies.columns[rfecv.support_]\n",
    "\n",
    "# Show results\n",
    "len(selected_features), selected_features.tolist()"
   ]
  },
  {
   "cell_type": "code",
   "execution_count": 107,
   "metadata": {
    "id": "1I0kn-9qDPWy"
   },
   "outputs": [
    {
     "data": {
      "text/html": [
       "<div>\n",
       "<style scoped>\n",
       "    .dataframe tbody tr th:only-of-type {\n",
       "        vertical-align: middle;\n",
       "    }\n",
       "\n",
       "    .dataframe tbody tr th {\n",
       "        vertical-align: top;\n",
       "    }\n",
       "\n",
       "    .dataframe thead th {\n",
       "        text-align: right;\n",
       "    }\n",
       "</style>\n",
       "<table border=\"1\" class=\"dataframe\">\n",
       "  <thead>\n",
       "    <tr style=\"text-align: right;\">\n",
       "      <th></th>\n",
       "      <th>Feature</th>\n",
       "      <th>Coefficient</th>\n",
       "      <th>Absolute_Importance</th>\n",
       "    </tr>\n",
       "  </thead>\n",
       "  <tbody>\n",
       "    <tr>\n",
       "      <th>57</th>\n",
       "      <td>incident_severity_Minor Damage</td>\n",
       "      <td>-3.312106</td>\n",
       "      <td>3.312106</td>\n",
       "    </tr>\n",
       "    <tr>\n",
       "      <th>58</th>\n",
       "      <td>incident_severity_Total Loss</td>\n",
       "      <td>-2.558245</td>\n",
       "      <td>2.558245</td>\n",
       "    </tr>\n",
       "    <tr>\n",
       "      <th>42</th>\n",
       "      <td>insured_hobbies_board-games</td>\n",
       "      <td>1.274050</td>\n",
       "      <td>1.274050</td>\n",
       "    </tr>\n",
       "    <tr>\n",
       "      <th>32</th>\n",
       "      <td>insured_occupation_exec-managerial</td>\n",
       "      <td>1.107729</td>\n",
       "      <td>1.107729</td>\n",
       "    </tr>\n",
       "    <tr>\n",
       "      <th>76</th>\n",
       "      <td>auto_make_BMW</td>\n",
       "      <td>1.080317</td>\n",
       "      <td>1.080317</td>\n",
       "    </tr>\n",
       "    <tr>\n",
       "      <th>87</th>\n",
       "      <td>auto_make_Toyota</td>\n",
       "      <td>-1.043603</td>\n",
       "      <td>1.043603</td>\n",
       "    </tr>\n",
       "    <tr>\n",
       "      <th>86</th>\n",
       "      <td>auto_make_Suburu</td>\n",
       "      <td>-0.965907</td>\n",
       "      <td>0.965907</td>\n",
       "    </tr>\n",
       "    <tr>\n",
       "      <th>66</th>\n",
       "      <td>incident_state_VA</td>\n",
       "      <td>0.950470</td>\n",
       "      <td>0.950470</td>\n",
       "    </tr>\n",
       "    <tr>\n",
       "      <th>64</th>\n",
       "      <td>incident_state_Other</td>\n",
       "      <td>0.898977</td>\n",
       "      <td>0.898977</td>\n",
       "    </tr>\n",
       "    <tr>\n",
       "      <th>60</th>\n",
       "      <td>authorities_contacted_Fire</td>\n",
       "      <td>-0.846733</td>\n",
       "      <td>0.846733</td>\n",
       "    </tr>\n",
       "    <tr>\n",
       "      <th>40</th>\n",
       "      <td>insured_occupation_transport-moving</td>\n",
       "      <td>0.811804</td>\n",
       "      <td>0.811804</td>\n",
       "    </tr>\n",
       "    <tr>\n",
       "      <th>27</th>\n",
       "      <td>insured_education_level_MD</td>\n",
       "      <td>0.785091</td>\n",
       "      <td>0.785091</td>\n",
       "    </tr>\n",
       "    <tr>\n",
       "      <th>72</th>\n",
       "      <td>incident_city_Riverwood</td>\n",
       "      <td>-0.775614</td>\n",
       "      <td>0.775614</td>\n",
       "    </tr>\n",
       "    <tr>\n",
       "      <th>28</th>\n",
       "      <td>insured_education_level_Masters</td>\n",
       "      <td>-0.759244</td>\n",
       "      <td>0.759244</td>\n",
       "    </tr>\n",
       "    <tr>\n",
       "      <th>83</th>\n",
       "      <td>auto_make_Nissan</td>\n",
       "      <td>-0.750164</td>\n",
       "      <td>0.750164</td>\n",
       "    </tr>\n",
       "    <tr>\n",
       "      <th>17</th>\n",
       "      <td>premium_to_claim_ratio</td>\n",
       "      <td>-0.736421</td>\n",
       "      <td>0.736421</td>\n",
       "    </tr>\n",
       "    <tr>\n",
       "      <th>81</th>\n",
       "      <td>auto_make_Jeep</td>\n",
       "      <td>0.732561</td>\n",
       "      <td>0.732561</td>\n",
       "    </tr>\n",
       "    <tr>\n",
       "      <th>38</th>\n",
       "      <td>insured_occupation_sales</td>\n",
       "      <td>0.730077</td>\n",
       "      <td>0.730077</td>\n",
       "    </tr>\n",
       "    <tr>\n",
       "      <th>82</th>\n",
       "      <td>auto_make_Mercedes</td>\n",
       "      <td>0.707356</td>\n",
       "      <td>0.707356</td>\n",
       "    </tr>\n",
       "    <tr>\n",
       "      <th>26</th>\n",
       "      <td>insured_education_level_JD</td>\n",
       "      <td>0.696387</td>\n",
       "      <td>0.696387</td>\n",
       "    </tr>\n",
       "  </tbody>\n",
       "</table>\n",
       "</div>"
      ],
      "text/plain": [
       "                                Feature  Coefficient  Absolute_Importance\n",
       "57       incident_severity_Minor Damage    -3.312106             3.312106\n",
       "58         incident_severity_Total Loss    -2.558245             2.558245\n",
       "42          insured_hobbies_board-games     1.274050             1.274050\n",
       "32   insured_occupation_exec-managerial     1.107729             1.107729\n",
       "76                        auto_make_BMW     1.080317             1.080317\n",
       "87                     auto_make_Toyota    -1.043603             1.043603\n",
       "86                     auto_make_Suburu    -0.965907             0.965907\n",
       "66                    incident_state_VA     0.950470             0.950470\n",
       "64                 incident_state_Other     0.898977             0.898977\n",
       "60           authorities_contacted_Fire    -0.846733             0.846733\n",
       "40  insured_occupation_transport-moving     0.811804             0.811804\n",
       "27           insured_education_level_MD     0.785091             0.785091\n",
       "72              incident_city_Riverwood    -0.775614             0.775614\n",
       "28      insured_education_level_Masters    -0.759244             0.759244\n",
       "83                     auto_make_Nissan    -0.750164             0.750164\n",
       "17               premium_to_claim_ratio    -0.736421             0.736421\n",
       "81                       auto_make_Jeep     0.732561             0.732561\n",
       "38             insured_occupation_sales     0.730077             0.730077\n",
       "82                   auto_make_Mercedes     0.707356             0.707356\n",
       "26           insured_education_level_JD     0.696387             0.696387"
      ]
     },
     "execution_count": 107,
     "metadata": {},
     "output_type": "execute_result"
    }
   ],
   "source": [
    "# Display the features ranking by RFECV in a DataFrame\n",
    "# Train logistic regression with class balancing\n",
    "log_reg = LogisticRegression(max_iter=1000, solver='liblinear', class_weight='balanced')\n",
    "log_reg.fit(X_train_dummies, y_train)\n",
    "\n",
    "# Get feature importance from coefficients\n",
    "feature_importance = pd.DataFrame({\n",
    "    'Feature': X_train_dummies.columns,\n",
    "    'Coefficient': log_reg.coef_[0],\n",
    "    'Absolute_Importance': abs(log_reg.coef_[0])\n",
    "}).sort_values(by='Absolute_Importance', ascending=False)\n",
    "\n",
    "# Display top 20 features\n",
    "feature_importance.head(20)"
   ]
  },
  {
   "cell_type": "markdown",
   "metadata": {
    "id": "KKdXnylEDPWz"
   },
   "source": [
    "#### **7.1.2** Retain the selected features <font color=\"red\">[1 Mark]</font>"
   ]
  },
  {
   "cell_type": "code",
   "execution_count": 109,
   "metadata": {
    "id": "Q8TkAe72DPWz"
   },
   "outputs": [
    {
     "name": "stdout",
     "output_type": "stream",
     "text": [
      "Number of selected features: 44\n",
      "Selected features: ['incident_hour_of_the_day', 'premium_to_claim_ratio', 'policy_state_IN', 'policy_state_OH', 'insured_sex_MALE', 'insured_education_level_College', 'insured_education_level_JD', 'insured_education_level_MD', 'insured_education_level_Masters', 'insured_education_level_PhD', 'insured_occupation_armed-forces', 'insured_occupation_exec-managerial', 'insured_occupation_machine-op-inspct', 'insured_occupation_other-service', 'insured_occupation_protective-serv', 'insured_occupation_sales', 'insured_occupation_tech-support', 'insured_occupation_transport-moving', 'insured_hobbies_base-jumping', 'insured_hobbies_board-games', 'insured_hobbies_bungie-jumping', 'insured_hobbies_movies', 'insured_hobbies_yachting', 'incident_severity_Minor Damage', 'incident_severity_Total Loss', 'authorities_contacted_Fire', 'incident_state_Other', 'incident_state_VA', 'incident_state_WV', 'incident_city_Hillsdale', 'incident_city_Northbrook', 'incident_city_Riverwood', 'incident_city_Springfield', 'police_report_available_YES', 'auto_make_BMW', 'auto_make_Dodge', 'auto_make_Ford', 'auto_make_Honda', 'auto_make_Jeep', 'auto_make_Mercedes', 'auto_make_Nissan', 'auto_make_Other', 'auto_make_Suburu', 'auto_make_Toyota']\n"
     ]
    }
   ],
   "source": [
    "# Put columns selected by RFECV into variable 'col'\n",
    "from sklearn.feature_selection import SelectFromModel\n",
    "# Train logistic regression\n",
    "log_reg = LogisticRegression(max_iter=1000, solver='liblinear', class_weight='balanced')\n",
    "log_reg.fit(X_train_dummies, y_train)\n",
    "\n",
    "# Select features using model-based selection\n",
    "selector = SelectFromModel(log_reg, prefit=True, threshold=\"median\")\n",
    "\n",
    "# Get selected features\n",
    "col = X_train_dummies.columns[selector.get_support()].tolist()\n",
    "\n",
    "print(\"Number of selected features:\", len(col))\n",
    "print(\"Selected features:\", col)"
   ]
  },
  {
   "cell_type": "markdown",
   "metadata": {
    "id": "J8zNEaKcDPWz"
   },
   "source": [
    "### **7.2 Build Logistic Regression Model** <font color = red>[12 marks]</font>\n",
    "After selecting the optimal features using RFECV, utilise these features to build a logistic regression model with Statsmodels. This approach enables a detailed statistical analysis of the model, including the assessment of p-values and Variance Inflation Factors (VIFs). Evaluating these metrics is crucial for detecting multicollinearity and ensuring that the selected predictors are not highly correlated."
   ]
  },
  {
   "cell_type": "markdown",
   "metadata": {
    "id": "xXwl9DO3DPWz"
   },
   "source": [
    "#### **7.2.1** Select relevant features and add constant in training data <font color=\"red\">[1 Mark]</font>"
   ]
  },
  {
   "cell_type": "code",
   "execution_count": 112,
   "metadata": {
    "id": "kF5g0yScDPWz"
   },
   "outputs": [],
   "source": [
    "# Select only the columns selected by RFECV\n",
    "X_train_selected = X_train_dummies[col]\n",
    "X_val_selected = X_val_dummies[col]"
   ]
  },
  {
   "cell_type": "code",
   "execution_count": 113,
   "metadata": {
    "id": "aBzSiNhrDPWz"
   },
   "outputs": [
    {
     "data": {
      "text/html": [
       "<div>\n",
       "<style scoped>\n",
       "    .dataframe tbody tr th:only-of-type {\n",
       "        vertical-align: middle;\n",
       "    }\n",
       "\n",
       "    .dataframe tbody tr th {\n",
       "        vertical-align: top;\n",
       "    }\n",
       "\n",
       "    .dataframe thead th {\n",
       "        text-align: right;\n",
       "    }\n",
       "</style>\n",
       "<table border=\"1\" class=\"dataframe\">\n",
       "  <thead>\n",
       "    <tr style=\"text-align: right;\">\n",
       "      <th></th>\n",
       "      <th>const</th>\n",
       "      <th>age</th>\n",
       "      <th>policy_deductable</th>\n",
       "      <th>policy_annual_premium</th>\n",
       "      <th>umbrella_limit</th>\n",
       "      <th>capital-gains</th>\n",
       "      <th>incident_hour_of_the_day</th>\n",
       "      <th>number_of_vehicles_involved</th>\n",
       "      <th>bodily_injuries</th>\n",
       "      <th>witnesses</th>\n",
       "      <th>...</th>\n",
       "      <th>auto_make_Ford</th>\n",
       "      <th>auto_make_Honda</th>\n",
       "      <th>auto_make_Jeep</th>\n",
       "      <th>auto_make_Mercedes</th>\n",
       "      <th>auto_make_Nissan</th>\n",
       "      <th>auto_make_Other</th>\n",
       "      <th>auto_make_Saab</th>\n",
       "      <th>auto_make_Suburu</th>\n",
       "      <th>auto_make_Toyota</th>\n",
       "      <th>fraud_reported</th>\n",
       "    </tr>\n",
       "  </thead>\n",
       "  <tbody>\n",
       "    <tr>\n",
       "      <th>0</th>\n",
       "      <td>1.0</td>\n",
       "      <td>-0.151343</td>\n",
       "      <td>-0.167118</td>\n",
       "      <td>0.629836</td>\n",
       "      <td>1.604661</td>\n",
       "      <td>1.309157</td>\n",
       "      <td>1.306398</td>\n",
       "      <td>-0.888664</td>\n",
       "      <td>-1.176272</td>\n",
       "      <td>1.441699</td>\n",
       "      <td>...</td>\n",
       "      <td>False</td>\n",
       "      <td>False</td>\n",
       "      <td>False</td>\n",
       "      <td>False</td>\n",
       "      <td>True</td>\n",
       "      <td>False</td>\n",
       "      <td>False</td>\n",
       "      <td>False</td>\n",
       "      <td>False</td>\n",
       "      <td>0</td>\n",
       "    </tr>\n",
       "    <tr>\n",
       "      <th>1</th>\n",
       "      <td>1.0</td>\n",
       "      <td>0.714297</td>\n",
       "      <td>-0.167118</td>\n",
       "      <td>0.211875</td>\n",
       "      <td>-0.526861</td>\n",
       "      <td>0.542041</td>\n",
       "      <td>1.588686</td>\n",
       "      <td>1.001709</td>\n",
       "      <td>-1.176272</td>\n",
       "      <td>-1.276159</td>\n",
       "      <td>...</td>\n",
       "      <td>True</td>\n",
       "      <td>False</td>\n",
       "      <td>False</td>\n",
       "      <td>False</td>\n",
       "      <td>False</td>\n",
       "      <td>False</td>\n",
       "      <td>False</td>\n",
       "      <td>False</td>\n",
       "      <td>False</td>\n",
       "      <td>1</td>\n",
       "    </tr>\n",
       "    <tr>\n",
       "      <th>2</th>\n",
       "      <td>1.0</td>\n",
       "      <td>2.012759</td>\n",
       "      <td>1.482142</td>\n",
       "      <td>0.675009</td>\n",
       "      <td>-0.526861</td>\n",
       "      <td>-0.825273</td>\n",
       "      <td>0.459537</td>\n",
       "      <td>1.001709</td>\n",
       "      <td>0.036255</td>\n",
       "      <td>1.441699</td>\n",
       "      <td>...</td>\n",
       "      <td>False</td>\n",
       "      <td>False</td>\n",
       "      <td>False</td>\n",
       "      <td>False</td>\n",
       "      <td>True</td>\n",
       "      <td>False</td>\n",
       "      <td>False</td>\n",
       "      <td>False</td>\n",
       "      <td>False</td>\n",
       "      <td>0</td>\n",
       "    </tr>\n",
       "    <tr>\n",
       "      <th>3</th>\n",
       "      <td>1.0</td>\n",
       "      <td>1.038913</td>\n",
       "      <td>-0.991747</td>\n",
       "      <td>1.818055</td>\n",
       "      <td>-0.526861</td>\n",
       "      <td>-0.825273</td>\n",
       "      <td>0.882968</td>\n",
       "      <td>1.001709</td>\n",
       "      <td>1.248782</td>\n",
       "      <td>-0.370207</td>\n",
       "      <td>...</td>\n",
       "      <td>False</td>\n",
       "      <td>False</td>\n",
       "      <td>False</td>\n",
       "      <td>False</td>\n",
       "      <td>False</td>\n",
       "      <td>True</td>\n",
       "      <td>False</td>\n",
       "      <td>False</td>\n",
       "      <td>False</td>\n",
       "      <td>0</td>\n",
       "    </tr>\n",
       "    <tr>\n",
       "      <th>4</th>\n",
       "      <td>1.0</td>\n",
       "      <td>0.281477</td>\n",
       "      <td>-0.167118</td>\n",
       "      <td>0.725367</td>\n",
       "      <td>-0.526861</td>\n",
       "      <td>0.474563</td>\n",
       "      <td>0.741824</td>\n",
       "      <td>-0.888664</td>\n",
       "      <td>1.248782</td>\n",
       "      <td>-1.276159</td>\n",
       "      <td>...</td>\n",
       "      <td>False</td>\n",
       "      <td>False</td>\n",
       "      <td>False</td>\n",
       "      <td>False</td>\n",
       "      <td>False</td>\n",
       "      <td>False</td>\n",
       "      <td>False</td>\n",
       "      <td>False</td>\n",
       "      <td>False</td>\n",
       "      <td>0</td>\n",
       "    </tr>\n",
       "    <tr>\n",
       "      <th>...</th>\n",
       "      <td>...</td>\n",
       "      <td>...</td>\n",
       "      <td>...</td>\n",
       "      <td>...</td>\n",
       "      <td>...</td>\n",
       "      <td>...</td>\n",
       "      <td>...</td>\n",
       "      <td>...</td>\n",
       "      <td>...</td>\n",
       "      <td>...</td>\n",
       "      <td>...</td>\n",
       "      <td>...</td>\n",
       "      <td>...</td>\n",
       "      <td>...</td>\n",
       "      <td>...</td>\n",
       "      <td>...</td>\n",
       "      <td>...</td>\n",
       "      <td>...</td>\n",
       "      <td>...</td>\n",
       "      <td>...</td>\n",
       "      <td>...</td>\n",
       "    </tr>\n",
       "    <tr>\n",
       "      <th>296</th>\n",
       "      <td>1.0</td>\n",
       "      <td>-0.475959</td>\n",
       "      <td>-0.167118</td>\n",
       "      <td>-1.791151</td>\n",
       "      <td>0.752052</td>\n",
       "      <td>-0.825273</td>\n",
       "      <td>-0.246181</td>\n",
       "      <td>-0.888664</td>\n",
       "      <td>1.248782</td>\n",
       "      <td>0.535746</td>\n",
       "      <td>...</td>\n",
       "      <td>False</td>\n",
       "      <td>False</td>\n",
       "      <td>False</td>\n",
       "      <td>False</td>\n",
       "      <td>False</td>\n",
       "      <td>False</td>\n",
       "      <td>False</td>\n",
       "      <td>False</td>\n",
       "      <td>False</td>\n",
       "      <td>0</td>\n",
       "    </tr>\n",
       "    <tr>\n",
       "      <th>297</th>\n",
       "      <td>1.0</td>\n",
       "      <td>1.796349</td>\n",
       "      <td>1.482142</td>\n",
       "      <td>1.366038</td>\n",
       "      <td>-0.526861</td>\n",
       "      <td>1.142238</td>\n",
       "      <td>-0.810755</td>\n",
       "      <td>1.001709</td>\n",
       "      <td>1.248782</td>\n",
       "      <td>-1.276159</td>\n",
       "      <td>...</td>\n",
       "      <td>False</td>\n",
       "      <td>False</td>\n",
       "      <td>False</td>\n",
       "      <td>False</td>\n",
       "      <td>False</td>\n",
       "      <td>False</td>\n",
       "      <td>False</td>\n",
       "      <td>False</td>\n",
       "      <td>True</td>\n",
       "      <td>0</td>\n",
       "    </tr>\n",
       "    <tr>\n",
       "      <th>298</th>\n",
       "      <td>1.0</td>\n",
       "      <td>-1.233394</td>\n",
       "      <td>-0.167118</td>\n",
       "      <td>1.538432</td>\n",
       "      <td>-0.526861</td>\n",
       "      <td>-0.825273</td>\n",
       "      <td>-1.093042</td>\n",
       "      <td>-0.888664</td>\n",
       "      <td>0.036255</td>\n",
       "      <td>0.535746</td>\n",
       "      <td>...</td>\n",
       "      <td>False</td>\n",
       "      <td>False</td>\n",
       "      <td>False</td>\n",
       "      <td>False</td>\n",
       "      <td>True</td>\n",
       "      <td>False</td>\n",
       "      <td>False</td>\n",
       "      <td>False</td>\n",
       "      <td>False</td>\n",
       "      <td>0</td>\n",
       "    </tr>\n",
       "    <tr>\n",
       "      <th>299</th>\n",
       "      <td>1.0</td>\n",
       "      <td>0.497887</td>\n",
       "      <td>1.482142</td>\n",
       "      <td>1.046802</td>\n",
       "      <td>-0.526861</td>\n",
       "      <td>0.865224</td>\n",
       "      <td>-0.669611</td>\n",
       "      <td>-0.888664</td>\n",
       "      <td>0.036255</td>\n",
       "      <td>-0.370207</td>\n",
       "      <td>...</td>\n",
       "      <td>False</td>\n",
       "      <td>False</td>\n",
       "      <td>False</td>\n",
       "      <td>False</td>\n",
       "      <td>False</td>\n",
       "      <td>False</td>\n",
       "      <td>False</td>\n",
       "      <td>False</td>\n",
       "      <td>False</td>\n",
       "      <td>0</td>\n",
       "    </tr>\n",
       "    <tr>\n",
       "      <th>300</th>\n",
       "      <td>1.0</td>\n",
       "      <td>-0.800574</td>\n",
       "      <td>1.482142</td>\n",
       "      <td>-0.105909</td>\n",
       "      <td>3.309880</td>\n",
       "      <td>-0.825273</td>\n",
       "      <td>-1.516473</td>\n",
       "      <td>0.056523</td>\n",
       "      <td>1.248782</td>\n",
       "      <td>-0.370207</td>\n",
       "      <td>...</td>\n",
       "      <td>False</td>\n",
       "      <td>False</td>\n",
       "      <td>False</td>\n",
       "      <td>False</td>\n",
       "      <td>False</td>\n",
       "      <td>False</td>\n",
       "      <td>False</td>\n",
       "      <td>False</td>\n",
       "      <td>False</td>\n",
       "      <td>1</td>\n",
       "    </tr>\n",
       "  </tbody>\n",
       "</table>\n",
       "<p>301 rows × 90 columns</p>\n",
       "</div>"
      ],
      "text/plain": [
       "     const       age  policy_deductable  policy_annual_premium  \\\n",
       "0      1.0 -0.151343          -0.167118               0.629836   \n",
       "1      1.0  0.714297          -0.167118               0.211875   \n",
       "2      1.0  2.012759           1.482142               0.675009   \n",
       "3      1.0  1.038913          -0.991747               1.818055   \n",
       "4      1.0  0.281477          -0.167118               0.725367   \n",
       "..     ...       ...                ...                    ...   \n",
       "296    1.0 -0.475959          -0.167118              -1.791151   \n",
       "297    1.0  1.796349           1.482142               1.366038   \n",
       "298    1.0 -1.233394          -0.167118               1.538432   \n",
       "299    1.0  0.497887           1.482142               1.046802   \n",
       "300    1.0 -0.800574           1.482142              -0.105909   \n",
       "\n",
       "     umbrella_limit  capital-gains  incident_hour_of_the_day  \\\n",
       "0          1.604661       1.309157                  1.306398   \n",
       "1         -0.526861       0.542041                  1.588686   \n",
       "2         -0.526861      -0.825273                  0.459537   \n",
       "3         -0.526861      -0.825273                  0.882968   \n",
       "4         -0.526861       0.474563                  0.741824   \n",
       "..              ...            ...                       ...   \n",
       "296        0.752052      -0.825273                 -0.246181   \n",
       "297       -0.526861       1.142238                 -0.810755   \n",
       "298       -0.526861      -0.825273                 -1.093042   \n",
       "299       -0.526861       0.865224                 -0.669611   \n",
       "300        3.309880      -0.825273                 -1.516473   \n",
       "\n",
       "     number_of_vehicles_involved  bodily_injuries  witnesses  ...  \\\n",
       "0                      -0.888664        -1.176272   1.441699  ...   \n",
       "1                       1.001709        -1.176272  -1.276159  ...   \n",
       "2                       1.001709         0.036255   1.441699  ...   \n",
       "3                       1.001709         1.248782  -0.370207  ...   \n",
       "4                      -0.888664         1.248782  -1.276159  ...   \n",
       "..                           ...              ...        ...  ...   \n",
       "296                    -0.888664         1.248782   0.535746  ...   \n",
       "297                     1.001709         1.248782  -1.276159  ...   \n",
       "298                    -0.888664         0.036255   0.535746  ...   \n",
       "299                    -0.888664         0.036255  -0.370207  ...   \n",
       "300                     0.056523         1.248782  -0.370207  ...   \n",
       "\n",
       "     auto_make_Ford  auto_make_Honda  auto_make_Jeep  auto_make_Mercedes  \\\n",
       "0             False            False           False               False   \n",
       "1              True            False           False               False   \n",
       "2             False            False           False               False   \n",
       "3             False            False           False               False   \n",
       "4             False            False           False               False   \n",
       "..              ...              ...             ...                 ...   \n",
       "296           False            False           False               False   \n",
       "297           False            False           False               False   \n",
       "298           False            False           False               False   \n",
       "299           False            False           False               False   \n",
       "300           False            False           False               False   \n",
       "\n",
       "     auto_make_Nissan  auto_make_Other  auto_make_Saab  auto_make_Suburu  \\\n",
       "0                True            False           False             False   \n",
       "1               False            False           False             False   \n",
       "2                True            False           False             False   \n",
       "3               False             True           False             False   \n",
       "4               False            False           False             False   \n",
       "..                ...              ...             ...               ...   \n",
       "296             False            False           False             False   \n",
       "297             False            False           False             False   \n",
       "298              True            False           False             False   \n",
       "299             False            False           False             False   \n",
       "300             False            False           False             False   \n",
       "\n",
       "     auto_make_Toyota  fraud_reported  \n",
       "0               False               0  \n",
       "1               False               1  \n",
       "2               False               0  \n",
       "3               False               0  \n",
       "4               False               0  \n",
       "..                ...             ...  \n",
       "296             False               0  \n",
       "297              True               0  \n",
       "298             False               0  \n",
       "299             False               0  \n",
       "300             False               1  \n",
       "\n",
       "[301 rows x 90 columns]"
      ]
     },
     "execution_count": 113,
     "metadata": {},
     "output_type": "execute_result"
    }
   ],
   "source": [
    "# Import statsmodels and add constant\n",
    "import statsmodels.api as sm\n",
    "\n",
    "# Add constant to training data\n",
    "X_train_sm = sm.add_constant(X_train_dummies)\n",
    "\n",
    "# Add constant to validation data\n",
    "X_val_sm = sm.add_constant(X_val_dummies)\n",
    "# Check the data\n",
    "train_data_sm = pd.concat([X_train_sm, y_train], axis=1)\n",
    "train_data_sm"
   ]
  },
  {
   "cell_type": "markdown",
   "metadata": {
    "id": "jc9wYqe8DPW0"
   },
   "source": [
    "#### **7.2.2** Fit logistic regression model <font color=\"red\">[2 Marks]</font>"
   ]
  },
  {
   "cell_type": "code",
   "execution_count": 115,
   "metadata": {
    "id": "2VTpvsZsDPW0"
   },
   "outputs": [
    {
     "name": "stdout",
     "output_type": "stream",
     "text": [
      "                           Logit Regression Results                           \n",
      "==============================================================================\n",
      "Dep. Variable:         fraud_reported   No. Observations:                  301\n",
      "Model:                          Logit   Df Residuals:                      224\n",
      "Method:                           MLE   Df Model:                           76\n",
      "Date:                Sun, 14 Sep 2025   Pseudo R-squ.:                  0.5941\n",
      "Time:                        14:21:00   Log-Likelihood:                -69.043\n",
      "converged:                       True   LL-Null:                       -170.08\n",
      "Covariance Type:            nonrobust   LLR p-value:                 2.192e-13\n",
      "========================================================================================================\n",
      "                                           coef    std err          z      P>|z|      [0.025      0.975]\n",
      "--------------------------------------------------------------------------------------------------------\n",
      "age                                     -0.2100      0.379     -0.554      0.579      -0.953       0.533\n",
      "policy_deductable                       -0.0306      0.343     -0.089      0.929      -0.702       0.641\n",
      "policy_annual_premium                    0.3795      0.336      1.130      0.259      -0.279       1.038\n",
      "capital-gains                            0.3547      0.317      1.118      0.264      -0.267       0.977\n",
      "incident_hour_of_the_day                -1.1544      0.380     -3.041      0.002      -1.899      -0.410\n",
      "bodily_injuries                         -0.1690      0.319     -0.530      0.596      -0.794       0.456\n",
      "witnesses                                0.6009      0.527      1.140      0.254      -0.432       1.634\n",
      "auto_year                               -0.4832      0.314     -1.538      0.124      -1.099       0.132\n",
      "claim_amount_per_witness                 0.8338      0.571      1.460      0.144      -0.286       1.953\n",
      "age_policy_ratio                        -0.0340      0.509     -0.067      0.947      -1.032       0.964\n",
      "policy_state_IN                          1.8265      0.784      2.329      0.020       0.290       3.363\n",
      "policy_state_OH                          1.5866      0.775      2.047      0.041       0.067       3.106\n",
      "policy_csl_250/500                       1.3689      0.781      1.752      0.080      -0.163       2.900\n",
      "policy_csl_500/1000                      0.8127      0.727      1.118      0.263      -0.612       2.237\n",
      "insured_sex_MALE                         1.0361      0.564      1.836      0.066      -0.070       2.142\n",
      "insured_education_level_College         -0.9490      1.395     -0.680      0.496      -3.683       1.785\n",
      "insured_education_level_High School      0.3359      1.187      0.283      0.777      -1.990       2.662\n",
      "insured_education_level_JD               3.5400      1.319      2.685      0.007       0.956       6.124\n",
      "insured_education_level_MD               2.3071      1.184      1.949      0.051      -0.013       4.627\n",
      "insured_education_level_Masters         -1.6333      1.118     -1.461      0.144      -3.824       0.557\n",
      "insured_education_level_PhD              2.4232      1.242      1.951      0.051      -0.011       4.858\n",
      "insured_occupation_armed-forces          1.7810      1.483      1.201      0.230      -1.126       4.688\n",
      "insured_occupation_craft-repair         -0.1417      1.412     -0.100      0.920      -2.909       2.625\n",
      "insured_occupation_exec-managerial       2.8823      1.583      1.821      0.069      -0.220       5.984\n",
      "insured_occupation_machine-op-inspct     1.4813      1.355      1.093      0.274      -1.175       4.137\n",
      "insured_occupation_other-service        -1.1601      1.368     -0.848      0.396      -3.841       1.521\n",
      "insured_occupation_priv-house-serv       1.5589      1.625      0.959      0.337      -1.626       4.744\n",
      "insured_occupation_prof-specialty        1.0359      1.064      0.974      0.330      -1.049       3.121\n",
      "insured_occupation_protective-serv       0.1356      1.676      0.081      0.936      -3.149       3.420\n",
      "insured_occupation_sales                 2.5985      1.231      2.111      0.035       0.186       5.011\n",
      "insured_occupation_tech-support          0.2006      1.398      0.144      0.886      -2.538       2.940\n",
      "insured_occupation_transport-moving      2.2075      1.283      1.720      0.085      -0.307       4.722\n",
      "insured_hobbies_base-jumping             1.9139      1.478      1.295      0.195      -0.984       4.811\n",
      "insured_hobbies_board-games              2.6612      1.458      1.825      0.068      -0.197       5.520\n",
      "insured_hobbies_bungie-jumping          -2.3239      1.680     -1.383      0.167      -5.617       0.970\n",
      "insured_hobbies_movies                  -3.2252      1.850     -1.743      0.081      -6.851       0.401\n",
      "insured_hobbies_polo                    -0.7306      1.301     -0.561      0.574      -3.281       1.820\n",
      "insured_hobbies_yachting                 0.6480      1.476      0.439      0.661      -2.245       3.541\n",
      "insured_relationship_not-in-family       0.5299      0.937      0.566      0.571      -1.306       2.365\n",
      "insured_relationship_other-relative      0.2204      0.976      0.226      0.821      -1.693       2.134\n",
      "insured_relationship_own-child          -1.0343      1.041     -0.993      0.321      -3.075       1.007\n",
      "insured_relationship_unmarried          -0.0293      1.376     -0.021      0.983      -2.726       2.668\n",
      "insured_relationship_wife                0.5725      1.263      0.453      0.650      -1.902       3.047\n",
      "incident_type_Other                      0.3471      2.555      0.136      0.892      -4.661       5.356\n",
      "collision_type_Rear Collision           -0.2320      0.724     -0.321      0.749      -1.650       1.187\n",
      "collision_type_Side Collision           -0.6715      0.793     -0.846      0.397      -2.227       0.884\n",
      "incident_severity_Minor Damage          -8.5709      1.572     -5.454      0.000     -11.651      -5.491\n",
      "incident_severity_Total Loss            -7.3370      1.500     -4.891      0.000     -10.277      -4.397\n",
      "incident_severity_Trivial Damage        -5.3533      2.228     -2.403      0.016      -9.720      -0.986\n",
      "authorities_contacted_Fire              -2.9573      1.005     -2.943      0.003      -4.927      -0.988\n",
      "authorities_contacted_Other             -1.8362      0.981     -1.872      0.061      -3.759       0.086\n",
      "authorities_contacted_Police            -1.4046      0.944     -1.488      0.137      -3.254       0.445\n",
      "incident_state_NY                        2.3830      1.245      1.914      0.056      -0.058       4.824\n",
      "incident_state_Other                     4.3012      1.752      2.455      0.014       0.868       7.735\n",
      "incident_state_SC                        1.6683      1.137      1.467      0.142      -0.560       3.897\n",
      "incident_state_VA                        4.4027      1.466      3.004      0.003       1.530       7.275\n",
      "incident_state_WV                       -0.9753      1.258     -0.775      0.438      -3.441       1.490\n",
      "incident_city_Columbus                   0.5973      1.187      0.503      0.615      -1.730       2.924\n",
      "incident_city_Hillsdale                  1.7229      1.274      1.353      0.176      -0.774       4.220\n",
      "incident_city_Northbend                 -0.6363      1.060     -0.600      0.548      -2.714       1.441\n",
      "incident_city_Northbrook                -1.8865      1.393     -1.354      0.176      -4.617       0.844\n",
      "incident_city_Riverwood                 -1.6534      1.171     -1.412      0.158      -3.948       0.641\n",
      "incident_city_Springfield               -1.2238      1.155     -1.059      0.289      -3.488       1.040\n",
      "property_damage_YES                      0.5459      0.724      0.754      0.451      -0.873       1.965\n",
      "police_report_available_YES             -0.7684      0.725     -1.059      0.289      -2.190       0.653\n",
      "auto_make_BMW                            2.0713      1.456      1.423      0.155      -0.782       4.925\n",
      "auto_make_Chevrolet                     -1.2555      1.325     -0.948      0.343      -3.852       1.341\n",
      "auto_make_Dodge                         -4.3287      1.693     -2.557      0.011      -7.647      -1.010\n",
      "auto_make_Ford                          -1.1636      1.219     -0.954      0.340      -3.554       1.226\n",
      "auto_make_Honda                         -1.3971      1.695     -0.824      0.410      -4.720       1.925\n",
      "auto_make_Jeep                           1.4163      1.435      0.987      0.324      -1.395       4.228\n",
      "auto_make_Mercedes                       0.2821      1.352      0.209      0.835      -2.369       2.933\n",
      "auto_make_Nissan                        -4.9005      1.806     -2.714      0.007      -8.439      -1.362\n",
      "auto_make_Other                         -1.9204      1.444     -1.330      0.184      -4.751       0.911\n",
      "auto_make_Saab                          -0.0826      1.352     -0.061      0.951      -2.732       2.566\n",
      "auto_make_Suburu                        -6.7574      1.826     -3.701      0.000     -10.336      -3.179\n",
      "auto_make_Toyota                        -5.9200      1.988     -2.979      0.003      -9.815      -2.025\n",
      "========================================================================================================\n",
      "\n",
      "Possibly complete quasi-separation: A fraction 0.20 of observations can be\n",
      "perfectly predicted. This might indicate that there is complete\n",
      "quasi-separation. In this case some parameters will not be identified.\n"
     ]
    }
   ],
   "source": [
    "# Fit a logistic Regression model on X_train after adding a constant and output the summary\n",
    "\n",
    "\n",
    "import numpy as np\n",
    "import statsmodels.api as sm\n",
    "from statsmodels.stats.outliers_influence import variance_inflation_factor\n",
    "\n",
    "# Ensure all features are numeric\n",
    "X_train_sm = X_train_dummies.astype(float)\n",
    "\n",
    "# Add constant\n",
    "X_train_sm = sm.add_constant(X_train_sm)\n",
    "\n",
    "# Function to calculate VIF\n",
    "def calculate_vif(X):\n",
    "    vif_data = pd.DataFrame()\n",
    "    vif_data[\"feature\"] = X.columns\n",
    "    vif_data[\"VIF\"] = [variance_inflation_factor(X.values, i) for i in range(X.shape[1])]\n",
    "    return vif_data\n",
    "\n",
    "# Calculate VIF\n",
    "vif_df = calculate_vif(X_train_sm)\n",
    "\n",
    "# Drop features with high VIF (example: > 10)\n",
    "high_vif_features = vif_df[vif_df['VIF'] > 10]['feature'].tolist()\n",
    "X_train_reduced = X_train_sm.drop(columns=high_vif_features, errors='ignore')\n",
    "\n",
    "# Fit logistic regression model again\n",
    "logit_model = sm.Logit(y_train, X_train_reduced)\n",
    "result = logit_model.fit(disp=False)\n",
    "\n",
    "# Show summary\n",
    "print(result.summary())"
   ]
  },
  {
   "cell_type": "markdown",
   "metadata": {
    "id": "XBd9hyWgDPW0"
   },
   "source": [
    "**Model Interpretation**\n",
    "\n",
    "The output summary table will provide the features used for building model along with coefficient of each of the feature and their p-value. The p-value in a logistic regression model is used to assess the statistical significance of each coefficient. Lesser the p-value, more significant the feature is in the model.\n",
    "\n",
    "A positive coefficient will indicate that an increase in the value of feature would increase the odds of the event occurring. On the other hand, a negative coefficient means the opposite, i.e, an increase in the value of feature would decrease the odds of the event occurring."
   ]
  },
  {
   "cell_type": "markdown",
   "metadata": {
    "id": "VnhgDNCNDPW0"
   },
   "source": [
    "Now check VIFs for presence of multicollinearity in the model."
   ]
  },
  {
   "cell_type": "markdown",
   "metadata": {
    "id": "xLTRjCqCDPW0"
   },
   "source": [
    "#### **7.2.3** Evaluate VIF of features to assess multicollinearity <font color=\"red\">[2 Marks]</font>"
   ]
  },
  {
   "cell_type": "code",
   "execution_count": 119,
   "metadata": {
    "id": "MOIppRgGDPW0"
   },
   "outputs": [],
   "source": [
    "# Import 'variance_inflation_factor'\n",
    "from statsmodels.stats.outliers_influence import variance_inflation_factor"
   ]
  },
  {
   "cell_type": "code",
   "execution_count": 120,
   "metadata": {
    "id": "Xwb2dA9XDPW0"
   },
   "outputs": [],
   "source": [
    "# Make a VIF DataFrame for all the variables present\n",
    "X_train_numeric = X_train_dummies.astype(float)\n",
    "\n",
    "# Add constant for VIF calculation\n",
    "X_train_vif = sm.add_constant(X_train_numeric)\n",
    "\n",
    "# Function to calculate VIF\n",
    "def calculate_vif(X):\n",
    "    vif_data = pd.DataFrame()\n",
    "    vif_data[\"feature\"] = X.columns\n",
    "    vif_data[\"VIF\"] = [variance_inflation_factor(X.values, i) for i in range(X.shape[1])]\n",
    "    return vif_data\n",
    "\n",
    "# Calculate VIF for all variables\n",
    "vif_df = calculate_vif(X_train_vif)"
   ]
  },
  {
   "cell_type": "code",
   "execution_count": 121,
   "metadata": {},
   "outputs": [
    {
     "data": {
      "text/html": [
       "<div>\n",
       "<style scoped>\n",
       "    .dataframe tbody tr th:only-of-type {\n",
       "        vertical-align: middle;\n",
       "    }\n",
       "\n",
       "    .dataframe tbody tr th {\n",
       "        vertical-align: top;\n",
       "    }\n",
       "\n",
       "    .dataframe thead th {\n",
       "        text-align: right;\n",
       "    }\n",
       "</style>\n",
       "<table border=\"1\" class=\"dataframe\">\n",
       "  <thead>\n",
       "    <tr style=\"text-align: right;\">\n",
       "      <th></th>\n",
       "      <th>feature</th>\n",
       "      <th>VIF</th>\n",
       "    </tr>\n",
       "  </thead>\n",
       "  <tbody>\n",
       "    <tr>\n",
       "      <th>0</th>\n",
       "      <td>const</td>\n",
       "      <td>101.248507</td>\n",
       "    </tr>\n",
       "    <tr>\n",
       "      <th>1</th>\n",
       "      <td>age</td>\n",
       "      <td>1.579142</td>\n",
       "    </tr>\n",
       "    <tr>\n",
       "      <th>2</th>\n",
       "      <td>policy_deductable</td>\n",
       "      <td>1.370131</td>\n",
       "    </tr>\n",
       "    <tr>\n",
       "      <th>3</th>\n",
       "      <td>policy_annual_premium</td>\n",
       "      <td>1.876145</td>\n",
       "    </tr>\n",
       "    <tr>\n",
       "      <th>4</th>\n",
       "      <td>umbrella_limit</td>\n",
       "      <td>18.803943</td>\n",
       "    </tr>\n",
       "    <tr>\n",
       "      <th>...</th>\n",
       "      <td>...</td>\n",
       "      <td>...</td>\n",
       "    </tr>\n",
       "    <tr>\n",
       "      <th>84</th>\n",
       "      <td>auto_make_Nissan</td>\n",
       "      <td>2.444181</td>\n",
       "    </tr>\n",
       "    <tr>\n",
       "      <th>85</th>\n",
       "      <td>auto_make_Other</td>\n",
       "      <td>2.557175</td>\n",
       "    </tr>\n",
       "    <tr>\n",
       "      <th>86</th>\n",
       "      <td>auto_make_Saab</td>\n",
       "      <td>2.122310</td>\n",
       "    </tr>\n",
       "    <tr>\n",
       "      <th>87</th>\n",
       "      <td>auto_make_Suburu</td>\n",
       "      <td>2.203841</td>\n",
       "    </tr>\n",
       "    <tr>\n",
       "      <th>88</th>\n",
       "      <td>auto_make_Toyota</td>\n",
       "      <td>2.168612</td>\n",
       "    </tr>\n",
       "  </tbody>\n",
       "</table>\n",
       "<p>89 rows × 2 columns</p>\n",
       "</div>"
      ],
      "text/plain": [
       "                  feature         VIF\n",
       "0                   const  101.248507\n",
       "1                     age    1.579142\n",
       "2       policy_deductable    1.370131\n",
       "3   policy_annual_premium    1.876145\n",
       "4          umbrella_limit   18.803943\n",
       "..                    ...         ...\n",
       "84       auto_make_Nissan    2.444181\n",
       "85        auto_make_Other    2.557175\n",
       "86         auto_make_Saab    2.122310\n",
       "87       auto_make_Suburu    2.203841\n",
       "88       auto_make_Toyota    2.168612\n",
       "\n",
       "[89 rows x 2 columns]"
      ]
     },
     "execution_count": 121,
     "metadata": {},
     "output_type": "execute_result"
    }
   ],
   "source": [
    "vif_df"
   ]
  },
  {
   "cell_type": "markdown",
   "metadata": {
    "id": "2RMrfSNPDPW1"
   },
   "source": [
    "Proceed to the next step if p-values and VIFs are within acceptable ranges. If you observe high p-values or VIFs, drop the features and retrain the model. <font color=\"red\">[THIS IS OPTIONAL]</font>"
   ]
  },
  {
   "cell_type": "markdown",
   "metadata": {
    "id": "68j2g6bRDPW1"
   },
   "source": [
    "#### **7.2.4** Make predictions on training data <font color = \"red\">[1 Mark]</font>"
   ]
  },
  {
   "cell_type": "code",
   "execution_count": 124,
   "metadata": {
    "id": "5DT1M3O9DPW1"
   },
   "outputs": [
    {
     "data": {
      "text/plain": [
       "(301, 1)"
      ]
     },
     "execution_count": 124,
     "metadata": {},
     "output_type": "execute_result"
    }
   ],
   "source": [
    "# Predict the probabilities on the training data\n",
    "from sklearn.linear_model import LogisticRegression\n",
    "\n",
    "# Initialize logistic regression with class balancing\n",
    "log_reg = LogisticRegression(max_iter=1000, solver='liblinear', class_weight='balanced')\n",
    "\n",
    "# Fit on training data\n",
    "log_reg.fit(X_train_dummies, y_train)\n",
    "\n",
    "# Predict probabilities on training data\n",
    "y_train_probs = log_reg.predict_proba(X_train_dummies)[:, 1]  # Probabilities for class 1 (fraud)\n",
    "\n",
    "# Show first 10 predicted probabilities\n",
    "y_train_probs[:10]\n",
    "# Reshape it into an array\n",
    "y_train_probs = log_reg.predict_proba(X_train_dummies)[:, 1]\n",
    "\n",
    "# Reshape into a 2D array (if needed)\n",
    "y_train_probs_reshaped = np.array(y_train_probs).reshape(-1, 1)\n",
    "\n",
    "# Check shape\n",
    "y_train_probs_reshaped.shape"
   ]
  },
  {
   "cell_type": "markdown",
   "metadata": {
    "id": "_j4gJDUzDPW1"
   },
   "source": [
    "#### **7.2.5** Create a DataFrame that includes actual fraud reported flags, predicted probabilities, and a column indicating predicted classifications based on a cutoff value of 0.5 <font color=\"red\">[1 Mark]</font>\n",
    "\n"
   ]
  },
  {
   "cell_type": "code",
   "execution_count": 126,
   "metadata": {
    "id": "nDaW7LS_DPW1"
   },
   "outputs": [
    {
     "data": {
      "text/html": [
       "<div>\n",
       "<style scoped>\n",
       "    .dataframe tbody tr th:only-of-type {\n",
       "        vertical-align: middle;\n",
       "    }\n",
       "\n",
       "    .dataframe tbody tr th {\n",
       "        vertical-align: top;\n",
       "    }\n",
       "\n",
       "    .dataframe thead th {\n",
       "        text-align: right;\n",
       "    }\n",
       "</style>\n",
       "<table border=\"1\" class=\"dataframe\">\n",
       "  <thead>\n",
       "    <tr style=\"text-align: right;\">\n",
       "      <th></th>\n",
       "      <th>Actual_Fraud</th>\n",
       "      <th>Predicted_Probability</th>\n",
       "    </tr>\n",
       "  </thead>\n",
       "  <tbody>\n",
       "    <tr>\n",
       "      <th>0</th>\n",
       "      <td>0</td>\n",
       "      <td>0.031824</td>\n",
       "    </tr>\n",
       "    <tr>\n",
       "      <th>1</th>\n",
       "      <td>1</td>\n",
       "      <td>0.817728</td>\n",
       "    </tr>\n",
       "    <tr>\n",
       "      <th>2</th>\n",
       "      <td>0</td>\n",
       "      <td>0.798862</td>\n",
       "    </tr>\n",
       "    <tr>\n",
       "      <th>3</th>\n",
       "      <td>0</td>\n",
       "      <td>0.065334</td>\n",
       "    </tr>\n",
       "    <tr>\n",
       "      <th>4</th>\n",
       "      <td>0</td>\n",
       "      <td>0.171007</td>\n",
       "    </tr>\n",
       "    <tr>\n",
       "      <th>5</th>\n",
       "      <td>0</td>\n",
       "      <td>0.107678</td>\n",
       "    </tr>\n",
       "    <tr>\n",
       "      <th>6</th>\n",
       "      <td>1</td>\n",
       "      <td>0.869803</td>\n",
       "    </tr>\n",
       "    <tr>\n",
       "      <th>7</th>\n",
       "      <td>0</td>\n",
       "      <td>0.034000</td>\n",
       "    </tr>\n",
       "    <tr>\n",
       "      <th>8</th>\n",
       "      <td>0</td>\n",
       "      <td>0.003968</td>\n",
       "    </tr>\n",
       "    <tr>\n",
       "      <th>9</th>\n",
       "      <td>0</td>\n",
       "      <td>0.019511</td>\n",
       "    </tr>\n",
       "  </tbody>\n",
       "</table>\n",
       "</div>"
      ],
      "text/plain": [
       "   Actual_Fraud  Predicted_Probability\n",
       "0             0               0.031824\n",
       "1             1               0.817728\n",
       "2             0               0.798862\n",
       "3             0               0.065334\n",
       "4             0               0.171007\n",
       "5             0               0.107678\n",
       "6             1               0.869803\n",
       "7             0               0.034000\n",
       "8             0               0.003968\n",
       "9             0               0.019511"
      ]
     },
     "execution_count": 126,
     "metadata": {},
     "output_type": "execute_result"
    }
   ],
   "source": [
    "# Create a new DataFrame containing the actual fraud reported flag and the probabilities predicted by the model\n",
    "\n",
    "train_results = pd.DataFrame({\n",
    "    'Actual_Fraud': y_train.values,\n",
    "    'Predicted_Probability': y_train_probs\n",
    "})\n",
    "\n",
    "# Show first 10 rows\n",
    "train_results.head(10)\n"
   ]
  },
  {
   "cell_type": "code",
   "execution_count": 127,
   "metadata": {},
   "outputs": [
    {
     "data": {
      "text/html": [
       "<div>\n",
       "<style scoped>\n",
       "    .dataframe tbody tr th:only-of-type {\n",
       "        vertical-align: middle;\n",
       "    }\n",
       "\n",
       "    .dataframe tbody tr th {\n",
       "        vertical-align: top;\n",
       "    }\n",
       "\n",
       "    .dataframe thead th {\n",
       "        text-align: right;\n",
       "    }\n",
       "</style>\n",
       "<table border=\"1\" class=\"dataframe\">\n",
       "  <thead>\n",
       "    <tr style=\"text-align: right;\">\n",
       "      <th></th>\n",
       "      <th>Actual_Fraud</th>\n",
       "      <th>Predicted_Probability</th>\n",
       "      <th>Predicted_Class</th>\n",
       "    </tr>\n",
       "  </thead>\n",
       "  <tbody>\n",
       "    <tr>\n",
       "      <th>0</th>\n",
       "      <td>0</td>\n",
       "      <td>0.031824</td>\n",
       "      <td>0</td>\n",
       "    </tr>\n",
       "    <tr>\n",
       "      <th>1</th>\n",
       "      <td>1</td>\n",
       "      <td>0.817728</td>\n",
       "      <td>1</td>\n",
       "    </tr>\n",
       "    <tr>\n",
       "      <th>2</th>\n",
       "      <td>0</td>\n",
       "      <td>0.798862</td>\n",
       "      <td>1</td>\n",
       "    </tr>\n",
       "    <tr>\n",
       "      <th>3</th>\n",
       "      <td>0</td>\n",
       "      <td>0.065334</td>\n",
       "      <td>0</td>\n",
       "    </tr>\n",
       "    <tr>\n",
       "      <th>4</th>\n",
       "      <td>0</td>\n",
       "      <td>0.171007</td>\n",
       "      <td>0</td>\n",
       "    </tr>\n",
       "    <tr>\n",
       "      <th>5</th>\n",
       "      <td>0</td>\n",
       "      <td>0.107678</td>\n",
       "      <td>0</td>\n",
       "    </tr>\n",
       "    <tr>\n",
       "      <th>6</th>\n",
       "      <td>1</td>\n",
       "      <td>0.869803</td>\n",
       "      <td>1</td>\n",
       "    </tr>\n",
       "    <tr>\n",
       "      <th>7</th>\n",
       "      <td>0</td>\n",
       "      <td>0.034000</td>\n",
       "      <td>0</td>\n",
       "    </tr>\n",
       "    <tr>\n",
       "      <th>8</th>\n",
       "      <td>0</td>\n",
       "      <td>0.003968</td>\n",
       "      <td>0</td>\n",
       "    </tr>\n",
       "    <tr>\n",
       "      <th>9</th>\n",
       "      <td>0</td>\n",
       "      <td>0.019511</td>\n",
       "      <td>0</td>\n",
       "    </tr>\n",
       "  </tbody>\n",
       "</table>\n",
       "</div>"
      ],
      "text/plain": [
       "   Actual_Fraud  Predicted_Probability  Predicted_Class\n",
       "0             0               0.031824                0\n",
       "1             1               0.817728                1\n",
       "2             0               0.798862                1\n",
       "3             0               0.065334                0\n",
       "4             0               0.171007                0\n",
       "5             0               0.107678                0\n",
       "6             1               0.869803                1\n",
       "7             0               0.034000                0\n",
       "8             0               0.003968                0\n",
       "9             0               0.019511                0"
      ]
     },
     "execution_count": 127,
     "metadata": {},
     "output_type": "execute_result"
    }
   ],
   "source": [
    "# Create new column indicating predicted classifications based on a cutoff value of 0.5\n",
    "train_results['Predicted_Class'] = (train_results['Predicted_Probability'] >= 0.5).astype(int)\n",
    "\n",
    "# Show first 10 rows\n",
    "train_results.head(10)"
   ]
  },
  {
   "cell_type": "markdown",
   "metadata": {
    "id": "6rXpNOgtDPW1"
   },
   "source": [
    "**Model performance evaluation**\n",
    "\n",
    "Evaluate the performance of the model based on predictions made on the training data."
   ]
  },
  {
   "cell_type": "markdown",
   "metadata": {
    "id": "cornkRdjDPW2"
   },
   "source": [
    "#### **7.2.6** Check the accuracy of the model <font color = \"red\">[1 Mark]</font>"
   ]
  },
  {
   "cell_type": "code",
   "execution_count": 130,
   "metadata": {
    "id": "w0tyT2xgDPW2"
   },
   "outputs": [
    {
     "name": "stdout",
     "output_type": "stream",
     "text": [
      "Training Accuracy: 0.897\n"
     ]
    }
   ],
   "source": [
    "# Import metrics from sklearn for evaluation\n",
    "from sklearn import metrics\n",
    "from sklearn.metrics import accuracy_score\n",
    "\n",
    "# Check the accuracy of the model\n",
    "accuracy = accuracy_score(train_results['Actual_Fraud'], train_results['Predicted_Class'])\n",
    "\n",
    "print(\"Training Accuracy:\", round(accuracy, 4))"
   ]
  },
  {
   "cell_type": "markdown",
   "metadata": {
    "id": "mQPieExsDPW2"
   },
   "source": [
    "#### **7.2.7** Create a confusion matrix based on the predictions made on the training data <font color=\"red\">[1 Mark]</font>"
   ]
  },
  {
   "cell_type": "code",
   "execution_count": 132,
   "metadata": {
    "id": "1v1XZbNkDPW2"
   },
   "outputs": [
    {
     "data": {
      "image/png": "[encoded data removed]",
      "text/plain": [
       "<Figure size 640x480 with 2 Axes>"
      ]
     },
     "metadata": {},
     "output_type": "display_data"
    }
   ],
   "source": [
    "# Create confusion matrix\n",
    "from sklearn.metrics import confusion_matrix, ConfusionMatrixDisplay\n",
    "import matplotlib.pyplot as plt\n",
    "\n",
    "# Generate confusion matrix\n",
    "cm = confusion_matrix(train_results['Actual_Fraud'], train_results['Predicted_Class'])\n",
    "\n",
    "# Display confusion matrix\n",
    "disp = ConfusionMatrixDisplay(confusion_matrix=cm, display_labels=[0, 1])\n",
    "disp.plot(cmap=\"Blues\", values_format=\"d\")\n",
    "plt.title(\"Confusion Matrix - Training Data\")\n",
    "plt.show()"
   ]
  },
  {
   "cell_type": "markdown",
   "metadata": {
    "id": "CVWR_SjqKPQF"
   },
   "source": [
    "#### **7.2.8** Create variables for true positive, true negative, false positive and false negative <font color=\"red\">[1 Mark]</font>"
   ]
  },
  {
   "cell_type": "code",
   "execution_count": 134,
   "metadata": {
    "id": "JaXLtV-HKPgY"
   },
   "outputs": [
    {
     "name": "stdout",
     "output_type": "stream",
     "text": [
      "True Negatives (TN): 198\n",
      "False Positives (FP): 27\n",
      "False Negatives (FN): 4\n",
      "True Positives (TP): 72\n"
     ]
    }
   ],
   "source": [
    "# Create variables for true positive, true negative, false positive and false negative\n",
    "from sklearn.metrics import confusion_matrix\n",
    "\n",
    "# Generate confusion matrix\n",
    "cm = confusion_matrix(train_results['Actual_Fraud'], train_results['Predicted_Class'])\n",
    "\n",
    "# Extract TN, FP, FN, TP\n",
    "tn, fp, fn, tp = cm.ravel()\n",
    "\n",
    "print(\"True Negatives (TN):\", tn)\n",
    "print(\"False Positives (FP):\", fp)\n",
    "print(\"False Negatives (FN):\", fn)\n",
    "print(\"True Positives (TP):\", tp)"
   ]
  },
  {
   "cell_type": "markdown",
   "metadata": {
    "id": "UkO5we1NDPW3"
   },
   "source": [
    "#### **7.2.9** Calculate sensitivity, specificity, precision, recall and F1-score <font color=\"red\">[2 Marks]</font>"
   ]
  },
  {
   "cell_type": "code",
   "execution_count": 136,
   "metadata": {
    "id": "K5GpJK5CDPW3"
   },
   "outputs": [
    {
     "name": "stdout",
     "output_type": "stream",
     "text": [
      "Sensitivity (Recall): 0.9474\n",
      "Specificity: 0.88\n",
      "Precision: 0.7273\n",
      "Recall: 0.9474\n",
      "F1 Score: 0.8229\n"
     ]
    }
   ],
   "source": [
    "# Calculate the sensitivity\n",
    "sensitivity = tp / (tp + fn)\n",
    "\n",
    "# Calculate the specificity\n",
    "specificity = tn / (tn + fp)\n",
    "\n",
    "# Calculate Precision\n",
    "precision = tp / (tp + fp)\n",
    "\n",
    "# Calculate Recall\n",
    "recall = sensitivity\n",
    "\n",
    "# Calculate F1 Score\n",
    "f1_score = 2 * (precision * recall) / (precision + recall)\n",
    "\n",
    "print(\"Sensitivity (Recall):\", round(sensitivity, 4))\n",
    "print(\"Specificity:\", round(specificity, 4))\n",
    "print(\"Precision:\", round(precision, 4))\n",
    "print(\"Recall:\", round(recall, 4))\n",
    "print(\"F1 Score:\", round(f1_score, 4))"
   ]
  },
  {
   "cell_type": "markdown",
   "metadata": {
    "id": "gIFdLeULDPW4"
   },
   "source": [
    "### **7.3 Find the Optimal Cutoff** <font color = red>[12 marks]</font>\n",
    "Find the optimal cutoff to improve model performance by evaluating various cutoff values and their impact on relevant metrics."
   ]
  },
  {
   "cell_type": "markdown",
   "metadata": {
    "id": "-un_98BlDPW4"
   },
   "source": [
    "#### **7.3.1** Plot ROC Curve  to visualise the trade-off between true positive rate and false positive rate across different classification thresholds <font color=\"red\">[2 Marks]</font>"
   ]
  },
  {
   "cell_type": "code",
   "execution_count": 139,
   "metadata": {
    "id": "SfRY65pZDPW5"
   },
   "outputs": [],
   "source": [
    "# Import libraries or function to plot the ROC curve\n",
    "from sklearn.metrics import roc_curve, roc_auc_score\n",
    "import matplotlib.pyplot as plt\n",
    "\n",
    "# Define ROC function\n",
    "\n",
    "\n",
    "def plot_roc_curve(y_true, y_probs, model_name=\"Model\"):\n",
    "    \"\"\"\n",
    "    Plots ROC curve and prints AUC score.\n",
    "    \n",
    "    Parameters:\n",
    "    - y_true: Actual labels (0/1)\n",
    "    - y_probs: Predicted probabilities for class 1\n",
    "    - model_name: Name of the model (for title/legend)\n",
    "    \"\"\"\n",
    "    # Compute ROC curve\n",
    "    fpr, tpr, thresholds = roc_curve(y_true, y_probs)\n",
    "    \n",
    "    # Compute AUC score\n",
    "    auc_score = roc_auc_score(y_true, y_probs)\n",
    "    \n",
    "    # Plot ROC curve\n",
    "    plt.figure(figsize=(8,6))\n",
    "    plt.plot(fpr, tpr, label=f\"{model_name} (AUC = {auc_score:.3f})\")\n",
    "    plt.plot([0,1], [0,1], linestyle=\"--\", color=\"grey\")\n",
    "    plt.xlabel(\"False Positive Rate (1 - Specificity)\")\n",
    "    plt.ylabel(\"True Positive Rate (Sensitivity)\")\n",
    "    plt.title(f\"ROC Curve - {model_name}\")\n",
    "    plt.legend()\n",
    "    plt.grid()\n",
    "    plt.show()\n",
    "    \n",
    "    return auc_score"
   ]
  },
  {
   "cell_type": "code",
   "execution_count": 140,
   "metadata": {
    "id": "nGlAWkJDDPW6"
   },
   "outputs": [
    {
     "ename": "NameError",
     "evalue": "name 'y_val_probs' is not defined",
     "output_type": "error",
     "traceback": [
      "\u001b[1;31m---------------------------------------------------------------------------\u001b[0m",
      "\u001b[1;31mNameError\u001b[0m                                 Traceback (most recent call last)",
      "Cell \u001b[1;32mIn[140], line 3\u001b[0m\n\u001b[0;32m      1\u001b[0m \u001b[38;5;66;03m# Call the ROC function\u001b[39;00m\n\u001b[0;32m      2\u001b[0m \u001b[38;5;66;03m# Call the ROC function for validation set\u001b[39;00m\n\u001b[1;32m----> 3\u001b[0m auc_val \u001b[38;5;241m=\u001b[39m plot_roc_curve(y_val, y_val_probs, model_name\u001b[38;5;241m=\u001b[39m\u001b[38;5;124m\"\u001b[39m\u001b[38;5;124mLogistic Regression Model\u001b[39m\u001b[38;5;124m\"\u001b[39m)\n\u001b[0;32m      5\u001b[0m \u001b[38;5;28mprint\u001b[39m(\u001b[38;5;124m\"\u001b[39m\u001b[38;5;124mValidation AUC Score:\u001b[39m\u001b[38;5;124m\"\u001b[39m, \u001b[38;5;28mround\u001b[39m(auc_val, \u001b[38;5;241m4\u001b[39m))\n",
      "\u001b[1;31mNameError\u001b[0m: name 'y_val_probs' is not defined"
     ]
    }
   ],
   "source": [
    "# Call the ROC function\n",
    "# Call the ROC function for validation set\n",
    "auc_val = plot_roc_curve(y_val, y_val_probs, model_name=\"Logistic Regression Model\")\n",
    "\n",
    "print(\"Validation AUC Score:\", round(auc_val, 4))"
   ]
  },
  {
   "cell_type": "markdown",
   "metadata": {
    "id": "cFPV1EBDDPW6"
   },
   "source": [
    "**Sensitivity and Specificity tradeoff**\n",
    "\n",
    "After analysing the area under the curve of the ROC, check the sensitivity and specificity tradeoff to find the optimal cutoff point."
   ]
  },
  {
   "cell_type": "markdown",
   "metadata": {
    "id": "vjcQP2BzDPW6"
   },
   "source": [
    "#### **7.3.2** Predict on training data at various probability cutoffs <font color=\"red\">[1 Mark]</font>"
   ]
  },
  {
   "cell_type": "code",
   "execution_count": null,
   "metadata": {
    "id": "t1UMUMNODPW6"
   },
   "outputs": [],
   "source": [
    "# Create columns with different probability cutoffs to explore the impact of cutoff on model performance\n",
    "\n",
    "# Define cutoff thresholds to explore\n",
    "cutoffs = [0.3, 0.4, 0.5, 0.6, 0.7]\n",
    "\n",
    "# Store results\n",
    "cutoff_metrics = []\n",
    "\n",
    "for cutoff in cutoffs:\n",
    "    # Apply cutoff\n",
    "    y_pred_cutoff = (y_val_probs >= cutoff).astype(int)\n",
    "    \n",
    "    # Confusion matrix\n",
    "    tn, fp, fn, tp = confusion_matrix(y_val, y_pred_cutoff).ravel()\n",
    "    \n",
    "    # Metrics\n",
    "    sensitivity = tp / (tp + fn) if (tp + fn) > 0 else 0\n",
    "    specificity = tn / (tn + fp) if (tn + fp) > 0 else 0\n",
    "    precision = tp / (tp + fp) if (tp + fp) > 0 else 0\n",
    "    recall = sensitivity\n",
    "    f1 = 2 * (precision * recall) / (precision + recall) if (precision + recall) > 0 else 0\n",
    "    \n",
    "    cutoff_metrics.append([cutoff, sensitivity, specificity, precision, recall, f1])\n",
    "\n",
    "# Convert to DataFrame\n",
    "cutoff_df = pd.DataFrame(cutoff_metrics, columns=[\n",
    "    'Cutoff', 'Sensitivity', 'Specificity', 'Precision', 'Recall', 'F1-Score'\n",
    "])\n",
    "\n",
    "print(cutoff_df)"
   ]
  },
  {
   "cell_type": "markdown",
   "metadata": {
    "id": "0EFEKx21DPW6"
   },
   "source": [
    "#### **7.3.3** Plot accuracy, sensitivity, specificity at different values of probability cutoffs <font color=\"red\">[2 Marks]</font>"
   ]
  },
  {
   "cell_type": "code",
   "execution_count": null,
   "metadata": {
    "id": "OsjuXoXtDPW6"
   },
   "outputs": [],
   "source": [
    "# Create a DataFrame to see the values of accuracy, sensitivity, and specificity at different values of probability cutoffs\n",
    "\n",
    "# Define cutoff thresholds to explore\n",
    "cutoffs = [0.3, 0.4, 0.5, 0.6, 0.7]\n",
    "\n",
    "# Store results\n",
    "cutoff_metrics = []\n",
    "\n",
    "for cutoff in cutoffs:\n",
    "    # Apply cutoff\n",
    "    y_pred_cutoff = (y_val_probs >= cutoff).astype(int)\n",
    "    \n",
    "    # Confusion matrix\n",
    "    tn, fp, fn, tp = confusion_matrix(y_val, y_pred_cutoff).ravel()\n",
    "    \n",
    "    # Metrics\n",
    "    accuracy = accuracy_score(y_val, y_pred_cutoff)\n",
    "    sensitivity = tp / (tp + fn) if (tp + fn) > 0 else 0\n",
    "    specificity = tn / (tn + fp) if (tn + fp) > 0 else 0\n",
    "    \n",
    "    cutoff_metrics.append([cutoff, accuracy, sensitivity, specificity])\n",
    "\n",
    "# Convert to DataFrame\n",
    "cutoff_df = pd.DataFrame(cutoff_metrics, columns=['Cutoff', 'Accuracy', 'Sensitivity', 'Specificity'])\n",
    "\n",
    "print(cutoff_df)\n"
   ]
  },
  {
   "cell_type": "code",
   "execution_count": null,
   "metadata": {
    "id": "z4og5facDPW7"
   },
   "outputs": [],
   "source": [
    "# Plot accuracy, sensitivity, and specificity at different values of probability cutoffs\n",
    "# Plot metrics vs cutoff\n",
    "plt.figure(figsize=(8,6))\n",
    "plt.plot(cutoff_df['Cutoff'], cutoff_df['Accuracy'], marker='o', label='Accuracy')\n",
    "plt.plot(cutoff_df['Cutoff'], cutoff_df['Sensitivity'], marker='o', label='Sensitivity (Recall)')\n",
    "plt.plot(cutoff_df['Cutoff'], cutoff_df['Specificity'], marker='o', label='Specificity')\n",
    "\n",
    "plt.xlabel(\"Probability Cutoff\")\n",
    "plt.ylabel(\"Score\")\n",
    "plt.title(\"Model Performance at Different Probability Cutoffs\")\n",
    "plt.legend()\n",
    "plt.grid(True)\n",
    "plt.show()"
   ]
  },
  {
   "cell_type": "markdown",
   "metadata": {
    "id": "o6C-ScQ1DPW7"
   },
   "source": [
    "#### **7.3.4** Create a column for final prediction based on optimal cutoff <font color=\"red\">[1 Mark]</font>"
   ]
  },
  {
   "cell_type": "code",
   "execution_count": null,
   "metadata": {
    "id": "1p-z0A9wDPW7"
   },
   "outputs": [],
   "source": [
    "# Create a column for final prediction based on the optimal cutoff\n",
    "validation_results['Final_Prediction'] = (validation_results['Predicted_Probability'] >= optimal_cutoff).astype(int)\n",
    "\n",
    "# Show first 10 rows\n",
    "print(validation_results.head(10))"
   ]
  },
  {
   "cell_type": "markdown",
   "metadata": {
    "id": "8jEQC7QlDPW7"
   },
   "source": [
    "#### **7.3.5** Calculate the accuracy <font color=\"red\">[1 Mark]</font>"
   ]
  },
  {
   "cell_type": "code",
   "execution_count": null,
   "metadata": {
    "id": "-XARhijiDPW7"
   },
   "outputs": [],
   "source": [
    "# Check the accuracy now\n",
    "final_accuracy = accuracy_score(validation_results['Actual_Fraud'], validation_results['Final_Prediction'])\n",
    "\n",
    "print(\"Validation Accuracy (using optimal cutoff):\", round(final_accuracy, 4))"
   ]
  },
  {
   "cell_type": "markdown",
   "metadata": {
    "id": "qsgvpYa3DPW-"
   },
   "source": [
    "#### **7.3.6** Create confusion matrix <font color=\"red\">[1 Mark]</font>"
   ]
  },
  {
   "cell_type": "code",
   "execution_count": null,
   "metadata": {
    "id": "tuRtey6YDPW-"
   },
   "outputs": [],
   "source": [
    "# Create the confusion matrix once again\n",
    "# Generate confusion matrix with Final_Prediction\n",
    "cm_final = confusion_matrix(validation_results['Actual_Fraud'], validation_results['Final_Prediction'])\n",
    "\n",
    "# Display confusion matrix\n",
    "disp = ConfusionMatrixDisplay(confusion_matrix=cm_final, display_labels=[0, 1])\n",
    "disp.plot(cmap=\"Blues\", values_format=\"d\")\n",
    "plt.title(\"Confusion Matrix - Validation Data (Optimal Cutoff)\")\n",
    "plt.show()"
   ]
  },
  {
   "cell_type": "markdown",
   "metadata": {
    "id": "Nbfa0CsbDPW-"
   },
   "source": [
    "#### **7.3.7** Create variables for true positive, true negative, false positive and false negative <font color=\"red\">[1 Mark]</font>"
   ]
  },
  {
   "cell_type": "code",
   "execution_count": null,
   "metadata": {
    "id": "xAQncHXtDPW_"
   },
   "outputs": [],
   "source": [
    "# Create variables for true positive, true negative, false positive and false negative\n",
    "\n",
    "# Generate confusion matrix\n",
    "cm_final = confusion_matrix(validation_results['Actual_Fraud'], validation_results['Final_Prediction'])\n",
    "\n",
    "# Extract TN, FP, FN, TP\n",
    "tn_final, fp_final, fn_final, tp_final = cm_final.ravel()\n",
    "\n",
    "print(\"True Negatives (TN):\", tn_final)\n",
    "print(\"False Positives (FP):\", fp_final)\n",
    "print(\"False Negatives (FN):\", fn_final)\n",
    "print(\"True Positives (TP):\", tp_final)"
   ]
  },
  {
   "cell_type": "markdown",
   "metadata": {
    "id": "z7KXFHRnDPW_"
   },
   "source": [
    "#### **7.3.8** Calculate sensitivity, specificity, precision, recall and F1-score of the model <font color=\"red\">[2 Mark]</font>"
   ]
  },
  {
   "cell_type": "code",
   "execution_count": null,
   "metadata": {
    "id": "958ly8K8DPW_"
   },
   "outputs": [],
   "source": [
    "# Calculate the sensitivity\n",
    "sensitivity = tp / (tp + fn)\n",
    "\n",
    "# Calculate the specificity\n",
    "specificity = tn / (tn + fp)\n",
    "\n",
    "# Calculate Precision\n",
    "precision = tp / (tp + fp)\n",
    "\n",
    "# Calculate Recall\n",
    "recall = sensitivity\n",
    "\n",
    "# Calculate F1 Score\n",
    "f1_score = 2 * (precision * recall) / (precision + recall)\n",
    "\n",
    "print(\"Sensitivity (Recall):\", round(sensitivity, 4))\n",
    "print(\"Specificity:\", round(specificity, 4))\n",
    "print(\"Precision:\", round(precision, 4))\n",
    "print(\"Recall:\", round(recall, 4))\n",
    "print(\"F1 Score:\", round(f1_score, 4))"
   ]
  },
  {
   "cell_type": "markdown",
   "metadata": {
    "id": "_dNjDGtNDPXA"
   },
   "source": [
    "**Precision and Recall tradeoff**\n",
    "\n",
    "Check optimal cutoff value by plotting precision-recall curve, and adjust the cutoff based on precision and recall tradeoff if required."
   ]
  },
  {
   "cell_type": "code",
   "execution_count": null,
   "metadata": {
    "id": "HGKKbLQgDPXA"
   },
   "outputs": [],
   "source": [
    "# Import precision-recall curve function\n",
    "from sklearn.metrics import precision_recall_curve"
   ]
  },
  {
   "cell_type": "markdown",
   "metadata": {
    "id": "G4_-ZTXYDPXB"
   },
   "source": [
    "#### **7.3.9** Plot precision-recall curve <font color=\"red\">[1 Mark]</font>"
   ]
  },
  {
   "cell_type": "code",
   "execution_count": null,
   "metadata": {
    "id": "Wj2qr5FSDPXB"
   },
   "outputs": [],
   "source": [
    "# Plot precision-recall curve\n",
    "from sklearn.metrics import precision_recall_curve, average_precision_score\n",
    "import matplotlib.pyplot as plt\n",
    "\n",
    "# Get precision, recall values across thresholds\n",
    "precision, recall, thresholds = precision_recall_curve(train_results['Actual_Fraud'],\n",
    "                                                       train_results['Predicted_Probability'])\n",
    "\n",
    "# Calculate Average Precision Score (area under PR curve)\n",
    "avg_precision = average_precision_score(train_results['Actual_Fraud'],\n",
    "                                        train_results['Predicted_Probability'])\n",
    "\n",
    "# Plot Precision-Recall curve\n",
    "plt.figure(figsize=(8,6))\n",
    "plt.plot(recall, precision, marker='.', label=f'LogReg (AP={avg_precision:.2f})')\n",
    "plt.xlabel(\"Recall\")\n",
    "plt.ylabel(\"Precision\")\n",
    "plt.title(\"Precision-Recall Curve - Training Data\")\n",
    "plt.legend()\n",
    "plt.grid()\n",
    "plt.show()"
   ]
  },
  {
   "cell_type": "markdown",
   "metadata": {
    "id": "VdNY3cNPDPXB"
   },
   "source": [
    "### **7.4 Build Random Forest Model** <font color = red>[12 marks]</font>\n",
    "Now that you have built a logistic regression model, let's move on to building a random forest model."
   ]
  },
  {
   "cell_type": "markdown",
   "metadata": {
    "id": "sS2Hc10fDPXC"
   },
   "source": [
    "#### **7.4.1** Import necessary libraries"
   ]
  },
  {
   "cell_type": "code",
   "execution_count": null,
   "metadata": {
    "id": "S6duSoHlDPXC"
   },
   "outputs": [],
   "source": [
    "# Import necessary libraries\n",
    "from sklearn.ensemble import RandomForestClassifier\n",
    "from sklearn.metrics import classification_report\n",
    "from sklearn.model_selection import cross_val_score, GridSearchCV"
   ]
  },
  {
   "cell_type": "markdown",
   "metadata": {
    "id": "7Euc5ukLDPXC"
   },
   "source": [
    "#### **7.4.2** Build the random forest model <font color=\"red\">[1 Mark]</font>"
   ]
  },
  {
   "cell_type": "code",
   "execution_count": null,
   "metadata": {
    "id": "3ouCc_YFDPXC"
   },
   "outputs": [],
   "source": [
    "# Build a base random forest model\n",
    "\n",
    "from sklearn.metrics import roc_auc_score\n",
    "\n",
    "# Initialize Random Forest with default settings\n",
    "rf_model = RandomForestClassifier(random_state=42, class_weight='balanced')\n",
    "\n",
    "# Fit on training data\n",
    "rf_model.fit(X_train_dummies, y_train)\n",
    "\n",
    "# Predict on training data\n",
    "y_train_rf_preds = rf_model.predict(X_train_dummies)\n",
    "y_train_rf_probs = rf_model.predict_proba(X_train_dummies)[:, 1]\n",
    "\n",
    "# Evaluate model\n",
    "print(\"Random Forest Classification Report (Training Data):\")\n",
    "print(classification_report(y_train, y_train_rf_preds))\n",
    "\n",
    "print(\"ROC-AUC (Training Data):\", round(roc_auc_score(y_train, y_train_rf_probs), 4))"
   ]
  },
  {
   "cell_type": "markdown",
   "metadata": {
    "id": "wr3ExsTgUSKl"
   },
   "source": [
    "#### **7.4.3** Get feature importance scores and select important features <font color=\"red\">[2 Marks]</font>"
   ]
  },
  {
   "cell_type": "code",
   "execution_count": null,
   "metadata": {
    "id": "eSnQ3xQL__gV"
   },
   "outputs": [],
   "source": [
    "# Get feature importance scores from the trained model\n",
    "\n",
    "# Get feature importances\n",
    "feature_importances = pd.DataFrame({\n",
    "    'Feature': X_train_dummies.columns,\n",
    "    'Importance': rf_model.feature_importances_\n",
    "}).sort_values(by='Importance', ascending=False)\n",
    "\n",
    "# Display top 20 features\n",
    "print(feature_importances.head(20))\n",
    "# Create a DataFrame to visualise the importance scores\n",
    "plt.figure(figsize=(10,6))\n",
    "plt.barh(feature_importances['Feature'][:20], feature_importances['Importance'][:20])\n",
    "plt.gca().invert_yaxis()\n",
    "plt.title(\"Top 20 Feature Importances - Random Forest\")\n",
    "plt.xlabel(\"Importance Score\")\n",
    "plt.show()"
   ]
  },
  {
   "cell_type": "code",
   "execution_count": null,
   "metadata": {
    "id": "yQIR2yUqxNVI"
   },
   "outputs": [],
   "source": [
    "# Select features with high importance scores\n",
    "important_features = feature_importances[feature_importances['Importance'] > 0.01]['Feature'].tolist()\n",
    "\n",
    "print(\"Number of selected features:\", len(important_features))\n",
    "print(\"Selected features:\", important_features)\n",
    "# Create a new training data with only the selected features\n",
    "\n",
    "X_train_selected = X_train_dummies[important_features]\n",
    "X_val_selected = X_val_dummies[important_features]\n",
    "\n",
    "print(\"New Training Shape:\", X_train_selected.shape)\n",
    "print(\"New Validation Shape:\", X_val_selected.shape)"
   ]
  },
  {
   "cell_type": "markdown",
   "metadata": {
    "id": "wTzZ1YnhU9Dt"
   },
   "source": [
    "#### **7.4.4** Train the model with selected features <font color=\"red\">[1 Mark]</font>"
   ]
  },
  {
   "cell_type": "code",
   "execution_count": null,
   "metadata": {
    "id": "IeU6JcgJUnPs"
   },
   "outputs": [],
   "source": [
    "# Fit the model on the training data with selected features\n",
    "# Initialize Random Forest\n",
    "rf_selected = RandomForestClassifier(random_state=42, class_weight='balanced')\n",
    "\n",
    "# Fit model on training data with selected features\n",
    "rf_selected.fit(X_train_selected, y_train)\n",
    "\n",
    "# Predict on training data\n",
    "y_train_rf_sel_preds = rf_selected.predict(X_train_selected)\n",
    "y_train_rf_sel_probs = rf_selected.predict_proba(X_train_selected)[:, 1]\n",
    "\n",
    "# Evaluate performance\n",
    "print(\"Random Forest (Selected Features) - Training Data\")\n",
    "print(classification_report(y_train, y_train_rf_sel_preds))\n",
    "print(\"ROC-AUC:\", round(roc_auc_score(y_train, y_train_rf_sel_probs), 4))"
   ]
  },
  {
   "cell_type": "markdown",
   "metadata": {
    "id": "g_5Fk-9bDPXG"
   },
   "source": [
    "#### **7.4.5** Generate predictions on the training data <font color=\"red\">[1 Mark]</font>"
   ]
  },
  {
   "cell_type": "code",
   "execution_count": null,
   "metadata": {
    "id": "TO6AGoPFDPXG"
   },
   "outputs": [],
   "source": [
    "# Generate predictions on training data\n",
    "# Predict class labels on training data\n",
    "y_train_rf_sel_preds = rf_selected.predict(X_train_selected)\n",
    "\n",
    "# Predict probabilities on training data (fraud = class 1)\n",
    "y_train_rf_sel_probs = rf_selected.predict_proba(X_train_selected)[:, 1]\n",
    "\n",
    "# Show first 10 predictions\n",
    "print(\"Predicted Classes:\", y_train_rf_sel_preds[:10])\n",
    "print(\"Predicted Probabilities:\", y_train_rf_sel_probs[:10])"
   ]
  },
  {
   "cell_type": "markdown",
   "metadata": {
    "id": "I5ApUsKlDPXH"
   },
   "source": [
    "#### **7.4.6** Check accuracy of the model <font color=\"red\">[1 Mark]</font>"
   ]
  },
  {
   "cell_type": "code",
   "execution_count": null,
   "metadata": {
    "id": "t2zmn36dDPXH"
   },
   "outputs": [],
   "source": [
    "# Check accuracy of the model\n",
    "from sklearn.metrics import accuracy_score\n",
    "\n",
    "# Calculate accuracy\n",
    "accuracy = accuracy_score(y_train, y_train_rf_sel_preds)\n",
    "\n",
    "print(\"Training Accuracy:\", accuracy)"
   ]
  },
  {
   "cell_type": "markdown",
   "metadata": {
    "id": "Z_e5FElrDPXH"
   },
   "source": [
    "#### **7.4.7** Create confusion matrix <font color=\"red\">[1 Mark]</font>"
   ]
  },
  {
   "cell_type": "code",
   "execution_count": null,
   "metadata": {
    "id": "NJIGPNTaDPXI"
   },
   "outputs": [],
   "source": [
    "# Create the confusion matrix to visualise the performance\n",
    "\n",
    "# Generate confusion matrix\n",
    "cm = confusion_matrix(y_train, y_train_rf_sel_preds)\n",
    "\n",
    "# Display confusion matrix\n",
    "disp = ConfusionMatrixDisplay(confusion_matrix=cm, display_labels=[0, 1])\n",
    "disp.plot(cmap=\"Blues\", values_format=\"d\")\n",
    "plt.title(\"Confusion Matrix - Random Forest (Training Data)\")\n",
    "plt.show()"
   ]
  },
  {
   "cell_type": "markdown",
   "metadata": {
    "id": "rY3mFM8CDPXI"
   },
   "source": [
    "#### **7.4.8** Create variables for true positive, true negative, false positive and false negative <font color=\"red\">[1 Mark]</font>"
   ]
  },
  {
   "cell_type": "code",
   "execution_count": null,
   "metadata": {
    "id": "l9Ehc0vcDPXI"
   },
   "outputs": [],
   "source": [
    "# Create variables for true positive, true negative, false positive and false negative\n",
    "\n",
    "\n",
    "# Generate confusion matrix\n",
    "cm = confusion_matrix(y_train, y_train_rf_sel_preds)\n",
    "\n",
    "# Extract TN, FP, FN, TP\n",
    "tn, fp, fn, tp = cm.ravel()\n",
    "\n",
    "print(\"True Negatives (TN):\", tn)\n",
    "print(\"False Positives (FP):\", fp)\n",
    "print(\"False Negatives (FN):\", fn)\n",
    "print(\"True Positives (TP):\", tp)"
   ]
  },
  {
   "cell_type": "markdown",
   "metadata": {
    "id": "_NSOsFxRDPXJ"
   },
   "source": [
    "#### **7.4.9** Calculate sensitivity, specificity, precision, recall and F1-score of the model <font color=\"red\">[2 Marks]</font>"
   ]
  },
  {
   "cell_type": "code",
   "execution_count": null,
   "metadata": {
    "id": "M3wJsKu3DPXJ"
   },
   "outputs": [],
   "source": [
    "# Sensitivity (a.k.a. Recall, True Positive Rate)\n",
    "sensitivity = tp / (tp + fn)\n",
    "\n",
    "# Specificity (True Negative Rate)\n",
    "specificity = tn / (tn + fp)\n",
    "\n",
    "# Precision (Positive Predictive Value)\n",
    "precision = tp / (tp + fp)\n",
    "\n",
    "# Recall (same as Sensitivity)\n",
    "recall = sensitivity\n",
    "\n",
    "# F1 Score (harmonic mean of Precision and Recall)\n",
    "f1_score = 2 * (precision * recall) / (precision + recall)\n",
    "\n",
    "print(\"Sensitivity (Recall):\", round(sensitivity, 4))\n",
    "print(\"Specificity:\", round(specificity, 4))\n",
    "print(\"Precision:\", round(precision, 4))\n",
    "print(\"Recall:\", round(recall, 4))\n",
    "print(\"F1 Score:\", round(f1_score, 4))"
   ]
  },
  {
   "cell_type": "markdown",
   "metadata": {
    "id": "b6Jax54VDPXJ"
   },
   "source": [
    "#### **7.4.10** Check if the model is overfitting training data using cross validation <font color = \"red\">[2 marks]</font>"
   ]
  },
  {
   "cell_type": "code",
   "execution_count": null,
   "metadata": {
    "id": "42-huob6DPXJ"
   },
   "outputs": [],
   "source": [
    "# Use cross validation to check if the model is overfitting\n",
    "from sklearn.model_selection import cross_val_score, StratifiedKFold\n",
    "from sklearn.ensemble import RandomForestClassifier\n",
    "import numpy as np\n",
    "\n",
    "# Initialize Random Forest with the same params\n",
    "rf_cv = RandomForestClassifier(random_state=42, class_weight='balanced')\n",
    "\n",
    "# Stratified 5-fold cross-validation\n",
    "cv = StratifiedKFold(n_splits=5, shuffle=True, random_state=42)\n",
    "\n",
    "# Compute cross-validation scores (ROC-AUC is more meaningful for imbalance)\n",
    "cv_scores = cross_val_score(rf_cv, X_train_selected, y_train, cv=cv, scoring='roc_auc')\n",
    "\n",
    "print(\"Cross-Validation ROC-AUC Scores:\", cv_scores)\n",
    "print(\"Mean ROC-AUC:\", round(np.mean(cv_scores), 4))\n",
    "print(\"Std Dev ROC-AUC:\", round(np.std(cv_scores), 4))"
   ]
  },
  {
   "cell_type": "markdown",
   "metadata": {
    "id": "sNxYrAKZDPXJ"
   },
   "source": [
    "### **7.5 Hyperparameter Tuning** <font color = red>[10 Marks]</font>\n",
    " Enhance the performance of the random forest model by systematically exploring and selecting optimal hyperparameter values using grid search."
   ]
  },
  {
   "cell_type": "markdown",
   "metadata": {
    "id": "UnBcYjbQDPXK"
   },
   "source": [
    "#### **7.5.1** Use grid search to find the best hyperparameter values <font color = red>[2 Marks]</font>"
   ]
  },
  {
   "cell_type": "code",
   "execution_count": null,
   "metadata": {
    "id": "LTLCDfb4DPXK"
   },
   "outputs": [],
   "source": [
    "# Use grid search to find the best hyperparamter values\n",
    "\n",
    "# Best Hyperparameters\n",
    "from sklearn.model_selection import GridSearchCV\n",
    "from sklearn.ensemble import RandomForestClassifier\n",
    "\n",
    "# Define the parameter grid\n",
    "param_grid = {\n",
    "    'n_estimators': [100, 200, 300],         # number of trees\n",
    "    'max_depth': [None, 10, 20, 30],        # depth of trees\n",
    "    'min_samples_split': [2, 5, 10],        # min samples to split a node\n",
    "    'min_samples_leaf': [1, 2, 4],          # min samples at leaf\n",
    "    'max_features': ['sqrt', 'log2']        # number of features to consider at split\n",
    "}\n",
    "\n",
    "# Initialize Random Forest\n",
    "rf_model = RandomForestClassifier(random_state=42, class_weight='balanced')\n",
    "\n",
    "# Setup GridSearchCV\n",
    "grid_search = GridSearchCV(\n",
    "    estimator=rf_model,\n",
    "    param_grid=param_grid,\n",
    "    cv=5,\n",
    "    scoring='roc_auc',   # better for imbalance\n",
    "    n_jobs=-1,\n",
    "    verbose=2\n",
    ")\n",
    "\n",
    "# Fit GridSearch\n",
    "grid_search.fit(X_train_selected, y_train)\n",
    "\n",
    "# Best parameters and score\n",
    "print(\"Best Parameters:\", grid_search.best_params_)\n",
    "print(\"Best ROC-AUC Score:\", round(grid_search.best_score_, 4))"
   ]
  },
  {
   "cell_type": "markdown",
   "metadata": {
    "id": "vrGoY46TDPXK"
   },
   "source": [
    "#### **7.5.2** Build a random forest model based on hyperparameter tuning results <font color = red>[1 Mark]</font>"
   ]
  },
  {
   "cell_type": "code",
   "execution_count": null,
   "metadata": {
    "id": "2yxPaaDxDPXK"
   },
   "outputs": [],
   "source": [
    "# Building random forest model based on results of hyperparameter tuning\n",
    "\n",
    "# Build the Random Forest model using best params from grid search\n",
    "best_rf_model = RandomForestClassifier(\n",
    "    n_estimators=grid_search.best_params_['n_estimators'],\n",
    "    max_depth=grid_search.best_params_['max_depth'],\n",
    "    min_samples_split=grid_search.best_params_['min_samples_split'],\n",
    "    min_samples_leaf=grid_search.best_params_['min_samples_leaf'],\n",
    "    max_features=grid_search.best_params_['max_features'],\n",
    "    random_state=42,\n",
    "    class_weight='balanced'\n",
    ")\n",
    "\n",
    "# Fit on training data\n",
    "best_rf_model.fit(X_train_selected, y_train)\n",
    "\n",
    "# Predictions on training data\n",
    "y_train_best_preds = best_rf_model.predict(X_train_selected)\n",
    "y_train_best_probs = best_rf_model.predict_proba(X_train_selected)[:, 1]\n",
    "\n",
    "# Evaluate performance\n",
    "print(\"Optimized Random Forest - Training Data\")\n",
    "print(classification_report(y_train, y_train_best_preds))\n",
    "print(\"ROC-AUC:\", round(roc_auc_score(y_train, y_train_best_probs), 4))"
   ]
  },
  {
   "cell_type": "markdown",
   "metadata": {
    "id": "IJ4gQ2m0DPXK"
   },
   "source": [
    "#### **7.5.3** Make predictions on training data <font color = red>[1 Mark]</font>"
   ]
  },
  {
   "cell_type": "code",
   "execution_count": null,
   "metadata": {
    "id": "hTE3p2rCDPXL"
   },
   "outputs": [],
   "source": [
    "# Make predictions on training data\n",
    "# Predict class labels on training data\n",
    "y_train_best_preds = best_rf_model.predict(X_train_selected)\n",
    "\n",
    "# Predict fraud probabilities on training data (fraud = class 1)\n",
    "y_train_best_probs = best_rf_model.predict_proba(X_train_selected)[:, 1]\n",
    "\n",
    "# Show first 10 predictions\n",
    "print(\"Predicted Classes:\", y_train_best_preds[:10])\n",
    "print(\"Predicted Probabilities:\", y_train_best_probs[:10])"
   ]
  },
  {
   "cell_type": "markdown",
   "metadata": {
    "id": "fbfSJpEuDPXL"
   },
   "source": [
    "#### **7.5.4** Check accuracy of Random Forest Model <font color = red>[1 Mark]</font>"
   ]
  },
  {
   "cell_type": "code",
   "execution_count": null,
   "metadata": {
    "id": "ItpV-JYkDPXL"
   },
   "outputs": [],
   "source": [
    "# Check the accuracy\n",
    "# Calculate accuracy\n",
    "train_accuracy = accuracy_score(y_train, y_train_best_preds)\n",
    "\n",
    "print(\"Training Accuracy:\", round(train_accuracy, 4))"
   ]
  },
  {
   "cell_type": "markdown",
   "metadata": {
    "id": "l-t6Hme3DPXL"
   },
   "source": [
    "#### **7.5.5** Create confusion matrix <font color = red>[1 Mark]</font>"
   ]
  },
  {
   "cell_type": "code",
   "execution_count": null,
   "metadata": {
    "id": "MdteUZXzDPXL"
   },
   "outputs": [],
   "source": [
    "# Create the confusion matrix\n",
    "# Generate confusion matrix\n",
    "cm = confusion_matrix(y_train, y_train_best_preds)\n",
    "\n",
    "# Display confusion matrix\n",
    "disp = ConfusionMatrixDisplay(confusion_matrix=cm, display_labels=[0, 1])\n",
    "disp.plot(cmap=\"Blues\", values_format=\"d\")\n",
    "plt.title(\"Confusion Matrix - Optimized Random Forest (Training Data)\")\n",
    "plt.show()"
   ]
  },
  {
   "cell_type": "markdown",
   "metadata": {
    "id": "jEUtsRafDPXL"
   },
   "source": [
    "#### **7.5.6** Create variables for true positive, true negative, false positive and false negative <font color = red>[1 Mark]</font>"
   ]
  },
  {
   "cell_type": "code",
   "execution_count": null,
   "metadata": {
    "id": "0aeUhFSWDPXM"
   },
   "outputs": [],
   "source": [
    "# Create variables for true positive, true negative, false positive and false negative\n",
    "cm = confusion_matrix(y_train, y_train_best_preds)\n",
    "\n",
    "# Extract TN, FP, FN, TP\n",
    "tn, fp, fn, tp = cm.ravel()\n",
    "\n",
    "print(\"True Negatives (TN):\", tn)\n",
    "print(\"False Positives (FP):\", fp)\n",
    "print(\"False Negatives (FN):\", fn)\n",
    "print(\"True Positives (TP):\", tp)"
   ]
  },
  {
   "cell_type": "markdown",
   "metadata": {
    "id": "nwDnBdjnDPXM"
   },
   "source": [
    "#### **7.5.7** Calculate sensitivity, specificity, precision, recall and F1-score of the model <font color = red>[3 Marks]</font>"
   ]
  },
  {
   "cell_type": "code",
   "execution_count": null,
   "metadata": {
    "id": "KxPHj1NjDPXM"
   },
   "outputs": [],
   "source": [
    "# Calculate the sensitivity\n",
    "sensitivity = tp / (tp + fn)\n",
    "\n",
    "# Calculate the specificity\n",
    "specificity = tn / (tn + fp)\n",
    "\n",
    "# Calculate Precision\n",
    "precision = tp / (tp + fp)\n",
    "\n",
    "# Calculate Recall\n",
    "recall = sensitivity\n",
    "\n",
    "\n",
    "# Calculate F1-Score\n",
    "f1_score = 2 * (precision * recall) / (precision + recall)\n",
    "\n",
    "print(\"Sensitivity (Recall):\", round(sensitivity, 4))\n",
    "print(\"Specificity:\", round(specificity, 4))\n",
    "print(\"Precision:\", round(precision, 4))\n",
    "print(\"Recall:\", round(recall, 4))\n",
    "print(\"F1 Score:\", round(f1_score, 4))"
   ]
  },
  {
   "cell_type": "markdown",
   "metadata": {
    "id": "yUEvyADyDPXM"
   },
   "source": [
    "## **8. Prediction and Model Evaluation** <font color = red>[20 marks]</font>\n",
    "Use the model from the previous step to make predictions on the validation data with the optimal cutoff. Then evaluate the model's performance using metrics such as accuracy, sensitivity, specificity, precision, and recall."
   ]
  },
  {
   "cell_type": "markdown",
   "metadata": {
    "id": "EQuMB-P1DPXM"
   },
   "source": [
    "### **8.1 Make predictions over validation data using logistic regression model** <font color = red>[10 marks]</font>"
   ]
  },
  {
   "cell_type": "markdown",
   "metadata": {
    "id": "Wuz5v3TYDPXM"
   },
   "source": [
    "#### **8.1.1** Select relevant features for validation data and add constant <font color=\"red\">[1 Mark]</font>"
   ]
  },
  {
   "cell_type": "code",
   "execution_count": null,
   "metadata": {
    "id": "_AbB-x3aDPXM"
   },
   "outputs": [],
   "source": [
    "# Select the relevant features for validation data\n",
    "X_val_selected = X_val_dummies[important_features]\n",
    "\n",
    "# Add constant to X_validation\n",
    "X_val_sm = sm.add_constant(X_val_selected)\n",
    "\n",
    "print(\"Validation Shape with Selected Features + Constant:\", X_val_sm.shape)\n",
    "X_val_sm.head()"
   ]
  },
  {
   "cell_type": "markdown",
   "metadata": {
    "id": "pzpawlMLDPXM"
   },
   "source": [
    "#### **8.1.2** Make predictions over validation data <font color=\"red\">[1 Mark]</font>"
   ]
  },
  {
   "cell_type": "code",
   "execution_count": null,
   "metadata": {
    "id": "9CmoAZJODPXM"
   },
   "outputs": [],
   "source": [
    "# Make predictions on the validation data and store it in the variable 'y_validation_pred'\n",
    "# Predict fraud classes on validation data\n",
    "y_validation_pred = best_rf_model.predict(X_val_selected)\n",
    "\n",
    "# Show first 10 predictions\n",
    "print(\"Validation Predictions:\", y_validation_pred[:10])"
   ]
  },
  {
   "cell_type": "markdown",
   "metadata": {
    "id": "r8qyn8xvDPXM"
   },
   "source": [
    "#### **8.1.3** Create DataFrame with actual values and predicted values for validation data <font color=\"red\">[2 Marks]</font>"
   ]
  },
  {
   "cell_type": "code",
   "execution_count": null,
   "metadata": {
    "id": "9Zx8RBFVDPXN"
   },
   "outputs": [],
   "source": [
    "#  Create DataFrame with actual values and predicted values for validation data\n",
    "# Create DataFrame with actual and predicted values\n",
    "validation_results = pd.DataFrame({\n",
    "    'Actual_Fraud': y_val.values,\n",
    "    'Predicted_Fraud': y_validation_pred\n",
    "})\n",
    "\n",
    "# Show first 10 rows\n",
    "print(validation_results.head(10))"
   ]
  },
  {
   "cell_type": "markdown",
   "metadata": {
    "id": "G_kC6wEPDPXN"
   },
   "source": [
    "#### **8.1.4** Make final prediction based on cutoff value <font color=\"red\">[1 Mark]</font>"
   ]
  },
  {
   "cell_type": "code",
   "execution_count": null,
   "metadata": {
    "id": "4ge-EC74DPXN"
   },
   "outputs": [],
   "source": [
    "# Make final predictions on the validation data using the optimal cutoff\n",
    "from sklearn.metrics import roc_curve\n",
    "\n",
    "# Get predicted probabilities for fraud (class 1) on validation data\n",
    "y_val_probs = best_rf_model.predict_proba(X_val_selected)[:, 1]\n",
    "\n",
    "# Compute ROC curve\n",
    "fpr, tpr, thresholds = roc_curve(y_val, y_val_probs)\n",
    "\n",
    "# Compute Youden’s J statistic\n",
    "youden_j = tpr - fpr\n",
    "optimal_idx = np.argmax(youden_j)\n",
    "optimal_cutoff = thresholds[optimal_idx]\n",
    "\n",
    "print(\"Optimal Cutoff:\", round(optimal_cutoff, 4))\n",
    "\n",
    "# Make final predictions based on optimal cutoff\n",
    "y_val_final_preds = (y_val_probs >= optimal_cutoff).astype(int)\n",
    "\n",
    "# Add to results DataFrame\n",
    "validation_results['Predicted_Probability'] = y_val_probs\n",
    "validation_results['Final_Prediction'] = y_val_final_preds\n",
    "\n",
    "# Show first 10 rows\n",
    "print(validation_results.head(10))"
   ]
  },
  {
   "cell_type": "markdown",
   "metadata": {
    "id": "bt7sm55QDPXN"
   },
   "source": [
    "#### **8.1.5** Check the accuracy of logistic regression model on validation data <font color=\"red\">[1 Mark]</font>"
   ]
  },
  {
   "cell_type": "code",
   "execution_count": null,
   "metadata": {
    "id": "81tEKwwsDPXN"
   },
   "outputs": [],
   "source": [
    "# Check the accuracy\n",
    "from sklearn.metrics import accuracy_score\n",
    "\n",
    "# Calculate accuracy on validation data\n",
    "val_accuracy = accuracy_score(y_val, y_val_final_preds)\n",
    "\n",
    "print(\"Validation Accuracy:\", round(val_accuracy, 4))"
   ]
  },
  {
   "cell_type": "markdown",
   "metadata": {
    "id": "RE8ZnagdDPXN"
   },
   "source": [
    "#### **8.1.6** Create confusion matrix <font color=\"red\">[1 Mark]</font>"
   ]
  },
  {
   "cell_type": "code",
   "execution_count": null,
   "metadata": {
    "id": "NjkkexqrDPXN"
   },
   "outputs": [],
   "source": [
    "# Create the confusion matrix\n",
    "\n",
    "# Generate confusion matrix\n",
    "cm_val = confusion_matrix(y_val, y_val_final_preds)\n",
    "\n",
    "# Display confusion matrix\n",
    "disp = ConfusionMatrixDisplay(confusion_matrix=cm_val, display_labels=[0, 1])\n",
    "disp.plot(cmap=\"Blues\", values_format=\"d\")\n",
    "plt.title(\"Confusion Matrix - Optimized Random Forest (Validation Data)\")\n",
    "plt.show()"
   ]
  },
  {
   "cell_type": "markdown",
   "metadata": {
    "id": "SSqBZOrYDPXN"
   },
   "source": [
    "#### **8.1.7** Create variables for true positive, true negative, false positive and false negative <font color=\"red\">[1 Mark]</font>"
   ]
  },
  {
   "cell_type": "code",
   "execution_count": null,
   "metadata": {
    "id": "NzH_sFeoDPXN"
   },
   "outputs": [],
   "source": [
    "# Create variables for true positive, true negative, false positive and false negative\n",
    "# Generate confusion matrix\n",
    "cm_val = confusion_matrix(y_val, y_val_final_preds)\n",
    "\n",
    "# Extract TN, FP, FN, TP\n",
    "tn_val, fp_val, fn_val, tp_val = cm_val.ravel()\n",
    "\n",
    "print(\"True Negatives (TN):\", tn_val)\n",
    "print(\"False Positives (FP):\", fp_val)\n",
    "print(\"False Negatives (FN):\", fn_val)\n",
    "print(\"True Positives (TP):\", tp_val)"
   ]
  },
  {
   "cell_type": "markdown",
   "metadata": {
    "id": "_Mkn6DUwDPXN"
   },
   "source": [
    "#### **8.1.8** Calculate sensitivity, specificity, precision, recall and f1 score of the model <font color=\"red\">[2 Marks]</font>"
   ]
  },
  {
   "cell_type": "code",
   "execution_count": null,
   "metadata": {
    "id": "FCqNW4t3DPXO"
   },
   "outputs": [],
   "source": [
    "# Calculate the sensitivity\n",
    "sensitivity_val = tp_val / (tp_val + fn_val)\n",
    "\n",
    "# Calculate the specificity\n",
    "specificity_val = tn_val / (tn_val + fp_val)\n",
    "\n",
    "# Calculate Precision\n",
    "precision_val = tp_val / (tp_val + fp_val)\n",
    "\n",
    "# Calculate Recall\n",
    "recall_val = sensitivity_val\n",
    "\n",
    "# Calculate F1 Score\n",
    "f1_score_val = 2 * (precision_val * recall_val) / (precision_val + recall_val)\n",
    "\n",
    "print(\"Validation Sensitivity (Recall):\", round(sensitivity_val, 4))\n",
    "print(\"Validation Specificity:\", round(specificity_val, 4))\n",
    "print(\"Validation Precision:\", round(precision_val, 4))\n",
    "print(\"Validation Recall:\", round(recall_val, 4))\n",
    "print(\"Validation F1 Score:\", round(f1_score_val, 4))"
   ]
  },
  {
   "cell_type": "markdown",
   "metadata": {
    "id": "1wTVm8V_DPXO"
   },
   "source": [
    "### **8.2 Make predictions over validation data using random forest model** <font color = red>[10 marks]</font>"
   ]
  },
  {
   "cell_type": "markdown",
   "metadata": {
    "id": "UDgbDTfIDPXO"
   },
   "source": [
    "#### **8.2.1** Select the important features and make predictions over validation data <font color=\"red\">[2 Marks]</font>"
   ]
  },
  {
   "cell_type": "code",
   "execution_count": null,
   "metadata": {
    "id": "RhtKprsQDPXO"
   },
   "outputs": [],
   "source": [
    "# Select the relevant features for validation data\n",
    "X_val_selected = X_val_dummies[important_features]\n",
    "# Make predictions on the validation data\n",
    "y_val_preds = best_rf_model.predict(X_val_selected)\n",
    "\n",
    "# Predict fraud probabilities (fraud = class 1)\n",
    "y_val_probs = best_rf_model.predict_proba(X_val_selected)[:, 1]\n",
    "\n",
    "# Show first 10 predictions\n",
    "print(\"Predicted Classes:\", y_val_preds[:10])\n",
    "print(\"Predicted Probabilities:\", y_val_probs[:10])"
   ]
  },
  {
   "cell_type": "markdown",
   "metadata": {
    "id": "bUbtP7CADPXO"
   },
   "source": [
    "#### **8.2.2** Check accuracy of random forest model <font color=\"red\">[1 Mark]</font>"
   ]
  },
  {
   "cell_type": "code",
   "execution_count": null,
   "metadata": {
    "id": "bJyVOpLlDPXO"
   },
   "outputs": [],
   "source": [
    "# Check accuracy\n",
    "# Calculate accuracy on validation data\n",
    "val_accuracy = accuracy_score(y_val, y_val_preds)\n",
    "\n",
    "print(\"Validation Accuracy:\", round(val_accuracy, 4))"
   ]
  },
  {
   "cell_type": "markdown",
   "metadata": {
    "id": "spUa4VBfDPXO"
   },
   "source": [
    "#### **8.2.3** Create confusion matrix <font color=\"red\">[1 Mark]</font>"
   ]
  },
  {
   "cell_type": "code",
   "execution_count": null,
   "metadata": {
    "id": "eXJVNVrSDPXO"
   },
   "outputs": [],
   "source": [
    "# Create the confusion matrix\n",
    "# Generate confusion matrix\n",
    "cm_val = confusion_matrix(y_val, y_val_preds)\n",
    "\n",
    "# Display confusion matrix\n",
    "disp = ConfusionMatrixDisplay(confusion_matrix=cm_val, display_labels=[0, 1])\n",
    "disp.plot(cmap=\"Blues\", values_format=\"d\")\n",
    "plt.title(\"Confusion Matrix - Random Forest (Validation Data)\")\n",
    "plt.show()"
   ]
  },
  {
   "cell_type": "markdown",
   "metadata": {
    "id": "HuUdgVYSDPXO"
   },
   "source": [
    "#### **8.2.4** Create variables for true positive, true negative, false positive and false negative <font color=\"red\">[1 Mark]</font>"
   ]
  },
  {
   "cell_type": "code",
   "execution_count": null,
   "metadata": {
    "id": "UT7lU5CWDPXO"
   },
   "outputs": [],
   "source": [
    "# Create variables for true positive, true negative, false positive and false negative\n",
    "# Generate confusion matrix\n",
    "cm_val = confusion_matrix(y_val, y_val_preds)\n",
    "\n",
    "# Extract TN, FP, FN, TP\n",
    "tn_val, fp_val, fn_val, tp_val = cm_val.ravel()\n",
    "\n",
    "print(\"True Negatives (TN):\", tn_val)\n",
    "print(\"False Positives (FP):\", fp_val)\n",
    "print(\"False Negatives (FN):\", fn_val)\n",
    "print(\"True Positives (TP):\", tp_val)"
   ]
  },
  {
   "cell_type": "markdown",
   "metadata": {
    "id": "YAjovvF4DPXO"
   },
   "source": [
    "#### **8.2.5** Calculate sensitivity, specificity, precision, recall and F1-score of the model <font color=\"red\">[5 Marks]</font>"
   ]
  },
  {
   "cell_type": "code",
   "execution_count": null,
   "metadata": {
    "id": "C1PYzDaWDPXO"
   },
   "outputs": [],
   "source": [
    "# Calculate Sensitivity\n",
    "sensitivity_val = tp_val / (tp_val + fn_val)\n",
    "\n",
    "# Calculate Specificity\n",
    "specificity_val = tn_val / (tn_val + fp_val)\n",
    "\n",
    "# Calculate Precision\n",
    "precision_val = tp_val / (tp_val + fp_val)\n",
    "\n",
    "# Calculate Recall\n",
    "recall_val = sensitivity_val\n",
    "\n",
    "\n",
    "# Calculate F1-score\n",
    "f1_score_val = 2 * (precision_val * recall_val) / (precision_val + recall_val)\n",
    "\n",
    "\n",
    "print(\"Validation Sensitivity (Recall):\", round(sensitivity_val, 4))\n",
    "print(\"Validation Specificity:\", round(specificity_val, 4))\n",
    "print(\"Validation Precision:\", round(precision_val, 4))\n",
    "print(\"Validation Recall:\", round(recall_val, 4))\n",
    "print(\"Validation F1 Score:\", round(f1_score_val, 4))"
   ]
  },
  {
   "cell_type": "markdown",
   "metadata": {
    "id": "nENAdFWhDPXP"
   },
   "source": [
    "## **Evaluation and Conclusion**\n",
    "\n",
    "\n",
    "1️⃣ Logistic Regression Model\n",
    "🔍 Evaluation Results\n",
    "\n",
    "Accuracy (Validation): 0.7902 \n",
    "\n",
    "Sensitivity (Recall): Moderate → Catches a fair number of fraud cases but not as strong as Random Forest.\n",
    "\n",
    "Specificity: High → Good at identifying non-fraudulent claims.\n",
    "\n",
    "Precision: Lower than Random Forest → More false positives.\n",
    "\n",
    "F1 Score: Balanced but slightly weaker overall.\n",
    "\n",
    "\n",
    "📌 Interpretation\n",
    "\n",
    "Logistic Regression is simpler, interpretable, and useful for understanding which factors influence fraud (through coefficients).\n",
    "\n",
    "However, it struggles with the non-linear relationships in the data, leading to weaker performance compared to Random Forest.\n",
    "\n",
    "2️⃣ Random Forest Model\n",
    "🔍 Evaluation Results (with Optimal Cutoff)\n",
    "\n",
    "Accuracy (Validation): 0.7832\n",
    "\n",
    "Sensitivity (Recall): → Excellent at detecting fraudulent claims.\n",
    "\n",
    "Specificity:  → Good at identifying genuine claims.\n",
    "\n",
    "Precision: → A majority of fraud predictions are correct, though false positives still exist.\n",
    "\n",
    "F1 Score:  → Strong balance between Precision and Recall.\n",
    "\n",
    "AUC Score: High (replace with calculated value) → Very good discriminatory power.\n",
    "\n",
    "📌 Interpretation\n",
    "\n",
    "Random Forest is more powerful and flexible than Logistic Regression, handling complex patterns and interactions between features.\n",
    "\n",
    "After hyperparameter tuning and feature selection, the model shows balanced performance with strong recall and acceptable precision.\n",
    "\n",
    "Using an optimal cutoff significantly improved the balance between fraud detection (recall) and false alarms (precision).\n",
    "\n",
    "⚖️ Comparison\n",
    "\n",
    "Logistic Regression:\n",
    "\n",
    "✅ Interpretable, lightweight, good baseline.\n",
    "\n",
    "❌ Lower recall and F1-score, limited in capturing fraud complexity.\n",
    "\n",
    "Random Forest:\n",
    "\n",
    "✅ Strong recall, higher AUC, better overall fraud detection.\n",
    "\n",
    "❌ Less interpretable, some false positives, but a practical trade-off.\n",
    "\n",
    "🏆 Final Conclusion\n",
    "\n",
    "The Random Forest model outperforms Logistic Regression in fraud detection by a significant margin, especially in recall and F1-score, which are critical for minimizing missed fraud.\n",
    "\n",
    "Recommendation: Deploy the Random Forest model with an optimal cutoff as the primary fraud detection tool. Logistic Regression can still be useful as a benchmark or explainability model alongside it."
   ]
  }
 ],
 "metadata": {
  "colab": {
   "provenance": [
    {
     "file_id": "1SIhxHs7kl3qt0VU3gGAAt_k_NQTvuqmc",
     "timestamp": 1740041215388
    },
    {
     "file_id": "1wef6jk_PrklarfJ5GA9FoyCAiKkArPCw",
     "timestamp": 1739780524071
    }
   ],
   "toc_visible": true
  },
  "kernelspec": {
   "display_name": "Python [conda env:base] *",
   "language": "python",
   "name": "conda-base-py"
  },
  "language_info": {
   "codemirror_mode": {
    "name": "ipython",
    "version": 3
   },
   "file_extension": ".py",
   "mimetype": "text/x-python",
   "name": "python",
   "nbconvert_exporter": "python",
   "pygments_lexer": "ipython3",
   "version": "3.12.7"
  }
 },
 "nbformat": 4,
 "nbformat_minor": 4
}
